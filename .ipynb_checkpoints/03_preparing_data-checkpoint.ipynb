{
 "cells": [
  {
   "cell_type": "code",
   "execution_count": null,
   "id": "9cea3d0f",
   "metadata": {},
   "outputs": [],
   "source": []
  },
  {
   "cell_type": "code",
   "execution_count": 2,
   "id": "9afdb745",
   "metadata": {},
   "outputs": [],
   "source": [
    "import pandas as pd"
   ]
  },
  {
   "cell_type": "markdown",
   "id": "89628457",
   "metadata": {},
   "source": [
    "In der Folge werden keine Regionen oder Gruppierungen von Ländern und nur die Jahre ab 1990 betrachtet. Von dem verbliebenen Datensatz werden nur jene Indikatoren behalten, die mindesten 20% gefüllt sind.\n"
   ]
  },
  {
   "cell_type": "code",
   "execution_count": 3,
   "id": "983747de",
   "metadata": {},
   "outputs": [],
   "source": [
    "def reset_base():\n",
    "    pd.set_option('display.float_format', lambda x: '%.4f' % x)\n",
    "\n",
    "    base= pd.read_csv('../Data/WDIData.csv') #see downloads worldbank\n",
    "    base = base.drop(['Country Code', 'Indicator Code', 'Unnamed: 66'], axis=1) #name of column 'Unnamed: 66' may differ\n",
    "\n",
    "    countries = pd.read_csv('additional_data/countries.csv').drop('Unnamed: 0', axis=1)\n",
    "    base = pd.merge(base, countries, how='left')\n",
    "    base = base.loc[base['Type'] != 'Region'].drop('Type', axis=1)\n",
    "\n",
    "    base = base.set_index(['Country Name', 'Indicator Name'])\n",
    "    base = base.loc[:, '1990':'2020']\n",
    "\n",
    "    idx = pd.IndexSlice\n",
    "    keep = pd.DataFrame(pd.DataFrame(base.isna().groupby('Indicator Name').sum()).T.sum(), columns=['NaN'])\n",
    "    keep = keep.loc[keep['NaN'] <len(base.index.get_level_values('Country Name').unique())*len(base.columns)*0.8] #kept if 80% of entries are not NaN\n",
    "    base = base.loc[idx[:, keep.index], :]\n",
    "    return base\n",
    "\n",
    "base = reset_base()"
   ]
  },
  {
   "cell_type": "code",
   "execution_count": 4,
   "id": "91b56b65",
   "metadata": {},
   "outputs": [
    {
     "ename": "NameError",
     "evalue": "name 'np' is not defined",
     "output_type": "error",
     "traceback": [
      "\u001b[1;31m---------------------------------------------------------------------------\u001b[0m",
      "\u001b[1;31mNameError\u001b[0m                                 Traceback (most recent call last)",
      "Input \u001b[1;32mIn [4]\u001b[0m, in \u001b[0;36m<cell line: 18>\u001b[1;34m()\u001b[0m\n\u001b[0;32m     15\u001b[0m     new\u001b[38;5;241m.\u001b[39mdrop([\u001b[38;5;124m'\u001b[39m\u001b[38;5;124mUnnamed: 0\u001b[39m\u001b[38;5;124m'\u001b[39m, \u001b[38;5;124m'\u001b[39m\u001b[38;5;124mIndicator Name\u001b[39m\u001b[38;5;124m'\u001b[39m,\u001b[38;5;124m'\u001b[39m\u001b[38;5;124mIndicator Code\u001b[39m\u001b[38;5;124m'\u001b[39m], inplace\u001b[38;5;241m=\u001b[39m\u001b[38;5;28;01mTrue\u001b[39;00m, axis\u001b[38;5;241m=\u001b[39m\u001b[38;5;241m1\u001b[39m)\n\u001b[0;32m     16\u001b[0m     \u001b[38;5;66;03m#new.set_index(['Topic description', 'indicators']).to_csv('additional_data/low_nan_high_nan.csv')\u001b[39;00m\n\u001b[1;32m---> 18\u001b[0m \u001b[43mget_indicator_nans\u001b[49m\u001b[43m(\u001b[49m\u001b[43mbase\u001b[49m\u001b[43m)\u001b[49m\n",
      "Input \u001b[1;32mIn [4]\u001b[0m, in \u001b[0;36mget_indicator_nans\u001b[1;34m(df)\u001b[0m\n\u001b[0;32m      7\u001b[0m topics \u001b[38;5;241m=\u001b[39m pd\u001b[38;5;241m.\u001b[39mread_csv(\u001b[38;5;124m'\u001b[39m\u001b[38;5;124madditional_data/topics_done.csv\u001b[39m\u001b[38;5;124m'\u001b[39m)\n\u001b[0;32m      9\u001b[0m nan \u001b[38;5;241m=\u001b[39m [df\u001b[38;5;241m.\u001b[39mloc[df[\u001b[38;5;124m'\u001b[39m\u001b[38;5;124mIndicator Name\u001b[39m\u001b[38;5;124m'\u001b[39m]\u001b[38;5;241m==\u001b[39mi]\u001b[38;5;241m.\u001b[39misna()\u001b[38;5;241m.\u001b[39msum()\u001b[38;5;241m.\u001b[39msum() \u001b[38;5;28;01mfor\u001b[39;00m i \u001b[38;5;129;01min\u001b[39;00m df[\u001b[38;5;124m'\u001b[39m\u001b[38;5;124mIndicator Name\u001b[39m\u001b[38;5;124m'\u001b[39m]\u001b[38;5;241m.\u001b[39munique()]\n\u001b[1;32m---> 10\u001b[0m a \u001b[38;5;241m=\u001b[39m \u001b[43mnp\u001b[49m\u001b[38;5;241m.\u001b[39mempty(\u001b[38;5;28mlen\u001b[39m(nan))\n\u001b[0;32m     11\u001b[0m a\u001b[38;5;241m.\u001b[39mfill(size)\n\u001b[0;32m     13\u001b[0m df \u001b[38;5;241m=\u001b[39m pd\u001b[38;5;241m.\u001b[39mDataFrame({\u001b[38;5;124m'\u001b[39m\u001b[38;5;124mindicators\u001b[39m\u001b[38;5;124m'\u001b[39m:df[\u001b[38;5;124m'\u001b[39m\u001b[38;5;124mIndicator Name\u001b[39m\u001b[38;5;124m'\u001b[39m]\u001b[38;5;241m.\u001b[39munique(), \u001b[38;5;124m'\u001b[39m\u001b[38;5;124mnan\u001b[39m\u001b[38;5;124m'\u001b[39m:nan, \u001b[38;5;124m'\u001b[39m\u001b[38;5;124mn\u001b[39m\u001b[38;5;124m'\u001b[39m:np\u001b[38;5;241m.\u001b[39msubtract(a, nan)})\n",
      "\u001b[1;31mNameError\u001b[0m: name 'np' is not defined"
     ]
    }
   ],
   "source": [
    "def get_indicator_nans(df):\n",
    "    df = df.apply(lambda x: x.replace('\"', ''))\n",
    "    df = df.reset_index()\n",
    "    size = df.loc[df['Indicator Name']==df['Indicator Name'].unique()[1]].size\n",
    "    \n",
    "    \n",
    "    topics = pd.read_csv('additional_data/topics_done.csv')\n",
    "        \n",
    "    nan = [df.loc[df['Indicator Name']==i].isna().sum().sum() for i in df['Indicator Name'].unique()]\n",
    "    a = np.empty(len(nan))\n",
    "    a.fill(size)\n",
    "    \n",
    "    df = pd.DataFrame({'indicators':df['Indicator Name'].unique(), 'nan':nan, 'n':np.subtract(a, nan)})\n",
    "    new = pd.merge(df.sort_values('nan'), topics, how='left', left_on='indicators', right_on='Indicator Name')\n",
    "    new.drop(['Unnamed: 0', 'Indicator Name','Indicator Code'], inplace=True, axis=1)\n",
    "    #new.set_index(['Topic description', 'indicators']).to_csv('additional_data/low_nan_high_nan.csv')\n",
    "\n",
    "get_indicator_nans(base)"
   ]
  },
  {
   "cell_type": "code",
   "execution_count": null,
   "id": "fd9a03c7",
   "metadata": {},
   "outputs": [],
   "source": []
  },
  {
   "cell_type": "code",
   "execution_count": null,
   "id": "c71280b7",
   "metadata": {},
   "outputs": [],
   "source": [
    "base = pd.read_csv('additional_data/chosen_indicators.csv', sep=';')\n",
    "base.dropna(subset=['keep'], inplace=True)\n",
    "base.drop('keep', axis=1, inplace=True)"
   ]
  }
 ],
 "metadata": {
  "kernelspec": {
   "display_name": "Python 3 (ipykernel)",
   "language": "python",
   "name": "python3"
  },
  "language_info": {
   "codemirror_mode": {
    "name": "ipython",
    "version": 3
   },
   "file_extension": ".py",
   "mimetype": "text/x-python",
   "name": "python",
   "nbconvert_exporter": "python",
   "pygments_lexer": "ipython3",
   "version": "3.9.7"
  }
 },
 "nbformat": 4,
 "nbformat_minor": 5
}
