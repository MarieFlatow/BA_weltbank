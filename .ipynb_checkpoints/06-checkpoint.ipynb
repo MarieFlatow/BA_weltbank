{
 "cells": [
  {
   "cell_type": "code",
   "execution_count": 1,
   "id": "f62fad1d",
   "metadata": {},
   "outputs": [],
   "source": [
    "import pandas as pd\n",
    "import numpy as np\n",
    "import matplotlib.pyplot as plt\n",
    "import seaborn as sns\n",
    "\n",
    "from varclushi import VarClusHi\n",
    "from sklearn.experimental import enable_iterative_imputer\n",
    "from sklearn.impute import IterativeImputer\n"
   ]
  },
  {
   "cell_type": "code",
   "execution_count": 187,
   "id": "2899e1d3",
   "metadata": {},
   "outputs": [],
   "source": [
    "pd.set_option('display.float_format', lambda x: '%.4f' % x)\n",
    "\n",
    "base = pd.read_csv('additional_data/base.csv')\n",
    "\n",
    "backfill = pd.read_csv('additional_data/imputed_sets/backfill.csv')\n",
    "mean = pd.read_csv('additional_data/imputed_sets/mean.csv')\n",
    "interpolation = pd.read_csv('additional_data/imputed_sets/interpolation.csv')\n",
    "ice1 = pd.read_csv('additional_data/imputed_sets/ice.csv')\n",
    "ice2 = pd.read_csv('additional_data/imputed_sets/ice2.csv')\n",
    "ice3 = pd.read_csv('additional_data/imputed_sets/ice3.csv')\n",
    "mice = pd.read_csv('additional_data/imputed_sets/mice.csv')\n",
    "knn = pd.read_csv('additional_data/imputed_sets/knn.csv')\n",
    "\n",
    "sets = {'base':base, 'Backfill':backfill, 'Mean':mean, 'Interpolation':interpolation, 'ICE 1':ice1, 'ICE 2':ice2, 'ICE 3':ice3, \n",
    "        'MICE':mice, 'KNN':knn}"
   ]
  },
  {
   "cell_type": "code",
   "execution_count": 188,
   "id": "5cba332c",
   "metadata": {},
   "outputs": [],
   "source": [
    "new = pd.read_csv('additional_data/chosen_indicators.csv', sep=';')\n",
    "new.dropna(subset=['percentage'], inplace=True)\n",
    "new.drop('percentage', axis=1, inplace=True)"
   ]
  },
  {
   "cell_type": "code",
   "execution_count": 189,
   "id": "c2571c80",
   "metadata": {},
   "outputs": [],
   "source": [
    "table = []\n",
    "for name, df in sets.items():\n",
    "    df = df.set_index(['Country Name', 'Indicator Name'])\n",
    "    df = df.loc[df.index.isin(new['indicators'], level='Indicator Name')]\n",
    "    n = (df>100).sum().sum()\n",
    "    table.append([name, n])"
   ]
  },
  {
   "cell_type": "code",
   "execution_count": 190,
   "id": "637d14ac",
   "metadata": {},
   "outputs": [
    {
     "data": {
      "text/plain": [
       "[['base', 0],\n",
       " ['Backfill', 15392],\n",
       " ['Mean', 0],\n",
       " ['Interpolation', 24836],\n",
       " ['ICE 1', 55798],\n",
       " ['ICE 2', 50467],\n",
       " ['ICE 3', 3062],\n",
       " ['MICE', 52316],\n",
       " ['KNN', 16818]]"
      ]
     },
     "execution_count": 190,
     "metadata": {},
     "output_type": "execute_result"
    }
   ],
   "source": [
    "table"
   ]
  },
  {
   "cell_type": "code",
   "execution_count": null,
   "id": "aa39ca90",
   "metadata": {},
   "outputs": [],
   "source": []
  },
  {
   "cell_type": "code",
   "execution_count": null,
   "id": "b417f9fe",
   "metadata": {},
   "outputs": [],
   "source": []
  },
  {
   "cell_type": "code",
   "execution_count": null,
   "id": "60e0b1e6",
   "metadata": {},
   "outputs": [],
   "source": []
  }
 ],
 "metadata": {
  "kernelspec": {
   "display_name": "Python 3 (ipykernel)",
   "language": "python",
   "name": "python3"
  },
  "language_info": {
   "codemirror_mode": {
    "name": "ipython",
    "version": 3
   },
   "file_extension": ".py",
   "mimetype": "text/x-python",
   "name": "python",
   "nbconvert_exporter": "python",
   "pygments_lexer": "ipython3",
   "version": "3.9.7"
  }
 },
 "nbformat": 4,
 "nbformat_minor": 5
}
