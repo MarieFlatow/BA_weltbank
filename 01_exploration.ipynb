{
 "cells": [
  {
   "cell_type": "markdown",
   "id": "ccf831ef",
   "metadata": {},
   "source": [
    "# Eigenschaften des WDI Datensatzes"
   ]
  },
  {
   "cell_type": "code",
   "execution_count": 1,
   "id": "86246d98",
   "metadata": {},
   "outputs": [],
   "source": [
    "import pandas as pd\n",
    "import numpy as np\n",
    "import matplotlib.pyplot as plt\n",
    "import seaborn as sns"
   ]
  },
  {
   "cell_type": "code",
   "execution_count": 2,
   "id": "286adb6f",
   "metadata": {},
   "outputs": [],
   "source": [
    "base= pd.read_csv('../Data/WDIData.csv') #see downloads worldbank\n",
    "base = base.drop(['Country Code', 'Indicator Code', 'Unnamed: 66'], axis=1) "
   ]
  },
  {
   "cell_type": "code",
   "execution_count": 3,
   "id": "ae925c9a",
   "metadata": {},
   "outputs": [
    {
     "data": {
      "text/plain": [
       "15902638"
      ]
     },
     "execution_count": 3,
     "metadata": {},
     "output_type": "execute_result"
    }
   ],
   "source": [
    "na = base.isna().sum().sum()\n",
    "na"
   ]
  },
  {
   "cell_type": "code",
   "execution_count": 4,
   "id": "17ea793f",
   "metadata": {},
   "outputs": [
    {
     "data": {
      "text/plain": [
       "24565632"
      ]
     },
     "execution_count": 4,
     "metadata": {},
     "output_type": "execute_result"
    }
   ],
   "source": [
    "notna = base.notna().sum().sum()\n",
    "notna + na"
   ]
  },
  {
   "cell_type": "code",
   "execution_count": 5,
   "id": "f9090994",
   "metadata": {},
   "outputs": [
    {
     "data": {
      "text/plain": [
       "0.647353098833362"
      ]
     },
     "execution_count": 5,
     "metadata": {},
     "output_type": "execute_result"
    }
   ],
   "source": [
    "na/(na + notna)"
   ]
  },
  {
   "cell_type": "code",
   "execution_count": 6,
   "id": "84fd3582",
   "metadata": {},
   "outputs": [],
   "source": [
    "pd.set_option('display.float_format', lambda x: '%.4f' % x)\n",
    "\n",
    "year = 1980\n",
    "    \n",
    "#load dataset\n",
    "base= pd.read_csv('../Data/WDIData.csv') #see downloads worldbank\n",
    "base = base.drop(['Country Code', 'Indicator Code', 'Unnamed: 66'], axis=1) #name of column 'Unnamed: 66' may differ\n",
    "    \n",
    "#drop groups of countries\n",
    "countries = pd.read_csv('additional_data/countries.csv').drop('Unnamed: 0', axis=1)\n",
    "base = pd.merge(base, countries, how='left')\n",
    "df = base.loc[base['Type'] != 'Region'].drop('Type', axis=1)\n",
    "    \n",
    "#keep only years 1990-2020\n",
    "#df = base.set_index(['Country Name', 'Indicator Name'])\n",
    "\n",
    "df = df[['Country Name', 'Indicator Name', str(year)]]\n",
    "df = df.set_index(['Country Name', 'Indicator Name']).unstack()\n",
    "df.columns = df.columns.droplevel(0)"
   ]
  },
  {
   "cell_type": "code",
   "execution_count": 9,
   "id": "6ae74f2c",
   "metadata": {},
   "outputs": [],
   "source": [
    "key_col = df.isna().sum().sort_values().index\n",
    "key_idx = df.T.isna().sum().sort_values().index"
   ]
  },
  {
   "cell_type": "code",
   "execution_count": 10,
   "id": "59920ea3",
   "metadata": {
    "scrolled": true
   },
   "outputs": [
    {
     "data": {
      "text/plain": [
       "Index(['Nitrous oxide emissions in energy sector (thousand metric tons of CO2 equivalent)',\n",
       "       'Agricultural methane emissions (thousand metric tons of CO2 equivalent)',\n",
       "       'Agricultural nitrous oxide emissions (thousand metric tons of CO2 equivalent)',\n",
       "       'Adjusted savings: mineral depletion (current US$)',\n",
       "       'Methane emissions in energy sector (thousand metric tons of CO2 equivalent)',\n",
       "       'Population, total', 'Population growth (annual %)',\n",
       "       'Urban population (% of total population)',\n",
       "       'Rural population (% of total population)', 'Rural population',\n",
       "       ...\n",
       "       'International tourism, number of arrivals',\n",
       "       'International tourism, number of departures',\n",
       "       'International tourism, receipts (% of total exports)',\n",
       "       'International tourism, receipts (current US$)',\n",
       "       'International tourism, receipts for passenger transport items (current US$)',\n",
       "       'International tourism, receipts for travel items (current US$)',\n",
       "       'Investment in ICT with private participation (current US$)',\n",
       "       'Investment in energy with private participation (current US$)',\n",
       "       'Incidence of tuberculosis (per 100,000 people)',\n",
       "       'Young people (ages 15-24) newly infected with HIV'],\n",
       "      dtype='object', name='Indicator Name', length=1443)"
      ]
     },
     "execution_count": 10,
     "metadata": {},
     "output_type": "execute_result"
    }
   ],
   "source": [
    "key_col"
   ]
  },
  {
   "cell_type": "code",
   "execution_count": 11,
   "id": "1028bc36",
   "metadata": {},
   "outputs": [],
   "source": [
    "df = df.reindex(key_idx)\n",
    "df = df.T.reindex(key_col)"
   ]
  },
  {
   "cell_type": "code",
   "execution_count": 12,
   "id": "608ddb76",
   "metadata": {},
   "outputs": [
    {
     "data": {
      "text/plain": [
       "[]"
      ]
     },
     "execution_count": 12,
     "metadata": {},
     "output_type": "execute_result"
    },
    {
     "data": {
      "image/png": "[encoded data removed]",
      "text/plain": [
       "<Figure size 1200x500 with 2 Axes>"
      ]
     },
     "metadata": {},
     "output_type": "display_data"
    }
   ],
   "source": [
    "fig, ax = plt.subplots(figsize=(12,5))\n",
    "sns.heatmap(df.isnull(), cbar=True)\n",
    "ax.set_xticks([])\n",
    "ax.set_yticks([])"
   ]
  },
  {
   "cell_type": "code",
   "execution_count": 13,
   "id": "e419da25",
   "metadata": {},
   "outputs": [],
   "source": [
    "base= pd.read_csv('../Data/WDIData.csv') #see downloads worldbank\n",
    "base = base.drop(['Country Code', 'Indicator Code', 'Unnamed: 66'], axis=1) #name of column 'Unnamed: 66' may differ\n",
    "    \n",
    "#drop groups of countries\n",
    "countries = pd.read_csv('additional_data/countries.csv').drop('Unnamed: 0', axis=1)\n",
    "base = pd.merge(base, countries, how='left')\n",
    "base = base.loc[base['Type'] != 'Region'].drop('Type', axis=1)\n",
    "base = base.set_index(['Country Name', 'Indicator Name'])"
   ]
  },
  {
   "cell_type": "code",
   "execution_count": 19,
   "id": "1f7dfc33",
   "metadata": {},
   "outputs": [
    {
     "data": {
      "text/html": [
       "<div>\n",
       "<style scoped>\n",
       "    .dataframe tbody tr th:only-of-type {\n",
       "        vertical-align: middle;\n",
       "    }\n",
       "\n",
       "    .dataframe tbody tr th {\n",
       "        vertical-align: top;\n",
       "    }\n",
       "\n",
       "    .dataframe thead th {\n",
       "        text-align: right;\n",
       "    }\n",
       "</style>\n",
       "<table border=\"1\" class=\"dataframe\">\n",
       "  <thead>\n",
       "    <tr style=\"text-align: right;\">\n",
       "      <th></th>\n",
       "      <th>vorhanden</th>\n",
       "      <th>NaN</th>\n",
       "    </tr>\n",
       "  </thead>\n",
       "  <tbody>\n",
       "    <tr>\n",
       "      <th>1960</th>\n",
       "      <td>30148</td>\n",
       "      <td>282983</td>\n",
       "    </tr>\n",
       "    <tr>\n",
       "      <th>1961</th>\n",
       "      <td>34213</td>\n",
       "      <td>278918</td>\n",
       "    </tr>\n",
       "    <tr>\n",
       "      <th>1962</th>\n",
       "      <td>36037</td>\n",
       "      <td>277094</td>\n",
       "    </tr>\n",
       "    <tr>\n",
       "      <th>1963</th>\n",
       "      <td>36009</td>\n",
       "      <td>277122</td>\n",
       "    </tr>\n",
       "    <tr>\n",
       "      <th>1964</th>\n",
       "      <td>36549</td>\n",
       "      <td>276582</td>\n",
       "    </tr>\n",
       "    <tr>\n",
       "      <th>1965</th>\n",
       "      <td>38464</td>\n",
       "      <td>274667</td>\n",
       "    </tr>\n",
       "    <tr>\n",
       "      <th>1966</th>\n",
       "      <td>38538</td>\n",
       "      <td>274593</td>\n",
       "    </tr>\n",
       "    <tr>\n",
       "      <th>1967</th>\n",
       "      <td>39982</td>\n",
       "      <td>273149</td>\n",
       "    </tr>\n",
       "    <tr>\n",
       "      <th>1968</th>\n",
       "      <td>39682</td>\n",
       "      <td>273449</td>\n",
       "    </tr>\n",
       "    <tr>\n",
       "      <th>1969</th>\n",
       "      <td>41239</td>\n",
       "      <td>271892</td>\n",
       "    </tr>\n",
       "  </tbody>\n",
       "</table>\n",
       "</div>"
      ],
      "text/plain": [
       "      vorhanden     NaN\n",
       "1960      30148  282983\n",
       "1961      34213  278918\n",
       "1962      36037  277094\n",
       "1963      36009  277122\n",
       "1964      36549  276582\n",
       "1965      38464  274667\n",
       "1966      38538  274593\n",
       "1967      39982  273149\n",
       "1968      39682  273449\n",
       "1969      41239  271892"
      ]
     },
     "execution_count": 19,
     "metadata": {},
     "output_type": "execute_result"
    }
   ],
   "source": [
    "nan = pd.DataFrame([base.notna().sum(), base.isna().sum()], index=['vorhanden', 'NaN'] ).T\n",
    "nan.head(10)"
   ]
  },
  {
   "cell_type": "code",
   "execution_count": 20,
   "id": "c0448f15",
   "metadata": {},
   "outputs": [
    {
     "data": {
      "text/plain": [
       "0.9037208069466134"
      ]
     },
     "execution_count": 20,
     "metadata": {},
     "output_type": "execute_result"
    }
   ],
   "source": [
    "282983/(180777 +132354)"
   ]
  },
  {
   "cell_type": "code",
   "execution_count": 15,
   "id": "59907c08",
   "metadata": {},
   "outputs": [
    {
     "data": {
      "image/png": "[encoded data removed]",
      "text/plain": [
       "<Figure size 1200x400 with 1 Axes>"
      ]
     },
     "metadata": {},
     "output_type": "display_data"
    }
   ],
   "source": [
    "sns.set_style(\"whitegrid\")\n",
    "\n",
    "fig, ax1 = plt.subplots(figsize=(12,4))\n",
    "ax1.bar((nan.index).astype(int), nan.vorhanden, label='vorhanden', color='gray')\n",
    "ax1.bar( (nan.index).astype(int), nan.NaN, bottom=nan.vorhanden, color='lightgray', label='NaN')\n",
    "ax1.tick_params(axis='x', rotation=30)\n",
    "\n",
    "#ax1.grid(axis='y')\n",
    "ax1.set_title('Fehlende Werte pro Jahr')\n",
    "ax1.set_ylabel('Werte')\n",
    "ax1.set_xlabel('Jahr')\n",
    "ax1.legend()\n",
    "\n",
    "plt.tight_layout()\n",
    "\n",
    "plt.savefig('figures/results/NaN')"
   ]
  }
 ],
 "metadata": {
  "kernelspec": {
   "display_name": "Python 3 (ipykernel)",
   "language": "python",
   "name": "python3"
  },
  "language_info": {
   "codemirror_mode": {
    "name": "ipython",
    "version": 3
   },
   "file_extension": ".py",
   "mimetype": "text/x-python",
   "name": "python",
   "nbconvert_exporter": "python",
   "pygments_lexer": "ipython3",
   "version": "3.9.7"
  }
 },
 "nbformat": 4,
 "nbformat_minor": 5
}
