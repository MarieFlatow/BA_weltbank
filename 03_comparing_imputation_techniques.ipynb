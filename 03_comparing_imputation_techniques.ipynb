{
 "cells": [
  {
   "cell_type": "markdown",
   "id": "de5ee9b5",
   "metadata": {},
   "source": [
    "# Vergleich von Imputation Methoden"
   ]
  },
  {
   "cell_type": "markdown",
   "id": "f6372f0a",
   "metadata": {},
   "source": [
    "An dieser Stelle sollen verschiede Methoden zum interpolieren von fehlenden Werten betrachtet und verglichen werden."
   ]
  },
  {
   "cell_type": "markdown",
   "id": "79e93d63",
   "metadata": {},
   "source": [
    "### Vorbereitung"
   ]
  },
  {
   "cell_type": "code",
   "execution_count": 1,
   "id": "d6a4c49c",
   "metadata": {},
   "outputs": [],
   "source": [
    "import pandas as pd\n",
    "import numpy as np\n",
    "import math\n",
    "\n",
    "from sklearn.preprocessing import StandardScaler\n",
    "from sklearn.metrics import r2_score, mean_squared_error\n",
    "from sklearn.experimental import enable_iterative_imputer\n",
    "from sklearn.impute import IterativeImputer, KNNImputer"
   ]
  },
  {
   "cell_type": "markdown",
   "id": "2d9cbf47",
   "metadata": {},
   "source": [
    "In der Folge werden keine Regionen oder Gruppierungen von Ländern und nur die Jahre ab 1990 betrachtet. \n",
    "Von dem verbliebenen Datensatz werden nur jene Indikatoren behalten, die mindesten 20% gefüllt sind."
   ]
  },
  {
   "cell_type": "code",
   "execution_count": 2,
   "id": "53a06671",
   "metadata": {},
   "outputs": [],
   "source": [
    "def reset_original():\n",
    "    pd.set_option('display.float_format', lambda x: '%.4f' % x)\n",
    "\n",
    "    base= pd.read_csv('../Data/WDIData.csv') #see downloads worldbank\n",
    "    base = base.drop(['Country Code', 'Indicator Code', 'Unnamed: 66'], axis=1) #name of column 'Unnamed: 66' may differ\n",
    "\n",
    "    countries = pd.read_csv('additional_data/countries.csv').drop('Unnamed: 0', axis=1)\n",
    "    base = pd.merge(base, countries, how='left')\n",
    "    base = base.loc[base['Type'] != 'Region'].drop('Type', axis=1)\n",
    "\n",
    "    base = base.set_index(['Country Name', 'Indicator Name'])\n",
    "    base = base.loc[:, '1990':'2020']\n",
    "\n",
    "    idx = pd.IndexSlice\n",
    "    keep = pd.DataFrame(pd.DataFrame(base.isna().groupby('Indicator Name').sum()).T.sum(), columns=['NaN'])\n",
    "    keep = keep.loc[keep['NaN'] <len(base.index.get_level_values('Country Name').unique())*len(base.columns)*0.8] #kept if 80% of entries are not NaN\n",
    "    base = base.loc[idx[:, keep.index], :]\n",
    "    return base"
   ]
  },
  {
   "cell_type": "code",
   "execution_count": 3,
   "id": "58fae007",
   "metadata": {},
   "outputs": [],
   "source": [
    "def reset_base():\n",
    "    base= pd.read_csv('additional_data/base.csv') \n",
    "    base.set_index(['Country Name', 'Indicator Name'], inplace=True)\n",
    "    base = base.sort_index(level=['Country Name', 'Indicator Name'])\n",
    "    return base"
   ]
  },
  {
   "cell_type": "code",
   "execution_count": 4,
   "id": "4810a09b",
   "metadata": {},
   "outputs": [
    {
     "data": {
      "text/plain": [
       "170307"
      ]
     },
     "execution_count": 4,
     "metadata": {},
     "output_type": "execute_result"
    }
   ],
   "source": [
    "base = reset_base()\n",
    "base.isna().sum().sum()"
   ]
  },
  {
   "cell_type": "markdown",
   "id": "684223dd",
   "metadata": {},
   "source": [
    "Um die Performanz unterschiedlicher Imutation Verfahren zu vergleichen werden weitere 1000 vorhandene (nicht NaN) Einträge entfernt. Diese 1000 Einträge werden später als Test-Daten verwendet, auf ihrer Grundlage lassen sich die Fehler der analysierten Verfahren errechnen. Um sicherzustellen, dass die Ergebnisse reproduzierbar sind wird ein Random State gesetzt. Dann werden zufällig Koordinaten zu Dateneinträgen gezogen. Da an dieser Stelle nur vorhandene Einträge relevant sind, werde zunächst zu viele Koordinaten gezogen, diese dann mit dem Datensatz abgeglichen und gelöscht, falls sie zu einem NaN zeigen und dann die ersten 1000 verbliebenen (und damit relevanten) Einträge ausgewählt. Diese werden in den Trainingsdaten entfernt. Auf diese Weise bleibt eine Reproduzierbarkeit erhalten."
   ]
  },
  {
   "cell_type": "code",
   "execution_count": 5,
   "id": "eef559ed",
   "metadata": {},
   "outputs": [
    {
     "data": {
      "text/html": [
       "<div>\n",
       "<style scoped>\n",
       "    .dataframe tbody tr th:only-of-type {\n",
       "        vertical-align: middle;\n",
       "    }\n",
       "\n",
       "    .dataframe tbody tr th {\n",
       "        vertical-align: top;\n",
       "    }\n",
       "\n",
       "    .dataframe thead th {\n",
       "        text-align: right;\n",
       "    }\n",
       "</style>\n",
       "<table border=\"1\" class=\"dataframe\">\n",
       "  <thead>\n",
       "    <tr style=\"text-align: right;\">\n",
       "      <th></th>\n",
       "      <th></th>\n",
       "      <th>1990</th>\n",
       "      <th>1991</th>\n",
       "      <th>1992</th>\n",
       "      <th>1993</th>\n",
       "      <th>1994</th>\n",
       "      <th>1995</th>\n",
       "      <th>1996</th>\n",
       "      <th>1997</th>\n",
       "      <th>1998</th>\n",
       "      <th>1999</th>\n",
       "      <th>...</th>\n",
       "      <th>2011</th>\n",
       "      <th>2012</th>\n",
       "      <th>2013</th>\n",
       "      <th>2014</th>\n",
       "      <th>2015</th>\n",
       "      <th>2016</th>\n",
       "      <th>2017</th>\n",
       "      <th>2018</th>\n",
       "      <th>2019</th>\n",
       "      <th>2020</th>\n",
       "    </tr>\n",
       "    <tr>\n",
       "      <th>Country Name</th>\n",
       "      <th>Indicator Name</th>\n",
       "      <th></th>\n",
       "      <th></th>\n",
       "      <th></th>\n",
       "      <th></th>\n",
       "      <th></th>\n",
       "      <th></th>\n",
       "      <th></th>\n",
       "      <th></th>\n",
       "      <th></th>\n",
       "      <th></th>\n",
       "      <th></th>\n",
       "      <th></th>\n",
       "      <th></th>\n",
       "      <th></th>\n",
       "      <th></th>\n",
       "      <th></th>\n",
       "      <th></th>\n",
       "      <th></th>\n",
       "      <th></th>\n",
       "      <th></th>\n",
       "      <th></th>\n",
       "    </tr>\n",
       "  </thead>\n",
       "  <tbody>\n",
       "    <tr>\n",
       "      <th rowspan=\"3\" valign=\"top\">Afghanistan</th>\n",
       "      <th>Access to clean fuels and technologies for cooking (% of population)</th>\n",
       "      <td>NaN</td>\n",
       "      <td>NaN</td>\n",
       "      <td>NaN</td>\n",
       "      <td>NaN</td>\n",
       "      <td>NaN</td>\n",
       "      <td>NaN</td>\n",
       "      <td>NaN</td>\n",
       "      <td>NaN</td>\n",
       "      <td>NaN</td>\n",
       "      <td>NaN</td>\n",
       "      <td>...</td>\n",
       "      <td>21.500000</td>\n",
       "      <td>23.000000</td>\n",
       "      <td>24.799999</td>\n",
       "      <td>26.700001</td>\n",
       "      <td>28.600000</td>\n",
       "      <td>30.299999</td>\n",
       "      <td>32.200001</td>\n",
       "      <td>34.099998</td>\n",
       "      <td>36.00000</td>\n",
       "      <td>NaN</td>\n",
       "    </tr>\n",
       "    <tr>\n",
       "      <th>Access to electricity (% of population)</th>\n",
       "      <td>NaN</td>\n",
       "      <td>NaN</td>\n",
       "      <td>NaN</td>\n",
       "      <td>NaN</td>\n",
       "      <td>NaN</td>\n",
       "      <td>NaN</td>\n",
       "      <td>NaN</td>\n",
       "      <td>NaN</td>\n",
       "      <td>NaN</td>\n",
       "      <td>NaN</td>\n",
       "      <td>...</td>\n",
       "      <td>43.222019</td>\n",
       "      <td>69.100000</td>\n",
       "      <td>68.982941</td>\n",
       "      <td>89.500000</td>\n",
       "      <td>71.500000</td>\n",
       "      <td>97.700000</td>\n",
       "      <td>97.700000</td>\n",
       "      <td>98.715622</td>\n",
       "      <td>97.70000</td>\n",
       "      <td>NaN</td>\n",
       "    </tr>\n",
       "    <tr>\n",
       "      <th>Access to electricity, rural (% of rural population)</th>\n",
       "      <td>NaN</td>\n",
       "      <td>NaN</td>\n",
       "      <td>NaN</td>\n",
       "      <td>NaN</td>\n",
       "      <td>NaN</td>\n",
       "      <td>NaN</td>\n",
       "      <td>NaN</td>\n",
       "      <td>NaN</td>\n",
       "      <td>NaN</td>\n",
       "      <td>NaN</td>\n",
       "      <td>...</td>\n",
       "      <td>29.572881</td>\n",
       "      <td>60.849157</td>\n",
       "      <td>61.315788</td>\n",
       "      <td>86.500512</td>\n",
       "      <td>64.573354</td>\n",
       "      <td>97.099360</td>\n",
       "      <td>97.091973</td>\n",
       "      <td>98.309603</td>\n",
       "      <td>96.90219</td>\n",
       "      <td>NaN</td>\n",
       "    </tr>\n",
       "  </tbody>\n",
       "</table>\n",
       "<p>3 rows × 31 columns</p>\n",
       "</div>"
      ],
      "text/plain": [
       "                                                                 1990  1991  \\\n",
       "Country Name Indicator Name                                                   \n",
       "Afghanistan  Access to clean fuels and technologies for cook...   NaN   NaN   \n",
       "             Access to electricity (% of population)              NaN   NaN   \n",
       "             Access to electricity, rural (% of rural popula...   NaN   NaN   \n",
       "\n",
       "                                                                 1992  1993  \\\n",
       "Country Name Indicator Name                                                   \n",
       "Afghanistan  Access to clean fuels and technologies for cook...   NaN   NaN   \n",
       "             Access to electricity (% of population)              NaN   NaN   \n",
       "             Access to electricity, rural (% of rural popula...   NaN   NaN   \n",
       "\n",
       "                                                                 1994  1995  \\\n",
       "Country Name Indicator Name                                                   \n",
       "Afghanistan  Access to clean fuels and technologies for cook...   NaN   NaN   \n",
       "             Access to electricity (% of population)              NaN   NaN   \n",
       "             Access to electricity, rural (% of rural popula...   NaN   NaN   \n",
       "\n",
       "                                                                 1996  1997  \\\n",
       "Country Name Indicator Name                                                   \n",
       "Afghanistan  Access to clean fuels and technologies for cook...   NaN   NaN   \n",
       "             Access to electricity (% of population)              NaN   NaN   \n",
       "             Access to electricity, rural (% of rural popula...   NaN   NaN   \n",
       "\n",
       "                                                                 1998  1999  \\\n",
       "Country Name Indicator Name                                                   \n",
       "Afghanistan  Access to clean fuels and technologies for cook...   NaN   NaN   \n",
       "             Access to electricity (% of population)              NaN   NaN   \n",
       "             Access to electricity, rural (% of rural popula...   NaN   NaN   \n",
       "\n",
       "                                                                 ...  \\\n",
       "Country Name Indicator Name                                      ...   \n",
       "Afghanistan  Access to clean fuels and technologies for cook...  ...   \n",
       "             Access to electricity (% of population)             ...   \n",
       "             Access to electricity, rural (% of rural popula...  ...   \n",
       "\n",
       "                                                                      2011  \\\n",
       "Country Name Indicator Name                                                  \n",
       "Afghanistan  Access to clean fuels and technologies for cook...  21.500000   \n",
       "             Access to electricity (% of population)             43.222019   \n",
       "             Access to electricity, rural (% of rural popula...  29.572881   \n",
       "\n",
       "                                                                      2012  \\\n",
       "Country Name Indicator Name                                                  \n",
       "Afghanistan  Access to clean fuels and technologies for cook...  23.000000   \n",
       "             Access to electricity (% of population)             69.100000   \n",
       "             Access to electricity, rural (% of rural popula...  60.849157   \n",
       "\n",
       "                                                                      2013  \\\n",
       "Country Name Indicator Name                                                  \n",
       "Afghanistan  Access to clean fuels and technologies for cook...  24.799999   \n",
       "             Access to electricity (% of population)             68.982941   \n",
       "             Access to electricity, rural (% of rural popula...  61.315788   \n",
       "\n",
       "                                                                      2014  \\\n",
       "Country Name Indicator Name                                                  \n",
       "Afghanistan  Access to clean fuels and technologies for cook...  26.700001   \n",
       "             Access to electricity (% of population)             89.500000   \n",
       "             Access to electricity, rural (% of rural popula...  86.500512   \n",
       "\n",
       "                                                                      2015  \\\n",
       "Country Name Indicator Name                                                  \n",
       "Afghanistan  Access to clean fuels and technologies for cook...  28.600000   \n",
       "             Access to electricity (% of population)             71.500000   \n",
       "             Access to electricity, rural (% of rural popula...  64.573354   \n",
       "\n",
       "                                                                      2016  \\\n",
       "Country Name Indicator Name                                                  \n",
       "Afghanistan  Access to clean fuels and technologies for cook...  30.299999   \n",
       "             Access to electricity (% of population)             97.700000   \n",
       "             Access to electricity, rural (% of rural popula...  97.099360   \n",
       "\n",
       "                                                                      2017  \\\n",
       "Country Name Indicator Name                                                  \n",
       "Afghanistan  Access to clean fuels and technologies for cook...  32.200001   \n",
       "             Access to electricity (% of population)             97.700000   \n",
       "             Access to electricity, rural (% of rural popula...  97.091973   \n",
       "\n",
       "                                                                      2018  \\\n",
       "Country Name Indicator Name                                                  \n",
       "Afghanistan  Access to clean fuels and technologies for cook...  34.099998   \n",
       "             Access to electricity (% of population)             98.715622   \n",
       "             Access to electricity, rural (% of rural popula...  98.309603   \n",
       "\n",
       "                                                                     2019  \\\n",
       "Country Name Indicator Name                                                 \n",
       "Afghanistan  Access to clean fuels and technologies for cook...  36.00000   \n",
       "             Access to electricity (% of population)             97.70000   \n",
       "             Access to electricity, rural (% of rural popula...  96.90219   \n",
       "\n",
       "                                                                 2020  \n",
       "Country Name Indicator Name                                            \n",
       "Afghanistan  Access to clean fuels and technologies for cook...   NaN  \n",
       "             Access to electricity (% of population)              NaN  \n",
       "             Access to electricity, rural (% of rural popula...   NaN  \n",
       "\n",
       "[3 rows x 31 columns]"
      ]
     },
     "execution_count": 5,
     "metadata": {},
     "output_type": "execute_result"
    }
   ],
   "source": [
    "base.head(3)"
   ]
  },
  {
   "cell_type": "markdown",
   "id": "82af3855",
   "metadata": {},
   "source": [
    "### Simulation fehlender Werte und Evaluation"
   ]
  },
  {
   "cell_type": "code",
   "execution_count": 6,
   "id": "3ab75db4",
   "metadata": {},
   "outputs": [],
   "source": [
    "def get_cords(frac):\n",
    "    n = int(base.isna().sum().sum()*frac)\n",
    "    print(f'Testdaten mit {frac*100}% fehlenden Werten (absolut: {n})')\n",
    "    #random state to ensure reproducibility\n",
    "    rnds = np.random.RandomState(n)\n",
    "\n",
    "    #coordinates for data entries to be removed randomly\n",
    "    #5000 entries are selected\n",
    "    cords = pd.DataFrame([[rnds.randint(0, len(base), size=n*4)[i], \n",
    "                  rnds.randint(0, len(base.columns), size=n*4)[i]]\n",
    "                  for i in range(n*4)])\n",
    "\n",
    "    #all coordinates pointing to NaN entries are removed and\n",
    "    #first 1000 remaining entries are selected\n",
    "    cords['value'] = [base.iloc[cords[0][i], cords[1][i]] for i in cords.index]\n",
    "    cords = cords.dropna()[:n].reset_index(drop=True)\n",
    "    \n",
    "    return cords"
   ]
  },
  {
   "cell_type": "code",
   "execution_count": 7,
   "id": "68dae23d",
   "metadata": {},
   "outputs": [
    {
     "name": "stdout",
     "output_type": "stream",
     "text": [
      "Testdaten mit 10.0% fehlenden Werten (absolut: 17030)\n"
     ]
    }
   ],
   "source": [
    "cords = get_cords(0.1)"
   ]
  },
  {
   "cell_type": "code",
   "execution_count": 8,
   "id": "e83f2a4b",
   "metadata": {},
   "outputs": [],
   "source": [
    "#getting train data by changing randomly chosen values to NaN\n",
    "def reset_train():\n",
    "    train = base.copy()\n",
    "    for i in cords.index:\n",
    "        train.iloc[cords[0][i], cords[1][i]] = None\n",
    "    return train"
   ]
  },
  {
   "cell_type": "code",
   "execution_count": 9,
   "id": "b7417452",
   "metadata": {},
   "outputs": [],
   "source": [
    "results = []"
   ]
  },
  {
   "cell_type": "code",
   "execution_count": 10,
   "id": "1a4ee24b",
   "metadata": {},
   "outputs": [],
   "source": [
    "def evaluate(method, df):\n",
    "    \n",
    "    '''\n",
    "    res1 = (pd.DataFrame({'y_true': [base.iloc[cords[0][i], cords[1][i]] for i in cords.index],\n",
    "                        'y_pred': [df.iloc[cords[0][i], cords[1][i]] for i in cords.index],\n",
    "                        'indicator': [df.index.get_level_values('Indicator Name')[cords[0][i]] for i in cords.index],\n",
    "                        'year': [df.columns[cords[1][i]] for i in cords.index]})\n",
    "         )\n",
    "    '''\n",
    "    \n",
    "    #scaling original data and imputed data\n",
    "    #necessary ?????????????????????????????????????\n",
    "    train = reset_train()\n",
    "    scaler = StandardScaler().fit(train) #fitting on train?\n",
    "    norm_base = pd.DataFrame(scaler.transform(base))\n",
    "    df = pd.DataFrame(scaler.transform(df))\n",
    "\n",
    "    #getting imputed values for simulated NaNs and true value \n",
    "    res =pd.DataFrame({'y_true': [norm_base.iloc[cords[0][i], cords[1][i]] for i in cords.index],\n",
    "                       'y_pred': [df.iloc[cords[0][i], cords[1][i]] for i in cords.index]\n",
    "                      })\n",
    "    res = res.dropna()\n",
    "\n",
    "   \n",
    "    #calculate evaluation metrics\n",
    "    r2 = r2_score(res['y_true'], res['y_pred'])\n",
    "    rmse = math.sqrt(mean_squared_error(res['y_true'], res['y_pred']))\n",
    "    still_missing = df.isna().sum().sum()\n",
    "    \n",
    "    print(f'Mit dieser Methode bleiben {still_missing} NaNs bestehen.')\n",
    "    print('')\n",
    "    print(f'{len(res)} Werte wurden für die Metriken verwendet.')\n",
    "    print(f'r2: {r2}, rmse: {rmse}')\n",
    "    \n",
    "    results.append([method, still_missing, r2, rmse])\n"
   ]
  },
  {
   "cell_type": "markdown",
   "id": "19e52da5",
   "metadata": {},
   "source": [
    "###  Imputation Verfahren"
   ]
  },
  {
   "cell_type": "markdown",
   "id": "48780b94",
   "metadata": {},
   "source": [
    "Es werden diese Imputation Methoden verglichen:\n",
    "- Backcasting\n",
    "- Durchschnitt\n",
    "- regionaler Durchschnitt\n",
    "- Iterative Imputer\n",
    "- KNN Imputer"
   ]
  },
  {
   "cell_type": "markdown",
   "id": "bf1aa949",
   "metadata": {},
   "source": [
    "#### Backfill"
   ]
  },
  {
   "cell_type": "code",
   "execution_count": 11,
   "id": "9feab176",
   "metadata": {},
   "outputs": [],
   "source": [
    "def impute_backfill(df):\n",
    "    df = df.fillna(method='bfill', limit=3)\n",
    "    return df"
   ]
  },
  {
   "cell_type": "code",
   "execution_count": 12,
   "id": "15106e66",
   "metadata": {},
   "outputs": [
    {
     "name": "stdout",
     "output_type": "stream",
     "text": [
      "Mit dieser Methode bleiben 33605 NaNs bestehen.\n",
      "\n",
      "16462 Werte wurden für die Metriken verwendet.\n",
      "r2: -0.043800632990352195, rmse: 2.089040474302827\n"
     ]
    }
   ],
   "source": [
    "base = reset_base()\n",
    "train = reset_train()\n",
    "df= impute_backfill(train) \n",
    "\n",
    "evaluate('Backfill', df)"
   ]
  },
  {
   "cell_type": "markdown",
   "id": "c199e7eb",
   "metadata": {},
   "source": [
    "#### Durchschnitt des Indikators über alle Jahre hinweg"
   ]
  },
  {
   "cell_type": "code",
   "execution_count": 13,
   "id": "9339d04c",
   "metadata": {},
   "outputs": [],
   "source": [
    "def impute_overall_means(df):\n",
    "    #fill NaNs with overall mean of that indicator\n",
    "    values = pd.DataFrame(df.stack()).groupby('Indicator Name')[0].mean()\n",
    "    df = pd.DataFrame(df.stack(dropna=False))\n",
    "    \n",
    "    df[0] = df[0].fillna(df.groupby('Indicator Name')[0].transform('mean'))\n",
    "    df = df.unstack()\n",
    "    df.columns = df.columns.droplevel(0)\n",
    "    df = df.sort_index(level='Indicator Name')\n",
    "        \n",
    "    return df"
   ]
  },
  {
   "cell_type": "code",
   "execution_count": 14,
   "id": "fa5d2ef6",
   "metadata": {},
   "outputs": [
    {
     "name": "stdout",
     "output_type": "stream",
     "text": [
      "Mit dieser Methode bleiben 0 NaNs bestehen.\n",
      "\n",
      "17030 Werte wurden für die Metriken verwendet.\n",
      "r2: -0.1953040317902126, rmse: 2.1979391673298037\n"
     ]
    }
   ],
   "source": [
    "base = reset_base()\n",
    "train = reset_train()\n",
    "df = impute_overall_means(train)\n",
    "\n",
    "evaluate('Overall Mean', df)"
   ]
  },
  {
   "cell_type": "markdown",
   "id": "556408e1",
   "metadata": {},
   "source": [
    "#### Durchschnitt des Indikators für das jeweilige Jahr"
   ]
  },
  {
   "cell_type": "code",
   "execution_count": 15,
   "id": "00f89dd3",
   "metadata": {},
   "outputs": [],
   "source": [
    "def impute_yearly_means(df):\n",
    "    #fill NaNs with overall mean of that indicator\n",
    "    \n",
    "    for i in df.columns:\n",
    "        df[i] = df[i].fillna(df.groupby('Indicator Name')[i].transform('mean'))\n",
    "            \n",
    "    return df"
   ]
  },
  {
   "cell_type": "code",
   "execution_count": 16,
   "id": "916f6b7a",
   "metadata": {},
   "outputs": [
    {
     "name": "stdout",
     "output_type": "stream",
     "text": [
      "Mit dieser Methode bleiben 52772 NaNs bestehen.\n",
      "\n",
      "17027 Werte wurden für die Metriken verwendet.\n",
      "r2: 0.013454075014286193, rmse: 1.9969783912024721\n"
     ]
    }
   ],
   "source": [
    "base = reset_base()\n",
    "train = reset_train()\n",
    "df = impute_yearly_means(train)\n",
    "\n",
    "evaluate('Yearly Mean',df)"
   ]
  },
  {
   "cell_type": "markdown",
   "id": "36834c68",
   "metadata": {},
   "source": [
    "#### Regionaler Durchschnitt des Indikators für das jeweilige Jahr"
   ]
  },
  {
   "cell_type": "code",
   "execution_count": 17,
   "id": "824e9152",
   "metadata": {},
   "outputs": [],
   "source": [
    "def impute_yearly_means_per_region(df):\n",
    "    country_data = pd.read_csv('../Data/WDICountry.csv')\n",
    "    country_data = country_data.loc[:,['Table Name', 'Region']]\n",
    "    df = pd.merge(df.reset_index(), country_data, how='left', left_on='Country Name', right_on='Table Name').drop('Table Name', axis=1)\n",
    "    df = df.set_index(['Country Name', 'Indicator Name', 'Region'])\n",
    "\n",
    "    for i in df.columns:\n",
    "        df[i] = df[i].fillna(df.groupby(['Indicator Name', 'Region'])[i].transform('mean'))\n",
    "\n",
    "    df = df.reset_index().set_index(['Country Name', 'Indicator Name']).drop('Region', axis=1)\n",
    "    return df"
   ]
  },
  {
   "cell_type": "code",
   "execution_count": 18,
   "id": "a3047337",
   "metadata": {},
   "outputs": [
    {
     "name": "stdout",
     "output_type": "stream",
     "text": [
      "Mit dieser Methode bleiben 57448 NaNs bestehen.\n",
      "\n",
      "16903 Werte wurden für die Metriken verwendet.\n",
      "r2: 0.05990583802688387, rmse: 1.9565294158245126\n"
     ]
    }
   ],
   "source": [
    "base = reset_base()\n",
    "train = reset_train()\n",
    "df = impute_yearly_means_per_region(train)\n",
    "evaluate('Yearly Mean per Region', df)"
   ]
  },
  {
   "cell_type": "markdown",
   "id": "e8252e72",
   "metadata": {},
   "source": [
    "#### Interpolation"
   ]
  },
  {
   "cell_type": "code",
   "execution_count": 19,
   "id": "a4f2d1f8",
   "metadata": {},
   "outputs": [],
   "source": [
    "def interpolate3(df):\n",
    "    df = df.interpolate(limit=3)\n",
    "    return df\n",
    "\n",
    "def interpolate5(df):\n",
    "    df = df.interpolate(limit=5)\n",
    "    return df"
   ]
  },
  {
   "cell_type": "code",
   "execution_count": 20,
   "id": "e6ce8ea7",
   "metadata": {},
   "outputs": [
    {
     "name": "stdout",
     "output_type": "stream",
     "text": [
      "Mit dieser Methode bleiben 13012 NaNs bestehen.\n",
      "\n",
      "16832 Werte wurden für die Metriken verwendet.\n",
      "r2: -0.04342625428812186, rmse: 2.0655957604675526\n"
     ]
    }
   ],
   "source": [
    "base = reset_base()\n",
    "train = reset_train()\n",
    "df = interpolate5(train)\n",
    "\n",
    "evaluate('Interpolation', df)"
   ]
  },
  {
   "cell_type": "markdown",
   "id": "6c33f68a",
   "metadata": {},
   "source": [
    "#### Iterative Imputer"
   ]
  },
  {
   "cell_type": "code",
   "execution_count": 21,
   "id": "595122a8",
   "metadata": {},
   "outputs": [],
   "source": [
    "def iterative_imputer_1(df):\n",
    "    iter_imp = IterativeImputer(random_state=999)\n",
    "    df= iter_imp.fit_transform(df)\n",
    "    return df\n",
    "\n",
    "def iterative_imputer_2(df):\n",
    "    df = df.unstack().T\n",
    "    col = df.columns\n",
    "    idx = df.index\n",
    "\n",
    "    iter_imp = IterativeImputer(random_state=999)\n",
    "    df= iter_imp.fit_transform(df)\n",
    "\n",
    "    df = pd.DataFrame(df, columns=col, index=idx)\n",
    "    df = df.unstack().T\n",
    "    df = df.sort_index(level=['Country Name', 'Indicator Name'])\n",
    "    \n",
    "    return df"
   ]
  },
  {
   "cell_type": "code",
   "execution_count": 22,
   "id": "3f83f49b",
   "metadata": {},
   "outputs": [
    {
     "name": "stderr",
     "output_type": "stream",
     "text": [
      "C:\\Users\\mbfbr\\Anaconda3\\envs\\other\\lib\\site-packages\\sklearn\\impute\\_iterative.py:699: ConvergenceWarning: [IterativeImputer] Early stopping criterion not reached.\n",
      "  warnings.warn(\n",
      "C:\\Users\\mbfbr\\Anaconda3\\envs\\other\\lib\\site-packages\\sklearn\\base.py:450: UserWarning: X does not have valid feature names, but StandardScaler was fitted with feature names\n",
      "  warnings.warn(\n"
     ]
    },
    {
     "name": "stdout",
     "output_type": "stream",
     "text": [
      "Mit dieser Methode bleiben 0 NaNs bestehen.\n",
      "\n",
      "17030 Werte wurden für die Metriken verwendet.\n",
      "r2: 0.9658526097359531, rmse: 0.37149693504215014\n"
     ]
    }
   ],
   "source": [
    "base = reset_base()\n",
    "train = reset_train()\n",
    "\n",
    "df = iterative_imputer_1(train)\n",
    "\n",
    "evaluate('Iterative Imputer 1', df)"
   ]
  },
  {
   "cell_type": "code",
   "execution_count": 23,
   "id": "d6dd7b27",
   "metadata": {},
   "outputs": [
    {
     "name": "stdout",
     "output_type": "stream",
     "text": [
      "Mit dieser Methode bleiben 0 NaNs bestehen.\n",
      "\n",
      "17030 Werte wurden für die Metriken verwendet.\n",
      "r2: 0.9452737170229422, rmse: 0.4702994294809716\n"
     ]
    }
   ],
   "source": [
    "base = reset_base()\n",
    "train = reset_train()\n",
    "\n",
    "df = iterative_imputer_2(train)\n",
    "\n",
    "evaluate('Iterative Imputer 2', df)"
   ]
  },
  {
   "cell_type": "markdown",
   "id": "693daf72",
   "metadata": {},
   "source": [
    "#### KNN Imputer"
   ]
  },
  {
   "cell_type": "code",
   "execution_count": 24,
   "id": "eb099bb1",
   "metadata": {},
   "outputs": [],
   "source": [
    "def knn_imputer(df):\n",
    "    knn_imp = KNNImputer( n_neighbors=2)\n",
    "    df= knn_imp.fit_transform(df)\n",
    "    return df"
   ]
  },
  {
   "cell_type": "code",
   "execution_count": 25,
   "id": "4436aade",
   "metadata": {},
   "outputs": [
    {
     "name": "stderr",
     "output_type": "stream",
     "text": [
      "C:\\Users\\mbfbr\\Anaconda3\\envs\\other\\lib\\site-packages\\sklearn\\base.py:450: UserWarning: X does not have valid feature names, but StandardScaler was fitted with feature names\n",
      "  warnings.warn(\n"
     ]
    },
    {
     "name": "stdout",
     "output_type": "stream",
     "text": [
      "Mit dieser Methode bleiben 0 NaNs bestehen.\n",
      "\n",
      "17030 Werte wurden für die Metriken verwendet.\n",
      "r2: 0.40171197982598716, rmse: 1.555004425815101\n"
     ]
    }
   ],
   "source": [
    "base = reset_base()\n",
    "train = reset_train()\n",
    "\n",
    "df = knn_imputer(train)\n",
    "\n",
    "evaluate('KNN Imputer', df)"
   ]
  },
  {
   "cell_type": "markdown",
   "id": "fa9afc1a",
   "metadata": {},
   "source": [
    "#### Results"
   ]
  },
  {
   "cell_type": "code",
   "execution_count": 26,
   "id": "541fc251",
   "metadata": {},
   "outputs": [
    {
     "data": {
      "text/html": [
       "<div>\n",
       "<style scoped>\n",
       "    .dataframe tbody tr th:only-of-type {\n",
       "        vertical-align: middle;\n",
       "    }\n",
       "\n",
       "    .dataframe tbody tr th {\n",
       "        vertical-align: top;\n",
       "    }\n",
       "\n",
       "    .dataframe thead th {\n",
       "        text-align: right;\n",
       "    }\n",
       "</style>\n",
       "<table border=\"1\" class=\"dataframe\">\n",
       "  <thead>\n",
       "    <tr style=\"text-align: right;\">\n",
       "      <th></th>\n",
       "      <th>0</th>\n",
       "      <th>1</th>\n",
       "      <th>2</th>\n",
       "      <th>3</th>\n",
       "    </tr>\n",
       "  </thead>\n",
       "  <tbody>\n",
       "    <tr>\n",
       "      <th>0</th>\n",
       "      <td>Backfill</td>\n",
       "      <td>33605</td>\n",
       "      <td>-0.043801</td>\n",
       "      <td>2.089040</td>\n",
       "    </tr>\n",
       "    <tr>\n",
       "      <th>1</th>\n",
       "      <td>Overall Mean</td>\n",
       "      <td>0</td>\n",
       "      <td>-0.195304</td>\n",
       "      <td>2.197939</td>\n",
       "    </tr>\n",
       "    <tr>\n",
       "      <th>2</th>\n",
       "      <td>Yearly Mean</td>\n",
       "      <td>52772</td>\n",
       "      <td>0.013454</td>\n",
       "      <td>1.996978</td>\n",
       "    </tr>\n",
       "    <tr>\n",
       "      <th>3</th>\n",
       "      <td>Yearly Mean per Region</td>\n",
       "      <td>57448</td>\n",
       "      <td>0.059906</td>\n",
       "      <td>1.956529</td>\n",
       "    </tr>\n",
       "    <tr>\n",
       "      <th>4</th>\n",
       "      <td>Interpolation</td>\n",
       "      <td>13012</td>\n",
       "      <td>-0.043426</td>\n",
       "      <td>2.065596</td>\n",
       "    </tr>\n",
       "    <tr>\n",
       "      <th>5</th>\n",
       "      <td>Iterative Imputer 1</td>\n",
       "      <td>0</td>\n",
       "      <td>0.965853</td>\n",
       "      <td>0.371497</td>\n",
       "    </tr>\n",
       "    <tr>\n",
       "      <th>6</th>\n",
       "      <td>Iterative Imputer 2</td>\n",
       "      <td>0</td>\n",
       "      <td>0.945274</td>\n",
       "      <td>0.470299</td>\n",
       "    </tr>\n",
       "    <tr>\n",
       "      <th>7</th>\n",
       "      <td>KNN Imputer</td>\n",
       "      <td>0</td>\n",
       "      <td>0.401712</td>\n",
       "      <td>1.555004</td>\n",
       "    </tr>\n",
       "  </tbody>\n",
       "</table>\n",
       "</div>"
      ],
      "text/plain": [
       "                        0      1         2         3\n",
       "0                Backfill  33605 -0.043801  2.089040\n",
       "1            Overall Mean      0 -0.195304  2.197939\n",
       "2             Yearly Mean  52772  0.013454  1.996978\n",
       "3  Yearly Mean per Region  57448  0.059906  1.956529\n",
       "4           Interpolation  13012 -0.043426  2.065596\n",
       "5     Iterative Imputer 1      0  0.965853  0.371497\n",
       "6     Iterative Imputer 2      0  0.945274  0.470299\n",
       "7             KNN Imputer      0  0.401712  1.555004"
      ]
     },
     "execution_count": 26,
     "metadata": {},
     "output_type": "execute_result"
    }
   ],
   "source": [
    "pd.DataFrame(results)"
   ]
  },
  {
   "cell_type": "code",
   "execution_count": null,
   "id": "ea0c2ae0",
   "metadata": {},
   "outputs": [],
   "source": []
  },
  {
   "cell_type": "code",
   "execution_count": null,
   "id": "3f2671aa",
   "metadata": {},
   "outputs": [],
   "source": []
  }
 ],
 "metadata": {
  "kernelspec": {
   "display_name": "Python 3 (ipykernel)",
   "language": "python",
   "name": "python3"
  },
  "language_info": {
   "codemirror_mode": {
    "name": "ipython",
    "version": 3
   },
   "file_extension": ".py",
   "mimetype": "text/x-python",
   "name": "python",
   "nbconvert_exporter": "python",
   "pygments_lexer": "ipython3",
   "version": "3.9.7"
  }
 },
 "nbformat": 4,
 "nbformat_minor": 5
}
