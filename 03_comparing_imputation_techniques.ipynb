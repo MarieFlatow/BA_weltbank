{
 "cells": [
  {
   "cell_type": "markdown",
   "id": "de5ee9b5",
   "metadata": {},
   "source": [
    "# Vergleich von Imputation Methoden"
   ]
  },
  {
   "cell_type": "markdown",
   "id": "f6372f0a",
   "metadata": {},
   "source": [
    "An dieser Stelle sollen verschiede Methoden zum interpolieren von fehlenden Werten betrachtet und verglichen werden."
   ]
  },
  {
   "cell_type": "markdown",
   "id": "79e93d63",
   "metadata": {},
   "source": [
    "### Vorbereitung"
   ]
  },
  {
   "cell_type": "code",
   "execution_count": 49,
   "id": "d6a4c49c",
   "metadata": {},
   "outputs": [],
   "source": [
    "import pandas as pd\n",
    "import numpy as np\n",
    "import math\n",
    "\n",
    "from sklearn.preprocessing import StandardScaler\n",
    "from sklearn.metrics import r2_score, mean_squared_error\n"
   ]
  },
  {
   "cell_type": "markdown",
   "id": "2d9cbf47",
   "metadata": {},
   "source": [
    "In der Folge werden keine Regionen oder Gruppierungen von Ländern und nur die Jahre ab 1990 betrachtet. \n",
    "Von dem verbliebenen Datensatz werden nur jene Indikatoren behalten, die mindesten 20% gefüllt sind."
   ]
  },
  {
   "cell_type": "code",
   "execution_count": 50,
   "id": "53a06671",
   "metadata": {},
   "outputs": [],
   "source": [
    "def reset_original():\n",
    "    pd.set_option('display.float_format', lambda x: '%.4f' % x)\n",
    "\n",
    "    base= pd.read_csv('../Data/WDIData.csv') #see downloads worldbank\n",
    "    base = base.drop(['Country Code', 'Indicator Code', 'Unnamed: 66'], axis=1) #name of column 'Unnamed: 66' may differ\n",
    "\n",
    "    countries = pd.read_csv('additional_data/countries.csv').drop('Unnamed: 0', axis=1)\n",
    "    base = pd.merge(base, countries, how='left')\n",
    "    base = base.loc[base['Type'] != 'Region'].drop('Type', axis=1)\n",
    "\n",
    "    base = base.set_index(['Country Name', 'Indicator Name'])\n",
    "    base = base.loc[:, '1990':'2020']\n",
    "\n",
    "    idx = pd.IndexSlice\n",
    "    keep = pd.DataFrame(pd.DataFrame(base.isna().groupby('Indicator Name').sum()).T.sum(), columns=['NaN'])\n",
    "    keep = keep.loc[keep['NaN'] <len(base.index.get_level_values('Country Name').unique())*len(base.columns)*0.8] #kept if 80% of entries are not NaN\n",
    "    base = base.loc[idx[:, keep.index], :]\n",
    "    return base"
   ]
  },
  {
   "cell_type": "code",
   "execution_count": 51,
   "id": "58fae007",
   "metadata": {},
   "outputs": [],
   "source": [
    "def reset_base():\n",
    "    base= pd.read_csv('additional_data/base.csv') \n",
    "    base.set_index(['Country Name', 'Indicator Name'], inplace=True)\n",
    "    return base"
   ]
  },
  {
   "cell_type": "code",
   "execution_count": 52,
   "id": "4810a09b",
   "metadata": {},
   "outputs": [
    {
     "data": {
      "text/plain": [
       "170307"
      ]
     },
     "execution_count": 52,
     "metadata": {},
     "output_type": "execute_result"
    }
   ],
   "source": [
    "base = reset_base()\n",
    "base.isna().sum().sum()"
   ]
  },
  {
   "cell_type": "markdown",
   "id": "684223dd",
   "metadata": {},
   "source": [
    "Um die Performanz unterschiedlicher Imutation Verfahren zu vergleichen werden weitere 1000 vorhandene (nicht NaN) Einträge entfernt. Diese 1000 Einträge werden später als Test-Daten verwendet, auf ihrer Grundlage lassen sich die Fehler der analysierten Verfahren errechnen. Um sicherzustellen, dass die Ergebnisse reproduzierbar sind wird ein Random State gesetzt. Dann werden zufällig Koordinaten zu Dateneinträgen gezogen. Da an dieser Stelle nur vorhandene Einträge relevant sind, werde zunächst zu viele Koordinaten gezogen, diese dann mit dem Datensatz abgeglichen und gelöscht, falls sie zu einem NaN zeigen und dann die ersten 1000 verbliebenen (und damit relevanten) Einträge ausgewählt. Diese werden in den Trainingsdaten entfernt. Auf diese Weise bleibt eine Reproduzierbarkeit erhalten."
   ]
  },
  {
   "cell_type": "code",
   "execution_count": 53,
   "id": "eef559ed",
   "metadata": {},
   "outputs": [
    {
     "data": {
      "text/html": [
       "<div>\n",
       "<style scoped>\n",
       "    .dataframe tbody tr th:only-of-type {\n",
       "        vertical-align: middle;\n",
       "    }\n",
       "\n",
       "    .dataframe tbody tr th {\n",
       "        vertical-align: top;\n",
       "    }\n",
       "\n",
       "    .dataframe thead th {\n",
       "        text-align: right;\n",
       "    }\n",
       "</style>\n",
       "<table border=\"1\" class=\"dataframe\">\n",
       "  <thead>\n",
       "    <tr style=\"text-align: right;\">\n",
       "      <th></th>\n",
       "      <th></th>\n",
       "      <th>1990</th>\n",
       "      <th>1991</th>\n",
       "      <th>1992</th>\n",
       "      <th>1993</th>\n",
       "      <th>1994</th>\n",
       "      <th>1995</th>\n",
       "      <th>1996</th>\n",
       "      <th>1997</th>\n",
       "      <th>1998</th>\n",
       "      <th>1999</th>\n",
       "      <th>...</th>\n",
       "      <th>2011</th>\n",
       "      <th>2012</th>\n",
       "      <th>2013</th>\n",
       "      <th>2014</th>\n",
       "      <th>2015</th>\n",
       "      <th>2016</th>\n",
       "      <th>2017</th>\n",
       "      <th>2018</th>\n",
       "      <th>2019</th>\n",
       "      <th>2020</th>\n",
       "    </tr>\n",
       "    <tr>\n",
       "      <th>Country Name</th>\n",
       "      <th>Indicator Name</th>\n",
       "      <th></th>\n",
       "      <th></th>\n",
       "      <th></th>\n",
       "      <th></th>\n",
       "      <th></th>\n",
       "      <th></th>\n",
       "      <th></th>\n",
       "      <th></th>\n",
       "      <th></th>\n",
       "      <th></th>\n",
       "      <th></th>\n",
       "      <th></th>\n",
       "      <th></th>\n",
       "      <th></th>\n",
       "      <th></th>\n",
       "      <th></th>\n",
       "      <th></th>\n",
       "      <th></th>\n",
       "      <th></th>\n",
       "      <th></th>\n",
       "      <th></th>\n",
       "    </tr>\n",
       "  </thead>\n",
       "  <tbody>\n",
       "    <tr>\n",
       "      <th>Afghanistan</th>\n",
       "      <th>Land area (sq. km)</th>\n",
       "      <td>652860.0</td>\n",
       "      <td>652860.0</td>\n",
       "      <td>652860.0</td>\n",
       "      <td>652860.0</td>\n",
       "      <td>652860.0</td>\n",
       "      <td>652860.0</td>\n",
       "      <td>652860.0</td>\n",
       "      <td>652860.0</td>\n",
       "      <td>652860.0</td>\n",
       "      <td>652860.0</td>\n",
       "      <td>...</td>\n",
       "      <td>652860.0</td>\n",
       "      <td>652860.0</td>\n",
       "      <td>652860.0</td>\n",
       "      <td>652860.0</td>\n",
       "      <td>652860.0</td>\n",
       "      <td>652860.0</td>\n",
       "      <td>652860.0</td>\n",
       "      <td>652860.0</td>\n",
       "      <td>652860.0</td>\n",
       "      <td>652860.0</td>\n",
       "    </tr>\n",
       "    <tr>\n",
       "      <th>Albania</th>\n",
       "      <th>Land area (sq. km)</th>\n",
       "      <td>27400.0</td>\n",
       "      <td>27400.0</td>\n",
       "      <td>27400.0</td>\n",
       "      <td>27400.0</td>\n",
       "      <td>27400.0</td>\n",
       "      <td>27400.0</td>\n",
       "      <td>27400.0</td>\n",
       "      <td>27400.0</td>\n",
       "      <td>27400.0</td>\n",
       "      <td>27400.0</td>\n",
       "      <td>...</td>\n",
       "      <td>27400.0</td>\n",
       "      <td>27400.0</td>\n",
       "      <td>27400.0</td>\n",
       "      <td>27400.0</td>\n",
       "      <td>27400.0</td>\n",
       "      <td>27400.0</td>\n",
       "      <td>27400.0</td>\n",
       "      <td>27400.0</td>\n",
       "      <td>27400.0</td>\n",
       "      <td>27400.0</td>\n",
       "    </tr>\n",
       "    <tr>\n",
       "      <th>Algeria</th>\n",
       "      <th>Land area (sq. km)</th>\n",
       "      <td>2381740.0</td>\n",
       "      <td>2381740.0</td>\n",
       "      <td>2381740.0</td>\n",
       "      <td>2381740.0</td>\n",
       "      <td>2381740.0</td>\n",
       "      <td>2381740.0</td>\n",
       "      <td>2381740.0</td>\n",
       "      <td>2381740.0</td>\n",
       "      <td>2381740.0</td>\n",
       "      <td>2381740.0</td>\n",
       "      <td>...</td>\n",
       "      <td>2381740.0</td>\n",
       "      <td>2381740.0</td>\n",
       "      <td>2381740.0</td>\n",
       "      <td>2381740.0</td>\n",
       "      <td>2381741.0</td>\n",
       "      <td>2381741.0</td>\n",
       "      <td>2381741.0</td>\n",
       "      <td>2381741.0</td>\n",
       "      <td>2381741.0</td>\n",
       "      <td>2381741.0</td>\n",
       "    </tr>\n",
       "  </tbody>\n",
       "</table>\n",
       "<p>3 rows × 31 columns</p>\n",
       "</div>"
      ],
      "text/plain": [
       "                                      1990       1991       1992       1993  \\\n",
       "Country Name Indicator Name                                                   \n",
       "Afghanistan  Land area (sq. km)   652860.0   652860.0   652860.0   652860.0   \n",
       "Albania      Land area (sq. km)    27400.0    27400.0    27400.0    27400.0   \n",
       "Algeria      Land area (sq. km)  2381740.0  2381740.0  2381740.0  2381740.0   \n",
       "\n",
       "                                      1994       1995       1996       1997  \\\n",
       "Country Name Indicator Name                                                   \n",
       "Afghanistan  Land area (sq. km)   652860.0   652860.0   652860.0   652860.0   \n",
       "Albania      Land area (sq. km)    27400.0    27400.0    27400.0    27400.0   \n",
       "Algeria      Land area (sq. km)  2381740.0  2381740.0  2381740.0  2381740.0   \n",
       "\n",
       "                                      1998       1999  ...       2011  \\\n",
       "Country Name Indicator Name                            ...              \n",
       "Afghanistan  Land area (sq. km)   652860.0   652860.0  ...   652860.0   \n",
       "Albania      Land area (sq. km)    27400.0    27400.0  ...    27400.0   \n",
       "Algeria      Land area (sq. km)  2381740.0  2381740.0  ...  2381740.0   \n",
       "\n",
       "                                      2012       2013       2014       2015  \\\n",
       "Country Name Indicator Name                                                   \n",
       "Afghanistan  Land area (sq. km)   652860.0   652860.0   652860.0   652860.0   \n",
       "Albania      Land area (sq. km)    27400.0    27400.0    27400.0    27400.0   \n",
       "Algeria      Land area (sq. km)  2381740.0  2381740.0  2381740.0  2381741.0   \n",
       "\n",
       "                                      2016       2017       2018       2019  \\\n",
       "Country Name Indicator Name                                                   \n",
       "Afghanistan  Land area (sq. km)   652860.0   652860.0   652860.0   652860.0   \n",
       "Albania      Land area (sq. km)    27400.0    27400.0    27400.0    27400.0   \n",
       "Algeria      Land area (sq. km)  2381741.0  2381741.0  2381741.0  2381741.0   \n",
       "\n",
       "                                      2020  \n",
       "Country Name Indicator Name                 \n",
       "Afghanistan  Land area (sq. km)   652860.0  \n",
       "Albania      Land area (sq. km)    27400.0  \n",
       "Algeria      Land area (sq. km)  2381741.0  \n",
       "\n",
       "[3 rows x 31 columns]"
      ]
     },
     "execution_count": 53,
     "metadata": {},
     "output_type": "execute_result"
    }
   ],
   "source": [
    "base.head(3)"
   ]
  },
  {
   "cell_type": "markdown",
   "id": "82af3855",
   "metadata": {},
   "source": [
    "### Simulation fehlender Werte und Evaluation"
   ]
  },
  {
   "cell_type": "code",
   "execution_count": 54,
   "id": "3ab75db4",
   "metadata": {},
   "outputs": [],
   "source": [
    "def get_cords(frac):\n",
    "    n = int(base.isna().sum().sum()*frac)\n",
    "    print(f'Testdaten mit {n}% fehlenden Werten (absolut: {n})')\n",
    "    #random state to ensure reproducibility\n",
    "    rnds = np.random.RandomState(n)\n",
    "\n",
    "    #coordinates for data entries to be removed randomly\n",
    "    #5000 entries are selected\n",
    "    cords = pd.DataFrame([[rnds.randint(0, len(base), size=n*4)[i], \n",
    "                  rnds.randint(0, len(base.columns), size=n*4)[i]]\n",
    "                  for i in range(n*4)])\n",
    "\n",
    "    #all coordinates pointing to NaN entries are removed and\n",
    "    #first 1000 remaining entries are selected\n",
    "    cords['value'] = [base.iloc[cords[0][i], cords[1][i]] for i in cords.index]\n",
    "    cords = cords.dropna()[:n].reset_index(drop=True)\n",
    "    \n",
    "    return cords"
   ]
  },
  {
   "cell_type": "code",
   "execution_count": 55,
   "id": "68dae23d",
   "metadata": {},
   "outputs": [
    {
     "name": "stdout",
     "output_type": "stream",
     "text": [
      "Testdaten mit 17030% fehlenden Werten (absolut: 17030)\n"
     ]
    }
   ],
   "source": [
    "cords = get_cords(0.1)"
   ]
  },
  {
   "cell_type": "code",
   "execution_count": 56,
   "id": "e83f2a4b",
   "metadata": {},
   "outputs": [],
   "source": [
    "#getting train data by changing randomly chosen values to NaN\n",
    "def reset_train():\n",
    "    train = base.copy()\n",
    "    for i in cords.index:\n",
    "        train.iloc[cords[0][i], cords[1][i]] = None\n",
    "    return train"
   ]
  },
  {
   "cell_type": "code",
   "execution_count": 57,
   "id": "1a4ee24b",
   "metadata": {},
   "outputs": [],
   "source": [
    "def evaluate(df):\n",
    "    #scaling original data and imputed data\n",
    "    #necessary ?????????????????????????????????????\n",
    "    res1 = (pd.DataFrame({'y_true': [base.iloc[cords[0][i], cords[1][i]] for i in cords.index],\n",
    "                        'y_pred': [df.iloc[cords[0][i], cords[1][i]] for i in cords.index],\n",
    "                        'indicator': [df.index.get_level_values('Indicator Name')[cords[0][i]] for i in cords.index],\n",
    "                        'year': [df.columns[cords[1][i]] for i in cords.index]})\n",
    "         )\n",
    "    \n",
    "    \n",
    "    scaler = StandardScaler().fit(train) #fitting on train?\n",
    "    norm_base = pd.DataFrame(scaler.transform(base))\n",
    "    df = pd.DataFrame(scaler.transform(df))\n",
    "\n",
    "    #getting imputed values for simulated NaNs and true value \n",
    "    res =pd.DataFrame({'y_true': [norm_base.iloc[cords[0][i], cords[1][i]] for i in cords.index],\n",
    "                       'y_pred': [df.iloc[cords[0][i], cords[1][i]] for i in cords.index]\n",
    "                      })\n",
    "    res = res.dropna()\n",
    "\n",
    "   \n",
    "    #calculate evaluation metrics\n",
    "    r2 = r2_score(res['y_true'], res['y_pred'])\n",
    "    rmse = math.sqrt(mean_squared_error(res['y_true'], res['y_pred']))\n",
    "    still_missing = df.isna().sum().sum()\n",
    "    \n",
    "    print(f'Mit dieser Methode bleiben {still_missing} NaNs bestehen.')\n",
    "    print('')\n",
    "    print(f'{len(res)} Werte wurden für die Metriken verwendet.')\n",
    "    print(f'r2: {r2}, rmse: {rmse}')\n",
    "\n",
    "    return still_missing, r2, rmse\n",
    "    #return res1"
   ]
  },
  {
   "cell_type": "markdown",
   "id": "19e52da5",
   "metadata": {},
   "source": [
    "###  Imputation Verfahren"
   ]
  },
  {
   "cell_type": "markdown",
   "id": "48780b94",
   "metadata": {},
   "source": [
    "Es werden diese Imputation Methoden verglichen:\n",
    "- Backcasting\n",
    "- Durchschnitt\n",
    "- regionaler Durchschnitt"
   ]
  },
  {
   "cell_type": "markdown",
   "id": "bf1aa949",
   "metadata": {},
   "source": [
    "#### Backfill"
   ]
  },
  {
   "cell_type": "code",
   "execution_count": 58,
   "id": "9feab176",
   "metadata": {},
   "outputs": [],
   "source": [
    "def impute_backfill(df):\n",
    "    df = df.fillna(method='bfill', limit=3)\n",
    "    return df"
   ]
  },
  {
   "cell_type": "code",
   "execution_count": 59,
   "id": "15106e66",
   "metadata": {},
   "outputs": [
    {
     "name": "stdout",
     "output_type": "stream",
     "text": [
      "Mit dieser Methode bleiben 64593 NaNs bestehen.\n",
      "\n",
      "16760 Werte wurden für die Metriken verwendet.\n",
      "r2: -2.4092312597019343, rmse: 1.8190767598995974\n"
     ]
    },
    {
     "data": {
      "text/plain": [
       "(64593, -2.4092312597019343, 1.8190767598995974)"
      ]
     },
     "execution_count": 59,
     "metadata": {},
     "output_type": "execute_result"
    }
   ],
   "source": [
    "base = reset_base()\n",
    "train = reset_train()\n",
    "df= impute_backfill(train) \n",
    "\n",
    "evaluate(df)"
   ]
  },
  {
   "cell_type": "markdown",
   "id": "c199e7eb",
   "metadata": {},
   "source": [
    "#### Durchschnitt des Indikators über alle Jahre hinweg"
   ]
  },
  {
   "cell_type": "code",
   "execution_count": 60,
   "id": "9339d04c",
   "metadata": {},
   "outputs": [],
   "source": [
    "def impute_overall_means(df):\n",
    "    #fill NaNs with overall mean of that indicator\n",
    "    values = pd.DataFrame(df.stack()).groupby('Indicator Name')[0].mean()\n",
    "    df = pd.DataFrame(df.stack(dropna=False))\n",
    "    \n",
    "    df[0] = df[0].fillna(df.groupby('Indicator Name')[0].transform('mean'))\n",
    "    df = df.unstack()\n",
    "    df.columns = df.columns.droplevel(0)\n",
    "    df = df.sort_index(level='Indicator Name')\n",
    "        \n",
    "    return df"
   ]
  },
  {
   "cell_type": "code",
   "execution_count": 61,
   "id": "fa5d2ef6",
   "metadata": {},
   "outputs": [
    {
     "name": "stdout",
     "output_type": "stream",
     "text": [
      "Mit dieser Methode bleiben 0 NaNs bestehen.\n",
      "\n",
      "17030 Werte wurden für die Metriken verwendet.\n",
      "r2: -0.20295145686571625, rmse: 1.071967426854792\n"
     ]
    },
    {
     "data": {
      "text/plain": [
       "(0, -0.20295145686571625, 1.071967426854792)"
      ]
     },
     "execution_count": 61,
     "metadata": {},
     "output_type": "execute_result"
    }
   ],
   "source": [
    "base = reset_base()\n",
    "train = reset_train()\n",
    "df = impute_overall_means(train)\n",
    "\n",
    "evaluate(df)"
   ]
  },
  {
   "cell_type": "markdown",
   "id": "556408e1",
   "metadata": {},
   "source": [
    "#### Durchschnitt des Indikators für das jeweilige Jahr"
   ]
  },
  {
   "cell_type": "code",
   "execution_count": 62,
   "id": "00f89dd3",
   "metadata": {},
   "outputs": [],
   "source": [
    "def impute_yearly_means(df):\n",
    "    #fill NaNs with overall mean of that indicator\n",
    "    \n",
    "    for i in df.columns:\n",
    "        df[i] = df[i].fillna(df.groupby('Indicator Name')[i].transform('mean'))\n",
    "            \n",
    "    return df"
   ]
  },
  {
   "cell_type": "code",
   "execution_count": 63,
   "id": "916f6b7a",
   "metadata": {},
   "outputs": [
    {
     "name": "stdout",
     "output_type": "stream",
     "text": [
      "Mit dieser Methode bleiben 52456 NaNs bestehen.\n",
      "\n",
      "17029 Werte wurden für die Metriken verwendet.\n",
      "r2: 0.0260213877002079, rmse: 1.0708498012053167\n"
     ]
    },
    {
     "data": {
      "text/plain": [
       "(52456, 0.0260213877002079, 1.0708498012053167)"
      ]
     },
     "execution_count": 63,
     "metadata": {},
     "output_type": "execute_result"
    }
   ],
   "source": [
    "base = reset_base()\n",
    "train = reset_train()\n",
    "df = impute_yearly_means(train)\n",
    "\n",
    "evaluate(df)"
   ]
  },
  {
   "cell_type": "markdown",
   "id": "36834c68",
   "metadata": {},
   "source": [
    "#### Regionaler Durchschnitt des Indikators für das jeweilige Jahr"
   ]
  },
  {
   "cell_type": "code",
   "execution_count": 64,
   "id": "824e9152",
   "metadata": {},
   "outputs": [],
   "source": [
    "def impute_yearly_means_per_region(df):\n",
    "    country_data = pd.read_csv('../Data/WDICountry.csv')\n",
    "    country_data = country_data.loc[:,['Table Name', 'Region']]\n",
    "    df = pd.merge(df.reset_index(), country_data, how='left', left_on='Country Name', right_on='Table Name').drop('Table Name', axis=1)\n",
    "    df = df.set_index(['Country Name', 'Indicator Name', 'Region'])\n",
    "\n",
    "    for i in df.columns:\n",
    "        df[i] = df[i].fillna(df.groupby(['Indicator Name', 'Region'])[i].transform('mean'))\n",
    "\n",
    "    df = df.reset_index().set_index(['Country Name', 'Indicator Name']).drop('Region', axis=1)\n",
    "    return df"
   ]
  },
  {
   "cell_type": "code",
   "execution_count": 65,
   "id": "a3047337",
   "metadata": {},
   "outputs": [
    {
     "name": "stdout",
     "output_type": "stream",
     "text": [
      "Mit dieser Methode bleiben 57345 NaNs bestehen.\n",
      "\n",
      "16903 Werte wurden für die Metriken verwendet.\n",
      "r2: 0.15676407843005447, rmse: 0.9008547931175253\n"
     ]
    },
    {
     "data": {
      "text/plain": [
       "(57345, 0.15676407843005447, 0.9008547931175253)"
      ]
     },
     "execution_count": 65,
     "metadata": {},
     "output_type": "execute_result"
    }
   ],
   "source": [
    "base = reset_base()\n",
    "train = reset_train()\n",
    "df = impute_yearly_means_per_region(train)\n",
    "evaluate(df)"
   ]
  },
  {
   "cell_type": "markdown",
   "id": "e8252e72",
   "metadata": {},
   "source": [
    "#### Interpolation"
   ]
  },
  {
   "cell_type": "code",
   "execution_count": 68,
   "id": "a4f2d1f8",
   "metadata": {},
   "outputs": [],
   "source": [
    "def interpolate3(df):\n",
    "    df = df.interpolate(limit=3)\n",
    "    return df\n",
    "\n",
    "def interpolate5(df):\n",
    "    df = df.interpolate(limit=5)\n",
    "    return df"
   ]
  },
  {
   "cell_type": "code",
   "execution_count": 71,
   "id": "e6ce8ea7",
   "metadata": {},
   "outputs": [
    {
     "name": "stdout",
     "output_type": "stream",
     "text": [
      "Mit dieser Methode bleiben 58021 NaNs bestehen.\n",
      "\n",
      "16970 Werte wurden für die Metriken verwendet.\n",
      "r2: -1.125992036007828, rmse: 1.42759152496208\n"
     ]
    },
    {
     "data": {
      "text/plain": [
       "(58021, -1.125992036007828, 1.42759152496208)"
      ]
     },
     "execution_count": 71,
     "metadata": {},
     "output_type": "execute_result"
    }
   ],
   "source": [
    "base = reset_base()\n",
    "train = reset_train()\n",
    "df = interpolate5(train)\n",
    "\n",
    "evaluate(df)"
   ]
  },
  {
   "cell_type": "code",
   "execution_count": null,
   "id": "541fc251",
   "metadata": {},
   "outputs": [],
   "source": []
  }
 ],
 "metadata": {
  "kernelspec": {
   "display_name": "Python 3 (ipykernel)",
   "language": "python",
   "name": "python3"
  },
  "language_info": {
   "codemirror_mode": {
    "name": "ipython",
    "version": 3
   },
   "file_extension": ".py",
   "mimetype": "text/x-python",
   "name": "python",
   "nbconvert_exporter": "python",
   "pygments_lexer": "ipython3",
   "version": "3.9.7"
  }
 },
 "nbformat": 4,
 "nbformat_minor": 5
}
