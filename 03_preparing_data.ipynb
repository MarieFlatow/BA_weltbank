{
 "cells": [
  {
   "cell_type": "markdown",
   "id": "a32c7361",
   "metadata": {},
   "source": [
    "# Vorbereitung des Datensatzes"
   ]
  },
  {
   "cell_type": "code",
   "execution_count": 17,
   "id": "9afdb745",
   "metadata": {},
   "outputs": [],
   "source": [
    "import pandas as pd\n",
    "import numpy as np"
   ]
  },
  {
   "cell_type": "markdown",
   "id": "89628457",
   "metadata": {},
   "source": [
    "In der Folge werden keine Ländergruppen und nur die Jahre 1990 bis 2020 betrachet. Von dem verbliebenen Datensatz werden nur jene Indikatoren behalten, die mindesten 20% gefüllt sind."
   ]
  },
  {
   "cell_type": "code",
   "execution_count": 18,
   "id": "983747de",
   "metadata": {},
   "outputs": [],
   "source": [
    "def reset_base():\n",
    "    pd.set_option('display.float_format', lambda x: '%.4f' % x)\n",
    "    idx = pd.IndexSlice\n",
    "    \n",
    "    #loading original data\n",
    "    base= pd.read_csv('../Data/WDIData.csv') #see downloads worldbank\n",
    "    base = base.drop(['Country Code', 'Indicator Code', 'Unnamed: 66'], axis=1) #name of column 'Unnamed: 66' may differ\n",
    "        \n",
    "    #dropping regions\n",
    "    countries = pd.read_csv('additional_data/countries.csv').drop('Unnamed: 0', axis=1)\n",
    "    base = pd.merge(base, countries, how='left')\n",
    "    base = base.loc[base['Type'] != 'Region'].drop('Type', axis=1)\n",
    "    \n",
    "    #keeping only years 1990-2020\n",
    "    base = base.set_index(['Country Name', 'Indicator Name'])\n",
    "    base = base.loc[:, '1990':'2020']\n",
    "\n",
    "    #dropping countries and territories with less than 1 million occupants\n",
    "    x = base.index.get_level_values('Country Name').unique()[base.loc[idx[:, 'Population, total'], '2014'].values > 1000000]\n",
    "    base = base[base.index.get_level_values('Country Name').isin(x) == True]\n",
    "    \n",
    "    #dropping all indicators with more then 50% missing values\n",
    "    keep = pd.DataFrame(pd.DataFrame(base.isna().groupby('Indicator Name').sum()).T.sum(), columns=['NaN'])\n",
    "    keep = keep.loc[keep['NaN'] <len(base.index.get_level_values('Country Name').unique())*len(base.columns)*0.5] #kept if 80% of entries are not NaN\n",
    "    base = base.loc[idx[:, keep.index], :]\n",
    "    return base\n",
    "\n"
   ]
  },
  {
   "cell_type": "code",
   "execution_count": 19,
   "id": "ff0c0fe6",
   "metadata": {},
   "outputs": [],
   "source": [
    "base = reset_base()"
   ]
  },
  {
   "cell_type": "code",
   "execution_count": 20,
   "id": "66b178fb",
   "metadata": {},
   "outputs": [
    {
     "name": "stdout",
     "output_type": "stream",
     "text": [
      "Number of countries remaining: 158\n",
      "Number of indicators remaining: 832\n"
     ]
    }
   ],
   "source": [
    "print(f'Number of countries remaining: {len(base.index.get_level_values(\"Country Name\").unique())}')\n",
    "print(f'Number of indicators remaining: {len(base.index.get_level_values(\"Indicator Name\").unique())}')"
   ]
  },
  {
   "cell_type": "code",
   "execution_count": 21,
   "id": "15fe3ae3",
   "metadata": {},
   "outputs": [
    {
     "name": "stdout",
     "output_type": "stream",
     "text": [
      "Number of NaNs still in Dataset: 876209\n",
      "Percentage of missing values: 0.2739071569935794\n"
     ]
    }
   ],
   "source": [
    "print(f\"Number of NaNs still in Dataset: {base.isna().sum().sum()}\")\n",
    "print(f\"Percentage of missing values: {base.isna().sum().sum()/base.notna().sum().sum()}\")"
   ]
  },
  {
   "cell_type": "markdown",
   "id": "99ea97d6",
   "metadata": {},
   "source": [
    "Die verbliebenen Indikatoren werden hier aufgeführt. Dazu ist zu sehen, wie viele Einträge für diesen Indikator in den Jahren 1990 bis 2020 fehlen und in welche thematischen Bereiche die Indikatoren fallen. Aus dieser Auslistung wurden nun manuel Indikatoren ausgewählt, die \n",
    "- verhältnismäßig gut ausgefüllt sind,\n",
    "- alle Themenbereiche abdecken und \n",
    "- Relevanz für die kommenden Analysen haben."
   ]
  },
  {
   "cell_type": "code",
   "execution_count": 22,
   "id": "91b56b65",
   "metadata": {},
   "outputs": [
    {
     "data": {
      "text/html": [
       "<div>\n",
       "<style scoped>\n",
       "    .dataframe tbody tr th:only-of-type {\n",
       "        vertical-align: middle;\n",
       "    }\n",
       "\n",
       "    .dataframe tbody tr th {\n",
       "        vertical-align: top;\n",
       "    }\n",
       "\n",
       "    .dataframe thead th {\n",
       "        text-align: right;\n",
       "    }\n",
       "</style>\n",
       "<table border=\"1\" class=\"dataframe\">\n",
       "  <thead>\n",
       "    <tr style=\"text-align: right;\">\n",
       "      <th></th>\n",
       "      <th>indicators</th>\n",
       "      <th>nan</th>\n",
       "      <th>n</th>\n",
       "      <th>Topic description</th>\n",
       "    </tr>\n",
       "  </thead>\n",
       "  <tbody>\n",
       "    <tr>\n",
       "      <th>0</th>\n",
       "      <td>Population, total</td>\n",
       "      <td>3</td>\n",
       "      <td>5211</td>\n",
       "      <td>Social: population</td>\n",
       "    </tr>\n",
       "    <tr>\n",
       "      <th>1</th>\n",
       "      <td>Population growth (annual %)</td>\n",
       "      <td>6</td>\n",
       "      <td>5208</td>\n",
       "      <td>Social: population</td>\n",
       "    </tr>\n",
       "    <tr>\n",
       "      <th>2</th>\n",
       "      <td>Land area (sq. km)</td>\n",
       "      <td>24</td>\n",
       "      <td>5190</td>\n",
       "      <td>Agriculture</td>\n",
       "    </tr>\n",
       "    <tr>\n",
       "      <th>3</th>\n",
       "      <td>Population density (people per sq. km of land ...</td>\n",
       "      <td>27</td>\n",
       "      <td>5187</td>\n",
       "      <td>Environment: general</td>\n",
       "    </tr>\n",
       "    <tr>\n",
       "      <th>4</th>\n",
       "      <td>Population ages 65 and above (% of total popul...</td>\n",
       "      <td>31</td>\n",
       "      <td>5183</td>\n",
       "      <td>Social: population</td>\n",
       "    </tr>\n",
       "    <tr>\n",
       "      <th>...</th>\n",
       "      <td>...</td>\n",
       "      <td>...</td>\n",
       "      <td>...</td>\n",
       "      <td>...</td>\n",
       "    </tr>\n",
       "    <tr>\n",
       "      <th>827</th>\n",
       "      <td>Subsidies and other transfers (current LCU)</td>\n",
       "      <td>2401</td>\n",
       "      <td>2813</td>\n",
       "      <td>Government finance: IMF</td>\n",
       "    </tr>\n",
       "    <tr>\n",
       "      <th>828</th>\n",
       "      <td>Government expenditure on education, total (% ...</td>\n",
       "      <td>2408</td>\n",
       "      <td>2806</td>\n",
       "      <td>Social: education</td>\n",
       "    </tr>\n",
       "    <tr>\n",
       "      <th>829</th>\n",
       "      <td>Adjusted net enrollment rate, primary (% of pr...</td>\n",
       "      <td>2409</td>\n",
       "      <td>2805</td>\n",
       "      <td>Social: education</td>\n",
       "    </tr>\n",
       "    <tr>\n",
       "      <th>830</th>\n",
       "      <td>Subsidies and other transfers (% of expense)</td>\n",
       "      <td>2433</td>\n",
       "      <td>2781</td>\n",
       "      <td>Government finance: IMF</td>\n",
       "    </tr>\n",
       "    <tr>\n",
       "      <th>831</th>\n",
       "      <td>Other expense (current LCU)</td>\n",
       "      <td>2436</td>\n",
       "      <td>2778</td>\n",
       "      <td>Government finance: IMF</td>\n",
       "    </tr>\n",
       "  </tbody>\n",
       "</table>\n",
       "<p>832 rows × 4 columns</p>\n",
       "</div>"
      ],
      "text/plain": [
       "                                            indicators   nan     n  \\\n",
       "0                                    Population, total     3  5211   \n",
       "1                         Population growth (annual %)     6  5208   \n",
       "2                                   Land area (sq. km)    24  5190   \n",
       "3    Population density (people per sq. km of land ...    27  5187   \n",
       "4    Population ages 65 and above (% of total popul...    31  5183   \n",
       "..                                                 ...   ...   ...   \n",
       "827        Subsidies and other transfers (current LCU)  2401  2813   \n",
       "828  Government expenditure on education, total (% ...  2408  2806   \n",
       "829  Adjusted net enrollment rate, primary (% of pr...  2409  2805   \n",
       "830       Subsidies and other transfers (% of expense)  2433  2781   \n",
       "831                        Other expense (current LCU)  2436  2778   \n",
       "\n",
       "           Topic description  \n",
       "0         Social: population  \n",
       "1         Social: population  \n",
       "2                Agriculture  \n",
       "3       Environment: general  \n",
       "4         Social: population  \n",
       "..                       ...  \n",
       "827  Government finance: IMF  \n",
       "828        Social: education  \n",
       "829        Social: education  \n",
       "830  Government finance: IMF  \n",
       "831  Government finance: IMF  \n",
       "\n",
       "[832 rows x 4 columns]"
      ]
     },
     "execution_count": 22,
     "metadata": {},
     "output_type": "execute_result"
    }
   ],
   "source": [
    "def get_indicator_nans(df):\n",
    "    df = df.apply(lambda x: x.replace('\"', ''))\n",
    "    df = df.reset_index()\n",
    "    size = df.loc[df['Indicator Name']==df['Indicator Name'].unique()[1]].size\n",
    "    \n",
    "    \n",
    "    topics = pd.read_csv('additional_data/topics_done.csv')\n",
    "        \n",
    "    nan = [df.loc[df['Indicator Name']==i].isna().sum().sum() for i in df['Indicator Name'].unique()]\n",
    "    n = [df.loc[df['Indicator Name']==i].notna().sum().sum() for i in df['Indicator Name'].unique()]\n",
    "    \n",
    "    df = pd.DataFrame({'indicators':df['Indicator Name'].unique(), 'nan':nan, 'n':n})\n",
    "    new = pd.merge(df.sort_values('nan'), topics, how='left', left_on='indicators', right_on='Indicator Name')\n",
    "    new.drop(['Unnamed: 0', 'Indicator Name','Indicator Code'], inplace=True, axis=1)\n",
    "    new.set_index(['Topic description', 'indicators']).to_csv('additional_data/low_nan_high_nan.csv', sep=';', decimal=',')\n",
    "    return new\n",
    "\n",
    "get_indicator_nans(base)"
   ]
  },
  {
   "cell_type": "markdown",
   "id": "8c547d8e",
   "metadata": {},
   "source": [
    "Die manuell ausgewählten Indikatoren werden hier eingelesen."
   ]
  },
  {
   "cell_type": "code",
   "execution_count": 23,
   "id": "c71280b7",
   "metadata": {},
   "outputs": [],
   "source": [
    "new = pd.read_csv('additional_data/chosen_indicators.csv', sep=';')\n",
    "new.dropna(subset=['keep'], inplace=True)\n",
    "new.drop('keep', axis=1, inplace=True)"
   ]
  },
  {
   "cell_type": "code",
   "execution_count": 24,
   "id": "d6345e03",
   "metadata": {},
   "outputs": [],
   "source": [
    "base = base.loc[base.index.isin(new['indicators'], level='Indicator Name')]"
   ]
  },
  {
   "cell_type": "code",
   "execution_count": 25,
   "id": "b91ea61f",
   "metadata": {},
   "outputs": [
    {
     "name": "stdout",
     "output_type": "stream",
     "text": [
      "Percentage of missing values: 0.26699620451413547\n"
     ]
    }
   ],
   "source": [
    "print(f\"Percentage of missing values: {base.isna().sum().sum()/base.notna().sum().sum()}\")"
   ]
  },
  {
   "cell_type": "code",
   "execution_count": 26,
   "id": "a17c70e3",
   "metadata": {},
   "outputs": [
    {
     "name": "stdout",
     "output_type": "stream",
     "text": [
      "Number of countries remaining: 158\n",
      "Number of indicators remaining: 165\n"
     ]
    }
   ],
   "source": [
    "print(f'Number of countries remaining: {len(base.index.get_level_values(\"Country Name\").unique())}')\n",
    "print(f'Number of indicators remaining: {len(base.index.get_level_values(\"Indicator Name\").unique())}')"
   ]
  },
  {
   "cell_type": "markdown",
   "id": "987e07c9",
   "metadata": {},
   "source": [
    "Um nicht in allen künftigen Analysen den Gesammtdatensatz einlesen und wie hier transformieren zu müssen, wird der transformierte Datensatz gespeichert."
   ]
  },
  {
   "cell_type": "code",
   "execution_count": 27,
   "id": "f2cd0cc3",
   "metadata": {},
   "outputs": [],
   "source": [
    "#base.to_csv('additional_data/base.csv')"
   ]
  }
 ],
 "metadata": {
  "kernelspec": {
   "display_name": "Python 3 (ipykernel)",
   "language": "python",
   "name": "python3"
  },
  "language_info": {
   "codemirror_mode": {
    "name": "ipython",
    "version": 3
   },
   "file_extension": ".py",
   "mimetype": "text/x-python",
   "name": "python",
   "nbconvert_exporter": "python",
   "pygments_lexer": "ipython3",
   "version": "3.9.7"
  }
 },
 "nbformat": 4,
 "nbformat_minor": 5
}
