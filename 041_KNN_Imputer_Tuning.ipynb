{
 "cells": [
  {
   "cell_type": "markdown",
   "id": "c98e816a",
   "metadata": {},
   "source": [
    "# Hyperparameter Tuning für KNN-Imputation"
   ]
  },
  {
   "cell_type": "code",
   "execution_count": 115,
   "id": "bdd80e11",
   "metadata": {},
   "outputs": [],
   "source": [
    "import pandas as pd\n",
    "import numpy as np\n",
    "import math\n",
    "\n",
    "from sklearn.preprocessing import StandardScaler\n",
    "from sklearn.metrics import r2_score, mean_squared_error\n"
   ]
  },
  {
   "cell_type": "code",
   "execution_count": 116,
   "id": "3ef54fde",
   "metadata": {},
   "outputs": [],
   "source": [
    "def reset_base():\n",
    "    base= pd.read_csv('additional_data/base.csv') \n",
    "    base.set_index(['Country Name', 'Indicator Name'], inplace=True)\n",
    "    base = base.sort_index(level=['Country Name', 'Indicator Name'])\n",
    "    return base"
   ]
  },
  {
   "cell_type": "code",
   "execution_count": 117,
   "id": "7d0b8ea7",
   "metadata": {},
   "outputs": [],
   "source": [
    "def get_cords(frac):\n",
    "    n = int(base.isna().sum().sum()*frac)\n",
    "    print(f'Testdaten mit {frac*100}% fehlenden Werten (absolut: {n})')\n",
    "    #random state to ensure reproducibility\n",
    "    rnds = np.random.RandomState(n)\n",
    "\n",
    "    #coordinates for data entries to be removed randomly\n",
    "    #5000 entries are selected\n",
    "    cords = pd.DataFrame([[rnds.randint(0, len(base), size=n*4)[i], \n",
    "                  rnds.randint(0, len(base.columns), size=n*4)[i]]\n",
    "                  for i in range(n*4)])\n",
    "\n",
    "    #all coordinates pointing to NaN entries are removed and\n",
    "    #first 1000 remaining entries are selected\n",
    "    cords['value'] = [base.iloc[cords[0][i], cords[1][i]] for i in cords.index]\n",
    "    cords = cords.dropna()[:n].reset_index(drop=True)\n",
    "    \n",
    "    return cords"
   ]
  },
  {
   "cell_type": "code",
   "execution_count": 118,
   "id": "786fd5ca",
   "metadata": {},
   "outputs": [
    {
     "name": "stdout",
     "output_type": "stream",
     "text": [
      "Testdaten mit 10.0% fehlenden Werten (absolut: 17030)\n"
     ]
    }
   ],
   "source": [
    "cords = get_cords(0.1)"
   ]
  },
  {
   "cell_type": "code",
   "execution_count": 119,
   "id": "a00892fc",
   "metadata": {},
   "outputs": [],
   "source": [
    "#getting train data by changing randomly chosen values to NaN\n",
    "def reset_train():\n",
    "    train = base.copy()\n",
    "    for i in cords.index:\n",
    "        train.iloc[cords[0][i], cords[1][i]] = None\n",
    "    return train"
   ]
  },
  {
   "cell_type": "code",
   "execution_count": 120,
   "id": "c9a30d87",
   "metadata": {},
   "outputs": [],
   "source": [
    "results = []"
   ]
  },
  {
   "cell_type": "code",
   "execution_count": 121,
   "id": "36ae44f3",
   "metadata": {},
   "outputs": [],
   "source": [
    "def evaluate(method, df):\n",
    "    \n",
    "    \n",
    "    #scaling original data and imputed data\n",
    "    #necessary ?????????????????????????????????????\n",
    "    train = reset_train()\n",
    "    scaler = StandardScaler().fit(train) #fitting on train?\n",
    "    norm_base = pd.DataFrame(scaler.transform(base))\n",
    "    df = pd.DataFrame(scaler.transform(df))\n",
    "\n",
    "    #getting imputed values for simulated NaNs and true value \n",
    "    res =pd.DataFrame({'y_true': [norm_base.iloc[cords[0][i], cords[1][i]] for i in cords.index],\n",
    "                       'y_pred': [df.iloc[cords[0][i], cords[1][i]] for i in cords.index]\n",
    "                      })\n",
    "    res = res.dropna()\n",
    "\n",
    "   \n",
    "    #calculate evaluation metrics\n",
    "    r2 = r2_score(res['y_true'], res['y_pred'])\n",
    "    rmse = math.sqrt(mean_squared_error(res['y_true'], res['y_pred']))\n",
    "    still_missing = df.isna().sum().sum()\n",
    "    \n",
    "    print(f'Mit dieser Methode bleiben {still_missing} NaNs bestehen.')\n",
    "    print('')\n",
    "    print(f'{len(res)} Werte wurden für die Metriken verwendet.')\n",
    "    print(f'r2: {r2}, rmse: {rmse}')\n",
    "    \n",
    "    results.append([method, still_missing, r2, rmse])"
   ]
  },
  {
   "cell_type": "code",
   "execution_count": 122,
   "id": "52e7b053",
   "metadata": {},
   "outputs": [],
   "source": [
    "def knn_imputer(df, n):\n",
    "    knn_imp = KNNImputer( n_neighbors=n)\n",
    "    df= knn_imp.fit_transform(df)\n",
    "    return df"
   ]
  },
  {
   "cell_type": "code",
   "execution_count": 125,
   "id": "ce92ce53",
   "metadata": {},
   "outputs": [
    {
     "name": "stderr",
     "output_type": "stream",
     "text": [
      "C:\\Users\\mbfbr\\Anaconda3\\envs\\other\\lib\\site-packages\\sklearn\\base.py:450: UserWarning: X does not have valid feature names, but StandardScaler was fitted with feature names\n",
      "  warnings.warn(\n"
     ]
    },
    {
     "name": "stdout",
     "output_type": "stream",
     "text": [
      "Mit dieser Methode bleiben 0 NaNs bestehen.\n",
      "\n",
      "17030 Werte wurden für die Metriken verwendet.\n",
      "r2: 0.3340016978911755, rmse: 1.6406390225552483\n"
     ]
    },
    {
     "name": "stderr",
     "output_type": "stream",
     "text": [
      "C:\\Users\\mbfbr\\Anaconda3\\envs\\other\\lib\\site-packages\\sklearn\\base.py:450: UserWarning: X does not have valid feature names, but StandardScaler was fitted with feature names\n",
      "  warnings.warn(\n"
     ]
    },
    {
     "name": "stdout",
     "output_type": "stream",
     "text": [
      "Mit dieser Methode bleiben 0 NaNs bestehen.\n",
      "\n",
      "17030 Werte wurden für die Metriken verwendet.\n",
      "r2: 0.40171197982598716, rmse: 1.555004425815101\n"
     ]
    },
    {
     "name": "stderr",
     "output_type": "stream",
     "text": [
      "C:\\Users\\mbfbr\\Anaconda3\\envs\\other\\lib\\site-packages\\sklearn\\base.py:450: UserWarning: X does not have valid feature names, but StandardScaler was fitted with feature names\n",
      "  warnings.warn(\n"
     ]
    },
    {
     "name": "stdout",
     "output_type": "stream",
     "text": [
      "Mit dieser Methode bleiben 0 NaNs bestehen.\n",
      "\n",
      "17030 Werte wurden für die Metriken verwendet.\n",
      "r2: 0.33182846746783123, rmse: 1.6433136410281242\n"
     ]
    },
    {
     "name": "stderr",
     "output_type": "stream",
     "text": [
      "C:\\Users\\mbfbr\\Anaconda3\\envs\\other\\lib\\site-packages\\sklearn\\base.py:450: UserWarning: X does not have valid feature names, but StandardScaler was fitted with feature names\n",
      "  warnings.warn(\n"
     ]
    },
    {
     "name": "stdout",
     "output_type": "stream",
     "text": [
      "Mit dieser Methode bleiben 0 NaNs bestehen.\n",
      "\n",
      "17030 Werte wurden für die Metriken verwendet.\n",
      "r2: 0.28939182292801535, rmse: 1.694695110203498\n"
     ]
    },
    {
     "name": "stderr",
     "output_type": "stream",
     "text": [
      "C:\\Users\\mbfbr\\Anaconda3\\envs\\other\\lib\\site-packages\\sklearn\\base.py:450: UserWarning: X does not have valid feature names, but StandardScaler was fitted with feature names\n",
      "  warnings.warn(\n"
     ]
    },
    {
     "name": "stdout",
     "output_type": "stream",
     "text": [
      "Mit dieser Methode bleiben 0 NaNs bestehen.\n",
      "\n",
      "17030 Werte wurden für die Metriken verwendet.\n",
      "r2: 0.2683048270121635, rmse: 1.7196559671326372\n"
     ]
    },
    {
     "name": "stderr",
     "output_type": "stream",
     "text": [
      "C:\\Users\\mbfbr\\Anaconda3\\envs\\other\\lib\\site-packages\\sklearn\\base.py:450: UserWarning: X does not have valid feature names, but StandardScaler was fitted with feature names\n",
      "  warnings.warn(\n"
     ]
    },
    {
     "name": "stdout",
     "output_type": "stream",
     "text": [
      "Mit dieser Methode bleiben 0 NaNs bestehen.\n",
      "\n",
      "17030 Werte wurden für die Metriken verwendet.\n",
      "r2: 0.2734936246794474, rmse: 1.7135476704306978\n"
     ]
    },
    {
     "name": "stderr",
     "output_type": "stream",
     "text": [
      "C:\\Users\\mbfbr\\Anaconda3\\envs\\other\\lib\\site-packages\\sklearn\\base.py:450: UserWarning: X does not have valid feature names, but StandardScaler was fitted with feature names\n",
      "  warnings.warn(\n"
     ]
    },
    {
     "name": "stdout",
     "output_type": "stream",
     "text": [
      "Mit dieser Methode bleiben 0 NaNs bestehen.\n",
      "\n",
      "17030 Werte wurden für die Metriken verwendet.\n",
      "r2: 0.2504357786262221, rmse: 1.7405275431861722\n"
     ]
    },
    {
     "name": "stderr",
     "output_type": "stream",
     "text": [
      "C:\\Users\\mbfbr\\Anaconda3\\envs\\other\\lib\\site-packages\\sklearn\\base.py:450: UserWarning: X does not have valid feature names, but StandardScaler was fitted with feature names\n",
      "  warnings.warn(\n"
     ]
    },
    {
     "name": "stdout",
     "output_type": "stream",
     "text": [
      "Mit dieser Methode bleiben 0 NaNs bestehen.\n",
      "\n",
      "17030 Werte wurden für die Metriken verwendet.\n",
      "r2: 0.2272953158782175, rmse: 1.7671900128975437\n"
     ]
    },
    {
     "name": "stderr",
     "output_type": "stream",
     "text": [
      "C:\\Users\\mbfbr\\Anaconda3\\envs\\other\\lib\\site-packages\\sklearn\\base.py:450: UserWarning: X does not have valid feature names, but StandardScaler was fitted with feature names\n",
      "  warnings.warn(\n"
     ]
    },
    {
     "name": "stdout",
     "output_type": "stream",
     "text": [
      "Mit dieser Methode bleiben 0 NaNs bestehen.\n",
      "\n",
      "17030 Werte wurden für die Metriken verwendet.\n",
      "r2: 0.21107594390244355, rmse: 1.785640696944728\n"
     ]
    }
   ],
   "source": [
    "for i in range(9):\n",
    "    \n",
    "    base = reset_base()\n",
    "    train = reset_train()\n",
    "\n",
    "    df = knn_imputer(train, i+1)\n",
    "\n",
    "    evaluate('KNN Imputer', df)"
   ]
  },
  {
   "cell_type": "code",
   "execution_count": 127,
   "id": "a8213d1a",
   "metadata": {},
   "outputs": [],
   "source": [
    "results = pd.DataFrame(results)"
   ]
  },
  {
   "cell_type": "code",
   "execution_count": 128,
   "id": "b6d70a8c",
   "metadata": {},
   "outputs": [
    {
     "data": {
      "text/html": [
       "<div>\n",
       "<style scoped>\n",
       "    .dataframe tbody tr th:only-of-type {\n",
       "        vertical-align: middle;\n",
       "    }\n",
       "\n",
       "    .dataframe tbody tr th {\n",
       "        vertical-align: top;\n",
       "    }\n",
       "\n",
       "    .dataframe thead th {\n",
       "        text-align: right;\n",
       "    }\n",
       "</style>\n",
       "<table border=\"1\" class=\"dataframe\">\n",
       "  <thead>\n",
       "    <tr style=\"text-align: right;\">\n",
       "      <th></th>\n",
       "      <th>0</th>\n",
       "      <th>1</th>\n",
       "      <th>2</th>\n",
       "      <th>3</th>\n",
       "    </tr>\n",
       "  </thead>\n",
       "  <tbody>\n",
       "    <tr>\n",
       "      <th>0</th>\n",
       "      <td>KNN Imputer</td>\n",
       "      <td>0</td>\n",
       "      <td>0.334002</td>\n",
       "      <td>1.640639</td>\n",
       "    </tr>\n",
       "    <tr>\n",
       "      <th>1</th>\n",
       "      <td>KNN Imputer</td>\n",
       "      <td>0</td>\n",
       "      <td>0.401712</td>\n",
       "      <td>1.555004</td>\n",
       "    </tr>\n",
       "    <tr>\n",
       "      <th>2</th>\n",
       "      <td>KNN Imputer</td>\n",
       "      <td>0</td>\n",
       "      <td>0.331828</td>\n",
       "      <td>1.643314</td>\n",
       "    </tr>\n",
       "    <tr>\n",
       "      <th>3</th>\n",
       "      <td>KNN Imputer</td>\n",
       "      <td>0</td>\n",
       "      <td>0.289392</td>\n",
       "      <td>1.694695</td>\n",
       "    </tr>\n",
       "    <tr>\n",
       "      <th>4</th>\n",
       "      <td>KNN Imputer</td>\n",
       "      <td>0</td>\n",
       "      <td>0.268305</td>\n",
       "      <td>1.719656</td>\n",
       "    </tr>\n",
       "    <tr>\n",
       "      <th>5</th>\n",
       "      <td>KNN Imputer</td>\n",
       "      <td>0</td>\n",
       "      <td>0.273494</td>\n",
       "      <td>1.713548</td>\n",
       "    </tr>\n",
       "    <tr>\n",
       "      <th>6</th>\n",
       "      <td>KNN Imputer</td>\n",
       "      <td>0</td>\n",
       "      <td>0.250436</td>\n",
       "      <td>1.740528</td>\n",
       "    </tr>\n",
       "    <tr>\n",
       "      <th>7</th>\n",
       "      <td>KNN Imputer</td>\n",
       "      <td>0</td>\n",
       "      <td>0.227295</td>\n",
       "      <td>1.767190</td>\n",
       "    </tr>\n",
       "    <tr>\n",
       "      <th>8</th>\n",
       "      <td>KNN Imputer</td>\n",
       "      <td>0</td>\n",
       "      <td>0.211076</td>\n",
       "      <td>1.785641</td>\n",
       "    </tr>\n",
       "  </tbody>\n",
       "</table>\n",
       "</div>"
      ],
      "text/plain": [
       "             0  1         2         3\n",
       "0  KNN Imputer  0  0.334002  1.640639\n",
       "1  KNN Imputer  0  0.401712  1.555004\n",
       "2  KNN Imputer  0  0.331828  1.643314\n",
       "3  KNN Imputer  0  0.289392  1.694695\n",
       "4  KNN Imputer  0  0.268305  1.719656\n",
       "5  KNN Imputer  0  0.273494  1.713548\n",
       "6  KNN Imputer  0  0.250436  1.740528\n",
       "7  KNN Imputer  0  0.227295  1.767190\n",
       "8  KNN Imputer  0  0.211076  1.785641"
      ]
     },
     "execution_count": 128,
     "metadata": {},
     "output_type": "execute_result"
    }
   ],
   "source": [
    "results"
   ]
  }
 ],
 "metadata": {
  "kernelspec": {
   "display_name": "Python 3 (ipykernel)",
   "language": "python",
   "name": "python3"
  },
  "language_info": {
   "codemirror_mode": {
    "name": "ipython",
    "version": 3
   },
   "file_extension": ".py",
   "mimetype": "text/x-python",
   "name": "python",
   "nbconvert_exporter": "python",
   "pygments_lexer": "ipython3",
   "version": "3.9.7"
  }
 },
 "nbformat": 4,
 "nbformat_minor": 5
}
