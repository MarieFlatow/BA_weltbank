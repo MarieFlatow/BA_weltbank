{
 "cells": [
  {
   "cell_type": "markdown",
   "id": "de5ee9b5",
   "metadata": {},
   "source": [
    "# Vergleich von Imputation Methoden"
   ]
  },
  {
   "cell_type": "markdown",
   "id": "f6372f0a",
   "metadata": {},
   "source": [
    "An dieser Stelle sollen verschiede Methoden zum interpolieren von fehlenden Werten betrachtet und verglichen werden."
   ]
  },
  {
   "cell_type": "markdown",
   "id": "79e93d63",
   "metadata": {},
   "source": [
    "### Vorbereitung"
   ]
  },
  {
   "cell_type": "code",
   "execution_count": 1,
   "id": "d6a4c49c",
   "metadata": {},
   "outputs": [],
   "source": [
    "import pandas as pd\n",
    "import numpy as np\n",
    "import math\n",
    "import time\n",
    "\n",
    "from sklearn.preprocessing import StandardScaler\n",
    "from sklearn.metrics import r2_score, mean_squared_error\n",
    "from sklearn.experimental import enable_iterative_imputer\n",
    "from sklearn.impute import IterativeImputer, KNNImputer"
   ]
  },
  {
   "cell_type": "markdown",
   "id": "2d9cbf47",
   "metadata": {},
   "source": [
    "In der Folge werden keine Regionen oder Gruppierungen von Ländern und nur die Jahre ab 1990 betrachtet. \n",
    "Von dem verbliebenen Datensatz werden nur Indikatoren behalten, die mindesten 20% gefüllt sind und nach ihrer Relevanz manuell ausgewählt wurden (siehe 03_preparing_data)."
   ]
  },
  {
   "cell_type": "code",
   "execution_count": 2,
   "id": "58fae007",
   "metadata": {},
   "outputs": [],
   "source": [
    "def reset_base():\n",
    "    base= pd.read_csv('additional_data/base.csv') \n",
    "    base.set_index(['Country Name', 'Indicator Name'], inplace=True)\n",
    "    base = base.sort_index(level=['Country Name', 'Indicator Name'])\n",
    "    return base"
   ]
  },
  {
   "cell_type": "code",
   "execution_count": 3,
   "id": "4810a09b",
   "metadata": {},
   "outputs": [
    {
     "data": {
      "text/plain": [
       "170307"
      ]
     },
     "execution_count": 3,
     "metadata": {},
     "output_type": "execute_result"
    }
   ],
   "source": [
    "base = reset_base()\n",
    "base.isna().sum().sum()"
   ]
  },
  {
   "cell_type": "markdown",
   "id": "684223dd",
   "metadata": {},
   "source": [
    "Um die Performanz unterschiedlicher Imutation Verfahren zu vergleichen werden weitere 1000 vorhandene (nicht NaN) Einträge entfernt. Diese 1000 Einträge werden später als Test-Daten verwendet, auf ihrer Grundlage lassen sich die Fehler der analysierten Verfahren errechnen. Um sicherzustellen, dass die Ergebnisse reproduzierbar sind wird ein Random State gesetzt. Dann werden zufällig Koordinaten zu Dateneinträgen gezogen. Da an dieser Stelle nur vorhandene Einträge relevant sind, werden zunächst zu viele Koordinaten gezogen, diese dann mit dem Datensatz abgeglichen und gelöscht, falls sie zu einem NaN zeigen und dann die ersten 1000 verbliebenen (und damit relevanten) Einträge ausgewählt. Diese werden in den Trainingsdaten entfernt. Auf diese Weise bleibt eine Reproduzierbarkeit erhalten."
   ]
  },
  {
   "cell_type": "code",
   "execution_count": 4,
   "id": "eef559ed",
   "metadata": {},
   "outputs": [
    {
     "data": {
      "text/html": [
       "<div>\n",
       "<style scoped>\n",
       "    .dataframe tbody tr th:only-of-type {\n",
       "        vertical-align: middle;\n",
       "    }\n",
       "\n",
       "    .dataframe tbody tr th {\n",
       "        vertical-align: top;\n",
       "    }\n",
       "\n",
       "    .dataframe thead th {\n",
       "        text-align: right;\n",
       "    }\n",
       "</style>\n",
       "<table border=\"1\" class=\"dataframe\">\n",
       "  <thead>\n",
       "    <tr style=\"text-align: right;\">\n",
       "      <th></th>\n",
       "      <th></th>\n",
       "      <th>1990</th>\n",
       "      <th>1991</th>\n",
       "      <th>1992</th>\n",
       "      <th>1993</th>\n",
       "      <th>1994</th>\n",
       "      <th>1995</th>\n",
       "      <th>1996</th>\n",
       "      <th>1997</th>\n",
       "      <th>1998</th>\n",
       "      <th>1999</th>\n",
       "      <th>...</th>\n",
       "      <th>2011</th>\n",
       "      <th>2012</th>\n",
       "      <th>2013</th>\n",
       "      <th>2014</th>\n",
       "      <th>2015</th>\n",
       "      <th>2016</th>\n",
       "      <th>2017</th>\n",
       "      <th>2018</th>\n",
       "      <th>2019</th>\n",
       "      <th>2020</th>\n",
       "    </tr>\n",
       "    <tr>\n",
       "      <th>Country Name</th>\n",
       "      <th>Indicator Name</th>\n",
       "      <th></th>\n",
       "      <th></th>\n",
       "      <th></th>\n",
       "      <th></th>\n",
       "      <th></th>\n",
       "      <th></th>\n",
       "      <th></th>\n",
       "      <th></th>\n",
       "      <th></th>\n",
       "      <th></th>\n",
       "      <th></th>\n",
       "      <th></th>\n",
       "      <th></th>\n",
       "      <th></th>\n",
       "      <th></th>\n",
       "      <th></th>\n",
       "      <th></th>\n",
       "      <th></th>\n",
       "      <th></th>\n",
       "      <th></th>\n",
       "      <th></th>\n",
       "    </tr>\n",
       "  </thead>\n",
       "  <tbody>\n",
       "    <tr>\n",
       "      <th rowspan=\"3\" valign=\"top\">Afghanistan</th>\n",
       "      <th>Access to clean fuels and technologies for cooking (% of population)</th>\n",
       "      <td>NaN</td>\n",
       "      <td>NaN</td>\n",
       "      <td>NaN</td>\n",
       "      <td>NaN</td>\n",
       "      <td>NaN</td>\n",
       "      <td>NaN</td>\n",
       "      <td>NaN</td>\n",
       "      <td>NaN</td>\n",
       "      <td>NaN</td>\n",
       "      <td>NaN</td>\n",
       "      <td>...</td>\n",
       "      <td>21.500000</td>\n",
       "      <td>23.000000</td>\n",
       "      <td>24.799999</td>\n",
       "      <td>26.700001</td>\n",
       "      <td>28.600000</td>\n",
       "      <td>30.299999</td>\n",
       "      <td>32.200001</td>\n",
       "      <td>34.099998</td>\n",
       "      <td>36.00000</td>\n",
       "      <td>NaN</td>\n",
       "    </tr>\n",
       "    <tr>\n",
       "      <th>Access to electricity (% of population)</th>\n",
       "      <td>NaN</td>\n",
       "      <td>NaN</td>\n",
       "      <td>NaN</td>\n",
       "      <td>NaN</td>\n",
       "      <td>NaN</td>\n",
       "      <td>NaN</td>\n",
       "      <td>NaN</td>\n",
       "      <td>NaN</td>\n",
       "      <td>NaN</td>\n",
       "      <td>NaN</td>\n",
       "      <td>...</td>\n",
       "      <td>43.222019</td>\n",
       "      <td>69.100000</td>\n",
       "      <td>68.982941</td>\n",
       "      <td>89.500000</td>\n",
       "      <td>71.500000</td>\n",
       "      <td>97.700000</td>\n",
       "      <td>97.700000</td>\n",
       "      <td>98.715622</td>\n",
       "      <td>97.70000</td>\n",
       "      <td>NaN</td>\n",
       "    </tr>\n",
       "    <tr>\n",
       "      <th>Access to electricity, rural (% of rural population)</th>\n",
       "      <td>NaN</td>\n",
       "      <td>NaN</td>\n",
       "      <td>NaN</td>\n",
       "      <td>NaN</td>\n",
       "      <td>NaN</td>\n",
       "      <td>NaN</td>\n",
       "      <td>NaN</td>\n",
       "      <td>NaN</td>\n",
       "      <td>NaN</td>\n",
       "      <td>NaN</td>\n",
       "      <td>...</td>\n",
       "      <td>29.572881</td>\n",
       "      <td>60.849157</td>\n",
       "      <td>61.315788</td>\n",
       "      <td>86.500512</td>\n",
       "      <td>64.573354</td>\n",
       "      <td>97.099360</td>\n",
       "      <td>97.091973</td>\n",
       "      <td>98.309603</td>\n",
       "      <td>96.90219</td>\n",
       "      <td>NaN</td>\n",
       "    </tr>\n",
       "  </tbody>\n",
       "</table>\n",
       "<p>3 rows × 31 columns</p>\n",
       "</div>"
      ],
      "text/plain": [
       "                                                                 1990  1991  \\\n",
       "Country Name Indicator Name                                                   \n",
       "Afghanistan  Access to clean fuels and technologies for cook...   NaN   NaN   \n",
       "             Access to electricity (% of population)              NaN   NaN   \n",
       "             Access to electricity, rural (% of rural popula...   NaN   NaN   \n",
       "\n",
       "                                                                 1992  1993  \\\n",
       "Country Name Indicator Name                                                   \n",
       "Afghanistan  Access to clean fuels and technologies for cook...   NaN   NaN   \n",
       "             Access to electricity (% of population)              NaN   NaN   \n",
       "             Access to electricity, rural (% of rural popula...   NaN   NaN   \n",
       "\n",
       "                                                                 1994  1995  \\\n",
       "Country Name Indicator Name                                                   \n",
       "Afghanistan  Access to clean fuels and technologies for cook...   NaN   NaN   \n",
       "             Access to electricity (% of population)              NaN   NaN   \n",
       "             Access to electricity, rural (% of rural popula...   NaN   NaN   \n",
       "\n",
       "                                                                 1996  1997  \\\n",
       "Country Name Indicator Name                                                   \n",
       "Afghanistan  Access to clean fuels and technologies for cook...   NaN   NaN   \n",
       "             Access to electricity (% of population)              NaN   NaN   \n",
       "             Access to electricity, rural (% of rural popula...   NaN   NaN   \n",
       "\n",
       "                                                                 1998  1999  \\\n",
       "Country Name Indicator Name                                                   \n",
       "Afghanistan  Access to clean fuels and technologies for cook...   NaN   NaN   \n",
       "             Access to electricity (% of population)              NaN   NaN   \n",
       "             Access to electricity, rural (% of rural popula...   NaN   NaN   \n",
       "\n",
       "                                                                 ...  \\\n",
       "Country Name Indicator Name                                      ...   \n",
       "Afghanistan  Access to clean fuels and technologies for cook...  ...   \n",
       "             Access to electricity (% of population)             ...   \n",
       "             Access to electricity, rural (% of rural popula...  ...   \n",
       "\n",
       "                                                                      2011  \\\n",
       "Country Name Indicator Name                                                  \n",
       "Afghanistan  Access to clean fuels and technologies for cook...  21.500000   \n",
       "             Access to electricity (% of population)             43.222019   \n",
       "             Access to electricity, rural (% of rural popula...  29.572881   \n",
       "\n",
       "                                                                      2012  \\\n",
       "Country Name Indicator Name                                                  \n",
       "Afghanistan  Access to clean fuels and technologies for cook...  23.000000   \n",
       "             Access to electricity (% of population)             69.100000   \n",
       "             Access to electricity, rural (% of rural popula...  60.849157   \n",
       "\n",
       "                                                                      2013  \\\n",
       "Country Name Indicator Name                                                  \n",
       "Afghanistan  Access to clean fuels and technologies for cook...  24.799999   \n",
       "             Access to electricity (% of population)             68.982941   \n",
       "             Access to electricity, rural (% of rural popula...  61.315788   \n",
       "\n",
       "                                                                      2014  \\\n",
       "Country Name Indicator Name                                                  \n",
       "Afghanistan  Access to clean fuels and technologies for cook...  26.700001   \n",
       "             Access to electricity (% of population)             89.500000   \n",
       "             Access to electricity, rural (% of rural popula...  86.500512   \n",
       "\n",
       "                                                                      2015  \\\n",
       "Country Name Indicator Name                                                  \n",
       "Afghanistan  Access to clean fuels and technologies for cook...  28.600000   \n",
       "             Access to electricity (% of population)             71.500000   \n",
       "             Access to electricity, rural (% of rural popula...  64.573354   \n",
       "\n",
       "                                                                      2016  \\\n",
       "Country Name Indicator Name                                                  \n",
       "Afghanistan  Access to clean fuels and technologies for cook...  30.299999   \n",
       "             Access to electricity (% of population)             97.700000   \n",
       "             Access to electricity, rural (% of rural popula...  97.099360   \n",
       "\n",
       "                                                                      2017  \\\n",
       "Country Name Indicator Name                                                  \n",
       "Afghanistan  Access to clean fuels and technologies for cook...  32.200001   \n",
       "             Access to electricity (% of population)             97.700000   \n",
       "             Access to electricity, rural (% of rural popula...  97.091973   \n",
       "\n",
       "                                                                      2018  \\\n",
       "Country Name Indicator Name                                                  \n",
       "Afghanistan  Access to clean fuels and technologies for cook...  34.099998   \n",
       "             Access to electricity (% of population)             98.715622   \n",
       "             Access to electricity, rural (% of rural popula...  98.309603   \n",
       "\n",
       "                                                                     2019  \\\n",
       "Country Name Indicator Name                                                 \n",
       "Afghanistan  Access to clean fuels and technologies for cook...  36.00000   \n",
       "             Access to electricity (% of population)             97.70000   \n",
       "             Access to electricity, rural (% of rural popula...  96.90219   \n",
       "\n",
       "                                                                 2020  \n",
       "Country Name Indicator Name                                            \n",
       "Afghanistan  Access to clean fuels and technologies for cook...   NaN  \n",
       "             Access to electricity (% of population)              NaN  \n",
       "             Access to electricity, rural (% of rural popula...   NaN  \n",
       "\n",
       "[3 rows x 31 columns]"
      ]
     },
     "execution_count": 4,
     "metadata": {},
     "output_type": "execute_result"
    }
   ],
   "source": [
    "base.head(3)"
   ]
  },
  {
   "cell_type": "markdown",
   "id": "82af3855",
   "metadata": {},
   "source": [
    "### Simulation fehlender Werte und Evaluation"
   ]
  },
  {
   "cell_type": "code",
   "execution_count": 5,
   "id": "3ab75db4",
   "metadata": {},
   "outputs": [],
   "source": [
    "def get_cords(frac):\n",
    "    n = int(base.isna().sum().sum()*frac)\n",
    "    print(f'Testdaten mit {frac*100}% fehlenden Werten (absolut: {n})')\n",
    "    #random state to ensure reproducibility\n",
    "    rnds = np.random.RandomState(n)\n",
    "\n",
    "    #coordinates for data entries to be removed randomly\n",
    "    #5000 entries are selected\n",
    "    cords = pd.DataFrame([[rnds.randint(0, len(base), size=n*4)[i], \n",
    "                  rnds.randint(0, len(base.columns), size=n*4)[i]]\n",
    "                  for i in range(n*4)])\n",
    "\n",
    "    #all coordinates pointing to NaN entries are removed and\n",
    "    #first 1000 remaining entries are selected\n",
    "    cords['value'] = [base.iloc[cords[0][i], cords[1][i]] for i in cords.index]\n",
    "    cords = cords.dropna()[:n].reset_index(drop=True)\n",
    "    \n",
    "    return cords"
   ]
  },
  {
   "cell_type": "code",
   "execution_count": 6,
   "id": "68dae23d",
   "metadata": {},
   "outputs": [
    {
     "name": "stdout",
     "output_type": "stream",
     "text": [
      "Testdaten mit 5.0% fehlenden Werten (absolut: 8515)\n"
     ]
    }
   ],
   "source": [
    "cords = get_cords(0.05)"
   ]
  },
  {
   "cell_type": "code",
   "execution_count": 7,
   "id": "e83f2a4b",
   "metadata": {},
   "outputs": [],
   "source": [
    "#getting train data by changing randomly chosen values to NaN\n",
    "def reset_train(cords):\n",
    "    train = base.copy()\n",
    "    for i in cords.index:\n",
    "        train.iloc[cords[0][i], cords[1][i]] = None\n",
    "    return train"
   ]
  },
  {
   "cell_type": "code",
   "execution_count": 8,
   "id": "b7417452",
   "metadata": {},
   "outputs": [],
   "source": [
    "results = []"
   ]
  },
  {
   "cell_type": "code",
   "execution_count": 9,
   "id": "1a4ee24b",
   "metadata": {},
   "outputs": [],
   "source": [
    "def evaluate(method, df, t):\n",
    "    \n",
    "        \n",
    "    #scaling original data and imputed data\n",
    "    #necessary ?????????????????????????????????????\n",
    "    train = reset_train(cords)\n",
    "    scaler = StandardScaler().fit(train) #fitting on train?\n",
    "    norm_base = pd.DataFrame(scaler.transform(base))\n",
    "    df = pd.DataFrame(scaler.transform(df))\n",
    "\n",
    "    #getting imputed values for simulated NaNs and true value \n",
    "    res =pd.DataFrame({'y_true': [norm_base.iloc[cords[0][i], cords[1][i]] for i in cords.index],\n",
    "                       'y_pred': [df.iloc[cords[0][i], cords[1][i]] for i in cords.index]\n",
    "                      })\n",
    "    res = res.dropna()\n",
    "\n",
    "   \n",
    "    #calculate evaluation metrics\n",
    "    r2 = r2_score(res['y_true'], res['y_pred'])\n",
    "    rmse = math.sqrt(mean_squared_error(res['y_true'], res['y_pred']))\n",
    "    still_missing = df.isna().sum().sum()\n",
    "    \n",
    "    print(f'Mit dieser Methode bleiben {still_missing} NaNs bestehen.')\n",
    "    print('')\n",
    "    print(f'{len(res)} Werte wurden für die Metriken verwendet.')\n",
    "    print(f'r2: {r2}, rmse: {rmse}')\n",
    "    \n",
    "    results.append([method, r2, rmse, still_missing, t])\n"
   ]
  },
  {
   "cell_type": "markdown",
   "id": "19e52da5",
   "metadata": {},
   "source": [
    "###  Imputation Verfahren"
   ]
  },
  {
   "cell_type": "markdown",
   "id": "48780b94",
   "metadata": {},
   "source": [
    "Es werden diese Imputation Methoden verglichen:\n",
    "- Backcasting\n",
    "- Durchschnitt\n",
    "- regionaler Durchschnitt\n",
    "- Iterative Imputer\n",
    "- KNN Imputer"
   ]
  },
  {
   "cell_type": "markdown",
   "id": "bf1aa949",
   "metadata": {},
   "source": [
    "#### Backfill"
   ]
  },
  {
   "cell_type": "code",
   "execution_count": 10,
   "id": "9feab176",
   "metadata": {},
   "outputs": [],
   "source": [
    "def impute_backfill(df):\n",
    "    df = df.fillna(method='bfill', limit=3)\n",
    "    return df"
   ]
  },
  {
   "cell_type": "code",
   "execution_count": 11,
   "id": "15106e66",
   "metadata": {},
   "outputs": [
    {
     "name": "stdout",
     "output_type": "stream",
     "text": [
      "Mit dieser Methode bleiben 32853 NaNs bestehen.\n",
      "\n",
      "8256 Werte wurden für die Metriken verwendet.\n",
      "r2: -16.124570911516813, rmse: 1.683781763968918\n"
     ]
    }
   ],
   "source": [
    "base = reset_base()\n",
    "train = reset_train(cords)\n",
    "\n",
    "\n",
    "\n",
    "t0 = time.time()\n",
    "df= impute_backfill(train) \n",
    "t1 = time.time()\n",
    "\n",
    "t = t1-t0\n",
    "\n",
    "df.to_csv('additional_data/imputed_sets/backfill.csv')\n",
    "evaluate('Backfill', df, t)"
   ]
  },
  {
   "cell_type": "markdown",
   "id": "c199e7eb",
   "metadata": {},
   "source": [
    "#### Durchschnitt des Indikators über alle Jahre hinweg"
   ]
  },
  {
   "cell_type": "code",
   "execution_count": 12,
   "id": "9339d04c",
   "metadata": {},
   "outputs": [],
   "source": [
    "def impute_overall_means(df):\n",
    "    #fill NaNs with overall mean of that indicator\n",
    "    values = pd.DataFrame(df.stack()).groupby('Indicator Name')[0].mean()\n",
    "    df = pd.DataFrame(df.stack(dropna=False))\n",
    "    \n",
    "    df[0] = df[0].fillna(df.groupby('Indicator Name')[0].transform('mean'))\n",
    "    df = df.unstack()\n",
    "    df.columns = df.columns.droplevel(0)\n",
    "    df = df.sort_index(level=['Country Name', 'Indicator Name'])\n",
    "        \n",
    "    return df"
   ]
  },
  {
   "cell_type": "code",
   "execution_count": 13,
   "id": "fa5d2ef6",
   "metadata": {},
   "outputs": [
    {
     "name": "stdout",
     "output_type": "stream",
     "text": [
      "Mit dieser Methode bleiben 0 NaNs bestehen.\n",
      "\n",
      "8515 Werte wurden für die Metriken verwendet.\n",
      "r2: -2.231564589450377, rmse: 0.7202445836681456\n"
     ]
    }
   ],
   "source": [
    "base = reset_base()\n",
    "train = reset_train(cords)\n",
    "\n",
    "t0 = time.time()\n",
    "df = impute_overall_means(train)\n",
    "t1 = time.time()\n",
    "\n",
    "t = t1-t0\n",
    "\n",
    "df.to_csv('additional_data/imputed_sets/mean.csv')\n",
    "evaluate('Overall Mean', df, t)"
   ]
  },
  {
   "cell_type": "markdown",
   "id": "556408e1",
   "metadata": {},
   "source": [
    "#### Durchschnitt des Indikators für das jeweilige Jahr"
   ]
  },
  {
   "cell_type": "code",
   "execution_count": 14,
   "id": "00f89dd3",
   "metadata": {},
   "outputs": [],
   "source": [
    "def impute_yearly_means(df):\n",
    "    #fill NaNs with overall mean of that indicator\n",
    "    \n",
    "    for i in df.columns:\n",
    "        df[i] = df[i].fillna(df.groupby('Indicator Name')[i].transform('mean'))\n",
    "            \n",
    "    return df"
   ]
  },
  {
   "cell_type": "code",
   "execution_count": 15,
   "id": "916f6b7a",
   "metadata": {},
   "outputs": [
    {
     "name": "stdout",
     "output_type": "stream",
     "text": [
      "Mit dieser Methode bleiben 52298 NaNs bestehen.\n",
      "\n",
      "8515 Werte wurden für die Metriken verwendet.\n",
      "r2: -0.09704256669343403, rmse: 0.41964815712332865\n"
     ]
    }
   ],
   "source": [
    "base = reset_base()\n",
    "train = reset_train(cords)\n",
    "\n",
    "t0 = time.time()\n",
    "df = impute_yearly_means(train)\n",
    "t1 = time.time()\n",
    "\n",
    "t = t1-t0\n",
    "\n",
    "evaluate('Yearly Mean',df, t)"
   ]
  },
  {
   "cell_type": "markdown",
   "id": "36834c68",
   "metadata": {},
   "source": [
    "#### Regionaler Durchschnitt des Indikators für das jeweilige Jahr"
   ]
  },
  {
   "cell_type": "code",
   "execution_count": 16,
   "id": "824e9152",
   "metadata": {},
   "outputs": [],
   "source": [
    "def impute_yearly_means_per_region(df):\n",
    "    country_data = pd.read_csv('../Data/WDICountry.csv')\n",
    "    country_data = country_data.loc[:,['Table Name', 'Region']]\n",
    "    df = pd.merge(df.reset_index(), country_data, how='left', left_on='Country Name', right_on='Table Name').drop('Table Name', axis=1)\n",
    "    df = df.set_index(['Country Name', 'Indicator Name', 'Region'])\n",
    "\n",
    "    for i in df.columns:\n",
    "        df[i] = df[i].fillna(df.groupby(['Indicator Name', 'Region'])[i].transform('mean'))\n",
    "\n",
    "    df = df.reset_index().set_index(['Country Name', 'Indicator Name']).drop('Region', axis=1)\n",
    "    return df"
   ]
  },
  {
   "cell_type": "code",
   "execution_count": 17,
   "id": "a3047337",
   "metadata": {},
   "outputs": [
    {
     "name": "stdout",
     "output_type": "stream",
     "text": [
      "Mit dieser Methode bleiben 57262 NaNs bestehen.\n",
      "\n",
      "8458 Werte wurden für die Metriken verwendet.\n",
      "r2: -0.4349777575022391, rmse: 0.4815635503840548\n"
     ]
    }
   ],
   "source": [
    "base = reset_base()\n",
    "train = reset_train(cords)\n",
    "\n",
    "t0 = time.time()\n",
    "df = impute_yearly_means_per_region(train)\n",
    "t1 = time.time()\n",
    "\n",
    "t = t1-t0\n",
    "\n",
    "evaluate('Yearly Mean per Region', df, t)"
   ]
  },
  {
   "cell_type": "markdown",
   "id": "e8252e72",
   "metadata": {},
   "source": [
    "#### Interpolation"
   ]
  },
  {
   "cell_type": "code",
   "execution_count": 18,
   "id": "a4f2d1f8",
   "metadata": {},
   "outputs": [],
   "source": [
    "def interpolate3(df):\n",
    "    df = df.interpolate(limit=3)\n",
    "    return df\n",
    "\n",
    "def interpolate_all(df):\n",
    "    df = df.interpolate()\n",
    "    return df"
   ]
  },
  {
   "cell_type": "code",
   "execution_count": 19,
   "id": "e6ce8ea7",
   "metadata": {},
   "outputs": [
    {
     "name": "stdout",
     "output_type": "stream",
     "text": [
      "Mit dieser Methode bleiben 32884 NaNs bestehen.\n",
      "\n",
      "8235 Werte wurden für die Metriken verwendet.\n",
      "r2: -2.959611964171229, rmse: 0.810691330925762\n"
     ]
    }
   ],
   "source": [
    "base = reset_base()\n",
    "train = reset_train(cords)\n",
    "\n",
    "t0 = time.time()\n",
    "df = interpolate3(train)\n",
    "t1 = time.time()\n",
    "\n",
    "t = t1-t0\n",
    "\n",
    "evaluate('Interpolation 3', df, t)"
   ]
  },
  {
   "cell_type": "code",
   "execution_count": 20,
   "id": "33e585ab",
   "metadata": {},
   "outputs": [
    {
     "name": "stdout",
     "output_type": "stream",
     "text": [
      "Mit dieser Methode bleiben 58 NaNs bestehen.\n",
      "\n",
      "8515 Werte wurden für die Metriken verwendet.\n",
      "r2: -2.959674983506685, rmse: 0.7972661962988941\n"
     ]
    }
   ],
   "source": [
    "base = reset_base()\n",
    "train = reset_train(cords)\n",
    "\n",
    "t0 = time.time()\n",
    "df = interpolate_all(train)\n",
    "t1 = time.time()\n",
    "\n",
    "t = t1-t0\n",
    "\n",
    "df.to_csv('additional_data/imputed_sets/interpolation.csv')\n",
    "evaluate('Interpolation all', df, t)"
   ]
  },
  {
   "cell_type": "markdown",
   "id": "bb7f4e10",
   "metadata": {},
   "source": [
    "#### Iterative Imputer"
   ]
  },
  {
   "cell_type": "markdown",
   "id": "90bdc1aa",
   "metadata": {},
   "source": [
    "An dieser Stelle wird der Iterative Imputer von SciKitLearn angewandt. Die drei Varianten laufen auf den drei Dimensionen des Datensatzes. "
   ]
  },
  {
   "cell_type": "code",
   "execution_count": 21,
   "id": "4b105f7f",
   "metadata": {},
   "outputs": [],
   "source": [
    "def iterative_imputer_1(df):\n",
    "    col = df.columns\n",
    "    idx = df.index\n",
    "    \n",
    "    iter_imp = IterativeImputer(random_state=999)\n",
    "    df= iter_imp.fit_transform(df)\n",
    "    df= pd.DataFrame(df, columns=col, index=idx)\n",
    "    return df\n",
    "\n",
    "def iterative_imputer_2(df):\n",
    "    df = df.unstack().T\n",
    "    col = df.columns\n",
    "    idx = df.index\n",
    "\n",
    "    iter_imp = IterativeImputer(random_state=999)\n",
    "    df= iter_imp.fit_transform(df)\n",
    "\n",
    "    df = pd.DataFrame(df, columns=col, index=idx)\n",
    "    df = df.unstack().T\n",
    "    df = df.sort_index(level=['Country Name', 'Indicator Name'])\n",
    "    \n",
    "    return df\n",
    "\n",
    "def iterative_imputer_3(df):\n",
    "\n",
    "    df = df.reset_index()\n",
    "    df = df.set_index(['Indicator Name', 'Country Name'])\n",
    "    df = df.unstack().T\n",
    "\n",
    "    col = df.columns\n",
    "    idx = df.index\n",
    "\n",
    "    iter_imp = IterativeImputer(random_state=999, verbose=True)\n",
    "    df= iter_imp.fit_transform(df)\n",
    "\n",
    "    df = pd.DataFrame(df, columns=col, index=idx)\n",
    "    df = df.unstack().T\n",
    "    df = df.reset_index()\n",
    "    df = df.set_index(['Country Name', 'Indicator Name'])\n",
    "    df = df.sort_index(level=['Country Name', 'Indicator Name'])\n",
    "    \n",
    "    return df"
   ]
  },
  {
   "cell_type": "code",
   "execution_count": 22,
   "id": "127380f9",
   "metadata": {
    "scrolled": true
   },
   "outputs": [
    {
     "name": "stderr",
     "output_type": "stream",
     "text": [
      "C:\\Users\\mbfbr\\Anaconda3\\envs\\other\\lib\\site-packages\\sklearn\\impute\\_iterative.py:699: ConvergenceWarning: [IterativeImputer] Early stopping criterion not reached.\n",
      "  warnings.warn(\n"
     ]
    },
    {
     "name": "stdout",
     "output_type": "stream",
     "text": [
      "Mit dieser Methode bleiben 0 NaNs bestehen.\n",
      "\n",
      "8515 Werte wurden für die Metriken verwendet.\n",
      "r2: 0.9609051476884861, rmse: 0.07921973204963073\n"
     ]
    }
   ],
   "source": [
    "base = reset_base()\n",
    "train = reset_train(cords)\n",
    "\n",
    "t0 = time.time()\n",
    "df = iterative_imputer_1(train)\n",
    "t1 = time.time()\n",
    "\n",
    "t = t1-t0\n",
    "\n",
    "df.to_csv('additional_data/imputed_sets/ice.csv')\n",
    "evaluate('Iterative Imputer 1', df, t)"
   ]
  },
  {
   "cell_type": "code",
   "execution_count": 23,
   "id": "ea707e45",
   "metadata": {},
   "outputs": [
    {
     "name": "stdout",
     "output_type": "stream",
     "text": [
      "Mit dieser Methode bleiben 0 NaNs bestehen.\n",
      "\n",
      "8515 Werte wurden für die Metriken verwendet.\n",
      "r2: 0.9661514177508125, rmse: 0.07371295511229263\n"
     ]
    }
   ],
   "source": [
    "base = reset_base()\n",
    "train = reset_train(cords)\n",
    "\n",
    "t0 = time.time()\n",
    "df = iterative_imputer_2(train)\n",
    "t1 = time.time()\n",
    "\n",
    "t = t1-t0\n",
    "\n",
    "df.to_csv('additional_data/imputed_sets/ice2.csv')\n",
    "evaluate('Iterative Imputer 2', df, t)"
   ]
  },
  {
   "cell_type": "code",
   "execution_count": 24,
   "id": "bd774ba9",
   "metadata": {},
   "outputs": [
    {
     "name": "stdout",
     "output_type": "stream",
     "text": [
      "[IterativeImputer] Completing matrix with shape (4898, 165)\n",
      "[IterativeImputer] Change: 3.147511124721088e+16, scaled tolerance: 35084726045503.402 \n",
      "[IterativeImputer] Change: 1034671076716780.0, scaled tolerance: 35084726045503.402 \n",
      "[IterativeImputer] Change: 659123757395787.5, scaled tolerance: 35084726045503.402 \n",
      "[IterativeImputer] Change: 616363768648911.4, scaled tolerance: 35084726045503.402 \n",
      "[IterativeImputer] Change: 2396881809792168.5, scaled tolerance: 35084726045503.402 \n",
      "[IterativeImputer] Change: 603334623851478.6, scaled tolerance: 35084726045503.402 \n",
      "[IterativeImputer] Change: 3452555317561406.0, scaled tolerance: 35084726045503.402 \n",
      "[IterativeImputer] Change: 1566687283686987.5, scaled tolerance: 35084726045503.402 \n",
      "[IterativeImputer] Change: 562306276969730.8, scaled tolerance: 35084726045503.402 \n",
      "[IterativeImputer] Change: 263990229283100.84, scaled tolerance: 35084726045503.402 \n"
     ]
    },
    {
     "name": "stderr",
     "output_type": "stream",
     "text": [
      "C:\\Users\\mbfbr\\Anaconda3\\envs\\other\\lib\\site-packages\\sklearn\\impute\\_iterative.py:699: ConvergenceWarning: [IterativeImputer] Early stopping criterion not reached.\n",
      "  warnings.warn(\n"
     ]
    },
    {
     "name": "stdout",
     "output_type": "stream",
     "text": [
      "Mit dieser Methode bleiben 0 NaNs bestehen.\n",
      "\n",
      "8515 Werte wurden für die Metriken verwendet.\n",
      "r2: 0.662632017747099, rmse: 0.2327156083233093\n"
     ]
    }
   ],
   "source": [
    "base = reset_base()\n",
    "train = reset_train(cords)\n",
    "\n",
    "t0 = time.time()\n",
    "df = iterative_imputer_3(train)\n",
    "t1 = time.time()\n",
    "\n",
    "t = t1-t0\n",
    "\n",
    "df.to_csv('additional_data/imputed_sets/ice3.csv')\n",
    "evaluate('Iterative Imputer 3', df, t)"
   ]
  },
  {
   "cell_type": "markdown",
   "id": "a7128d61",
   "metadata": {},
   "source": [
    "#### MICE"
   ]
  },
  {
   "cell_type": "code",
   "execution_count": 25,
   "id": "e73cfe8f",
   "metadata": {},
   "outputs": [],
   "source": [
    "def mice_imputer(df):\n",
    "    n_imputations =  12\n",
    "    dfs = []\n",
    "    col = df.columns\n",
    "    idx = df.index\n",
    "    \n",
    "    for i in range(n_imputations): \n",
    "        print(f'Imputation round {i}')\n",
    "        iter_imp = IterativeImputer(random_state=i, sample_posterior=True, verbose=2)\n",
    "        df_temp = iter_imp.fit_transform(df)\n",
    "        dfs.append(df_temp)\n",
    "    \n",
    "    df = np.mean(np.array(dfs), axis=0)\n",
    "    df = pd.DataFrame(df, columns=col, index=idx)\n",
    "    return df"
   ]
  },
  {
   "cell_type": "code",
   "execution_count": 26,
   "id": "3aea6494",
   "metadata": {},
   "outputs": [
    {
     "name": "stdout",
     "output_type": "stream",
     "text": [
      "Imputation round 0\n",
      "[IterativeImputer] Completing matrix with shape (26070, 31)\n",
      "[IterativeImputer] Ending imputation round 1/10, elapsed time 22.13\n",
      "[IterativeImputer] Ending imputation round 2/10, elapsed time 50.69\n",
      "[IterativeImputer] Ending imputation round 3/10, elapsed time 74.83\n",
      "[IterativeImputer] Ending imputation round 4/10, elapsed time 95.85\n",
      "[IterativeImputer] Ending imputation round 5/10, elapsed time 125.55\n",
      "[IterativeImputer] Ending imputation round 6/10, elapsed time 152.13\n",
      "[IterativeImputer] Ending imputation round 7/10, elapsed time 175.06\n",
      "[IterativeImputer] Ending imputation round 8/10, elapsed time 196.97\n",
      "[IterativeImputer] Ending imputation round 9/10, elapsed time 219.44\n",
      "[IterativeImputer] Ending imputation round 10/10, elapsed time 241.78\n",
      "Imputation round 1\n",
      "[IterativeImputer] Completing matrix with shape (26070, 31)\n",
      "[IterativeImputer] Ending imputation round 1/10, elapsed time 22.34\n",
      "[IterativeImputer] Ending imputation round 2/10, elapsed time 43.44\n",
      "[IterativeImputer] Ending imputation round 3/10, elapsed time 66.55\n",
      "[IterativeImputer] Ending imputation round 4/10, elapsed time 88.88\n",
      "[IterativeImputer] Ending imputation round 5/10, elapsed time 111.03\n",
      "[IterativeImputer] Ending imputation round 6/10, elapsed time 132.63\n",
      "[IterativeImputer] Ending imputation round 7/10, elapsed time 154.55\n",
      "[IterativeImputer] Ending imputation round 8/10, elapsed time 176.93\n",
      "[IterativeImputer] Ending imputation round 9/10, elapsed time 199.37\n",
      "[IterativeImputer] Ending imputation round 10/10, elapsed time 221.01\n",
      "Imputation round 2\n",
      "[IterativeImputer] Completing matrix with shape (26070, 31)\n",
      "[IterativeImputer] Ending imputation round 1/10, elapsed time 21.79\n",
      "[IterativeImputer] Ending imputation round 2/10, elapsed time 44.65\n",
      "[IterativeImputer] Ending imputation round 3/10, elapsed time 66.55\n",
      "[IterativeImputer] Ending imputation round 4/10, elapsed time 88.14\n",
      "[IterativeImputer] Ending imputation round 5/10, elapsed time 110.62\n",
      "[IterativeImputer] Ending imputation round 6/10, elapsed time 132.99\n",
      "[IterativeImputer] Ending imputation round 7/10, elapsed time 155.81\n",
      "[IterativeImputer] Ending imputation round 8/10, elapsed time 177.88\n",
      "[IterativeImputer] Ending imputation round 9/10, elapsed time 201.23\n",
      "[IterativeImputer] Ending imputation round 10/10, elapsed time 224.53\n",
      "Imputation round 3\n",
      "[IterativeImputer] Completing matrix with shape (26070, 31)\n",
      "[IterativeImputer] Ending imputation round 1/10, elapsed time 22.13\n",
      "[IterativeImputer] Ending imputation round 2/10, elapsed time 44.27\n",
      "[IterativeImputer] Ending imputation round 3/10, elapsed time 66.81\n",
      "[IterativeImputer] Ending imputation round 4/10, elapsed time 88.50\n",
      "[IterativeImputer] Ending imputation round 5/10, elapsed time 110.35\n",
      "[IterativeImputer] Ending imputation round 6/10, elapsed time 133.23\n",
      "[IterativeImputer] Ending imputation round 7/10, elapsed time 155.64\n",
      "[IterativeImputer] Ending imputation round 8/10, elapsed time 176.93\n",
      "[IterativeImputer] Ending imputation round 9/10, elapsed time 198.60\n",
      "[IterativeImputer] Ending imputation round 10/10, elapsed time 222.17\n",
      "Imputation round 4\n",
      "[IterativeImputer] Completing matrix with shape (26070, 31)\n",
      "[IterativeImputer] Ending imputation round 1/10, elapsed time 22.90\n",
      "[IterativeImputer] Ending imputation round 2/10, elapsed time 45.81\n",
      "[IterativeImputer] Ending imputation round 3/10, elapsed time 68.17\n",
      "[IterativeImputer] Ending imputation round 4/10, elapsed time 90.69\n",
      "[IterativeImputer] Ending imputation round 5/10, elapsed time 113.02\n",
      "[IterativeImputer] Ending imputation round 6/10, elapsed time 134.93\n",
      "[IterativeImputer] Ending imputation round 7/10, elapsed time 157.33\n",
      "[IterativeImputer] Ending imputation round 8/10, elapsed time 172.65\n",
      "[IterativeImputer] Ending imputation round 9/10, elapsed time 187.70\n",
      "[IterativeImputer] Ending imputation round 10/10, elapsed time 203.62\n",
      "Imputation round 5\n",
      "[IterativeImputer] Completing matrix with shape (26070, 31)\n",
      "[IterativeImputer] Ending imputation round 1/10, elapsed time 15.42\n",
      "[IterativeImputer] Ending imputation round 2/10, elapsed time 30.34\n",
      "[IterativeImputer] Ending imputation round 3/10, elapsed time 45.06\n",
      "[IterativeImputer] Ending imputation round 4/10, elapsed time 60.48\n",
      "[IterativeImputer] Ending imputation round 5/10, elapsed time 76.57\n",
      "[IterativeImputer] Ending imputation round 6/10, elapsed time 91.99\n",
      "[IterativeImputer] Ending imputation round 7/10, elapsed time 107.30\n",
      "[IterativeImputer] Ending imputation round 8/10, elapsed time 122.41\n",
      "[IterativeImputer] Ending imputation round 9/10, elapsed time 137.69\n",
      "[IterativeImputer] Ending imputation round 10/10, elapsed time 152.29\n",
      "Imputation round 6\n",
      "[IterativeImputer] Completing matrix with shape (26070, 31)\n",
      "[IterativeImputer] Ending imputation round 1/10, elapsed time 14.97\n",
      "[IterativeImputer] Ending imputation round 2/10, elapsed time 30.53\n",
      "[IterativeImputer] Ending imputation round 3/10, elapsed time 45.48\n",
      "[IterativeImputer] Ending imputation round 4/10, elapsed time 60.18\n",
      "[IterativeImputer] Ending imputation round 5/10, elapsed time 74.78\n",
      "[IterativeImputer] Ending imputation round 6/10, elapsed time 89.87\n",
      "[IterativeImputer] Ending imputation round 7/10, elapsed time 104.73\n",
      "[IterativeImputer] Ending imputation round 8/10, elapsed time 119.51\n",
      "[IterativeImputer] Ending imputation round 9/10, elapsed time 134.35\n",
      "[IterativeImputer] Ending imputation round 10/10, elapsed time 148.50\n",
      "Imputation round 7\n",
      "[IterativeImputer] Completing matrix with shape (26070, 31)\n",
      "[IterativeImputer] Ending imputation round 1/10, elapsed time 14.39\n",
      "[IterativeImputer] Ending imputation round 2/10, elapsed time 28.45\n",
      "[IterativeImputer] Ending imputation round 3/10, elapsed time 42.61\n",
      "[IterativeImputer] Ending imputation round 4/10, elapsed time 56.81\n",
      "[IterativeImputer] Ending imputation round 5/10, elapsed time 70.84\n",
      "[IterativeImputer] Ending imputation round 6/10, elapsed time 84.96\n",
      "[IterativeImputer] Ending imputation round 7/10, elapsed time 99.10\n",
      "[IterativeImputer] Ending imputation round 8/10, elapsed time 113.30\n",
      "[IterativeImputer] Ending imputation round 9/10, elapsed time 128.33\n",
      "[IterativeImputer] Ending imputation round 10/10, elapsed time 143.77\n",
      "Imputation round 8\n",
      "[IterativeImputer] Completing matrix with shape (26070, 31)\n",
      "[IterativeImputer] Ending imputation round 1/10, elapsed time 14.92\n",
      "[IterativeImputer] Ending imputation round 2/10, elapsed time 29.42\n",
      "[IterativeImputer] Ending imputation round 3/10, elapsed time 44.36\n",
      "[IterativeImputer] Ending imputation round 4/10, elapsed time 60.89\n",
      "[IterativeImputer] Ending imputation round 5/10, elapsed time 75.76\n",
      "[IterativeImputer] Ending imputation round 6/10, elapsed time 90.83\n",
      "[IterativeImputer] Ending imputation round 7/10, elapsed time 107.02\n",
      "[IterativeImputer] Ending imputation round 8/10, elapsed time 122.69\n",
      "[IterativeImputer] Ending imputation round 9/10, elapsed time 137.54\n",
      "[IterativeImputer] Ending imputation round 10/10, elapsed time 151.85\n",
      "Imputation round 9\n",
      "[IterativeImputer] Completing matrix with shape (26070, 31)\n",
      "[IterativeImputer] Ending imputation round 1/10, elapsed time 14.02\n",
      "[IterativeImputer] Ending imputation round 2/10, elapsed time 28.40\n",
      "[IterativeImputer] Ending imputation round 3/10, elapsed time 43.03\n",
      "[IterativeImputer] Ending imputation round 4/10, elapsed time 57.25\n",
      "[IterativeImputer] Ending imputation round 5/10, elapsed time 71.75\n",
      "[IterativeImputer] Ending imputation round 6/10, elapsed time 85.92\n",
      "[IterativeImputer] Ending imputation round 7/10, elapsed time 100.14\n",
      "[IterativeImputer] Ending imputation round 8/10, elapsed time 114.47\n",
      "[IterativeImputer] Ending imputation round 9/10, elapsed time 128.67\n",
      "[IterativeImputer] Ending imputation round 10/10, elapsed time 143.02\n",
      "Imputation round 10\n",
      "[IterativeImputer] Completing matrix with shape (26070, 31)\n",
      "[IterativeImputer] Ending imputation round 1/10, elapsed time 14.05\n",
      "[IterativeImputer] Ending imputation round 2/10, elapsed time 28.18\n",
      "[IterativeImputer] Ending imputation round 3/10, elapsed time 42.50\n",
      "[IterativeImputer] Ending imputation round 4/10, elapsed time 57.45\n",
      "[IterativeImputer] Ending imputation round 5/10, elapsed time 72.37\n",
      "[IterativeImputer] Ending imputation round 6/10, elapsed time 87.46\n",
      "[IterativeImputer] Ending imputation round 7/10, elapsed time 103.04\n"
     ]
    },
    {
     "name": "stdout",
     "output_type": "stream",
     "text": [
      "[IterativeImputer] Ending imputation round 8/10, elapsed time 119.59\n",
      "[IterativeImputer] Ending imputation round 9/10, elapsed time 134.27\n",
      "[IterativeImputer] Ending imputation round 10/10, elapsed time 149.29\n",
      "Imputation round 11\n",
      "[IterativeImputer] Completing matrix with shape (26070, 31)\n",
      "[IterativeImputer] Ending imputation round 1/10, elapsed time 14.57\n",
      "[IterativeImputer] Ending imputation round 2/10, elapsed time 29.24\n",
      "[IterativeImputer] Ending imputation round 3/10, elapsed time 43.59\n",
      "[IterativeImputer] Ending imputation round 4/10, elapsed time 57.92\n",
      "[IterativeImputer] Ending imputation round 5/10, elapsed time 72.18\n",
      "[IterativeImputer] Ending imputation round 6/10, elapsed time 86.33\n",
      "[IterativeImputer] Ending imputation round 7/10, elapsed time 100.59\n",
      "[IterativeImputer] Ending imputation round 8/10, elapsed time 114.69\n",
      "[IterativeImputer] Ending imputation round 9/10, elapsed time 128.86\n",
      "[IterativeImputer] Ending imputation round 10/10, elapsed time 143.20\n"
     ]
    }
   ],
   "source": [
    "base = reset_base()\n",
    "train = reset_train(cords)\n",
    "\n",
    "t0 = time.time()\n",
    "df = mice_imputer(train)\n",
    "t1 = time.time()\n",
    "\n",
    "t = t1-t0\n",
    "df.to_csv('additional_data/imputed_sets/mice.csv')"
   ]
  },
  {
   "cell_type": "code",
   "execution_count": 27,
   "id": "00759d2b",
   "metadata": {},
   "outputs": [
    {
     "name": "stdout",
     "output_type": "stream",
     "text": [
      "Mit dieser Methode bleiben 0 NaNs bestehen.\n",
      "\n",
      "8515 Werte wurden für die Metriken verwendet.\n",
      "r2: 0.9588865414805373, rmse: 0.08123919037202011\n"
     ]
    }
   ],
   "source": [
    "evaluate('MICE', df, t)"
   ]
  },
  {
   "cell_type": "markdown",
   "id": "5a1572e8",
   "metadata": {},
   "source": [
    "#### KNN Imputer"
   ]
  },
  {
   "cell_type": "code",
   "execution_count": 28,
   "id": "4a937a77",
   "metadata": {},
   "outputs": [],
   "source": [
    "def knn_imputer1(df):\n",
    "    col = df.columns\n",
    "    idx = df.index\n",
    "    \n",
    "    knn_imp = KNNImputer(n_neighbors=2)\n",
    "    df= knn_imp.fit_transform(df)\n",
    "    df = pd.DataFrame(df, columns=col, index=idx)\n",
    "    return df\n",
    "\n",
    "def knn_imputer2(df, n):\n",
    "    \n",
    "    df = df.reset_index()\n",
    "    df = df.set_index(['Indicator Name', 'Country Name'])\n",
    "    df = df.unstack().T\n",
    "\n",
    "    col = df.columns\n",
    "    idx = df.index\n",
    "\n",
    "    knn_imp = KNNImputer(n_neighbors=n)\n",
    "    df= knn_imp.fit_transform(df)\n",
    "    df = pd.DataFrame(df, columns=col, index=idx)\n",
    "\n",
    "    df = df.unstack().T\n",
    "    df = df.reset_index()\n",
    "    df = df.set_index(['Country Name', 'Indicator Name'])\n",
    "    df = df.sort_index(level=['Country Name', 'Indicator Name'])\n",
    "    \n",
    "    return df"
   ]
  },
  {
   "cell_type": "code",
   "execution_count": 29,
   "id": "7e8eabb6",
   "metadata": {},
   "outputs": [
    {
     "name": "stdout",
     "output_type": "stream",
     "text": [
      "Mit dieser Methode bleiben 0 NaNs bestehen.\n",
      "\n",
      "8515 Werte wurden für die Metriken verwendet.\n",
      "r2: 0.2944522579857045, rmse: 0.3365400724328245\n"
     ]
    }
   ],
   "source": [
    "base = reset_base()\n",
    "train = reset_train(cords)\n",
    "\n",
    "t0 = time.time()\n",
    "df = knn_imputer1(train)\n",
    "t1 = time.time()\n",
    "\n",
    "t = t1-t0\n",
    "\n",
    "evaluate('KNN Imputer1', df, t)"
   ]
  },
  {
   "cell_type": "code",
   "execution_count": 31,
   "id": "1f8f3ed4",
   "metadata": {},
   "outputs": [
    {
     "name": "stdout",
     "output_type": "stream",
     "text": [
      "Mit dieser Methode bleiben 0 NaNs bestehen.\n",
      "\n",
      "8515 Werte wurden für die Metriken verwendet.\n",
      "r2: 0.9700605815538997, rmse: 0.06932585920533507\n"
     ]
    }
   ],
   "source": [
    "base = reset_base()\n",
    "train = reset_train(cords)\n",
    "\n",
    "t0 = time.time()\n",
    "df = knn_imputer2(train, 4)\n",
    "t1 = time.time()\n",
    "\n",
    "t = t1-t0\n",
    "\n",
    "df.to_csv('additional_data/imputed_sets/knn.csv')\n",
    "evaluate('KNN Imputer2', df, t)"
   ]
  },
  {
   "cell_type": "markdown",
   "id": "10ee75aa",
   "metadata": {},
   "source": [
    "#### Results"
   ]
  },
  {
   "cell_type": "code",
   "execution_count": 32,
   "id": "541fc251",
   "metadata": {},
   "outputs": [],
   "source": [
    "results = pd.DataFrame(results, columns=['Methode', 'r2', 'RSME', 'Remaining NaNs', 'Time'])\n",
    "results = results.set_index('Methode')"
   ]
  },
  {
   "cell_type": "code",
   "execution_count": 33,
   "id": "87b3c9ee",
   "metadata": {
    "scrolled": true
   },
   "outputs": [
    {
     "data": {
      "text/html": [
       "<div>\n",
       "<style scoped>\n",
       "    .dataframe tbody tr th:only-of-type {\n",
       "        vertical-align: middle;\n",
       "    }\n",
       "\n",
       "    .dataframe tbody tr th {\n",
       "        vertical-align: top;\n",
       "    }\n",
       "\n",
       "    .dataframe thead th {\n",
       "        text-align: right;\n",
       "    }\n",
       "</style>\n",
       "<table border=\"1\" class=\"dataframe\">\n",
       "  <thead>\n",
       "    <tr style=\"text-align: right;\">\n",
       "      <th></th>\n",
       "      <th>r2</th>\n",
       "      <th>RSME</th>\n",
       "      <th>Remaining NaNs</th>\n",
       "      <th>Time</th>\n",
       "    </tr>\n",
       "    <tr>\n",
       "      <th>Methode</th>\n",
       "      <th></th>\n",
       "      <th></th>\n",
       "      <th></th>\n",
       "      <th></th>\n",
       "    </tr>\n",
       "  </thead>\n",
       "  <tbody>\n",
       "    <tr>\n",
       "      <th>Backfill</th>\n",
       "      <td>-16.124571</td>\n",
       "      <td>1.683782</td>\n",
       "      <td>32853</td>\n",
       "      <td>0.000000</td>\n",
       "    </tr>\n",
       "    <tr>\n",
       "      <th>Overall Mean</th>\n",
       "      <td>-2.231565</td>\n",
       "      <td>0.720245</td>\n",
       "      <td>0</td>\n",
       "      <td>0.502221</td>\n",
       "    </tr>\n",
       "    <tr>\n",
       "      <th>Yearly Mean</th>\n",
       "      <td>-0.097043</td>\n",
       "      <td>0.419648</td>\n",
       "      <td>52298</td>\n",
       "      <td>0.219685</td>\n",
       "    </tr>\n",
       "    <tr>\n",
       "      <th>Yearly Mean per Region</th>\n",
       "      <td>-0.434978</td>\n",
       "      <td>0.481564</td>\n",
       "      <td>57262</td>\n",
       "      <td>0.329312</td>\n",
       "    </tr>\n",
       "    <tr>\n",
       "      <th>Interpolation 3</th>\n",
       "      <td>-2.959612</td>\n",
       "      <td>0.810691</td>\n",
       "      <td>32884</td>\n",
       "      <td>0.140671</td>\n",
       "    </tr>\n",
       "    <tr>\n",
       "      <th>Interpolation all</th>\n",
       "      <td>-2.959675</td>\n",
       "      <td>0.797266</td>\n",
       "      <td>58</td>\n",
       "      <td>0.094147</td>\n",
       "    </tr>\n",
       "    <tr>\n",
       "      <th>Iterative Imputer 1</th>\n",
       "      <td>0.960905</td>\n",
       "      <td>0.079220</td>\n",
       "      <td>0</td>\n",
       "      <td>15.893609</td>\n",
       "    </tr>\n",
       "    <tr>\n",
       "      <th>Iterative Imputer 2</th>\n",
       "      <td>0.966151</td>\n",
       "      <td>0.073713</td>\n",
       "      <td>0</td>\n",
       "      <td>30.838444</td>\n",
       "    </tr>\n",
       "    <tr>\n",
       "      <th>Iterative Imputer 3</th>\n",
       "      <td>0.662632</td>\n",
       "      <td>0.232716</td>\n",
       "      <td>0</td>\n",
       "      <td>105.027761</td>\n",
       "    </tr>\n",
       "    <tr>\n",
       "      <th>MICE</th>\n",
       "      <td>0.958887</td>\n",
       "      <td>0.081239</td>\n",
       "      <td>0</td>\n",
       "      <td>2145.680575</td>\n",
       "    </tr>\n",
       "    <tr>\n",
       "      <th>KNN Imputer1</th>\n",
       "      <td>0.294452</td>\n",
       "      <td>0.336540</td>\n",
       "      <td>0</td>\n",
       "      <td>123.970243</td>\n",
       "    </tr>\n",
       "    <tr>\n",
       "      <th>KNN Imputer2</th>\n",
       "      <td>0.970061</td>\n",
       "      <td>0.069326</td>\n",
       "      <td>0</td>\n",
       "      <td>20.590857</td>\n",
       "    </tr>\n",
       "  </tbody>\n",
       "</table>\n",
       "</div>"
      ],
      "text/plain": [
       "                               r2      RSME  Remaining NaNs         Time\n",
       "Methode                                                                 \n",
       "Backfill               -16.124571  1.683782           32853     0.000000\n",
       "Overall Mean            -2.231565  0.720245               0     0.502221\n",
       "Yearly Mean             -0.097043  0.419648           52298     0.219685\n",
       "Yearly Mean per Region  -0.434978  0.481564           57262     0.329312\n",
       "Interpolation 3         -2.959612  0.810691           32884     0.140671\n",
       "Interpolation all       -2.959675  0.797266              58     0.094147\n",
       "Iterative Imputer 1      0.960905  0.079220               0    15.893609\n",
       "Iterative Imputer 2      0.966151  0.073713               0    30.838444\n",
       "Iterative Imputer 3      0.662632  0.232716               0   105.027761\n",
       "MICE                     0.958887  0.081239               0  2145.680575\n",
       "KNN Imputer1             0.294452  0.336540               0   123.970243\n",
       "KNN Imputer2             0.970061  0.069326               0    20.590857"
      ]
     },
     "execution_count": 33,
     "metadata": {},
     "output_type": "execute_result"
    }
   ],
   "source": [
    "results"
   ]
  }
 ],
 "metadata": {
  "kernelspec": {
   "display_name": "Python 3 (ipykernel)",
   "language": "python",
   "name": "python3"
  },
  "language_info": {
   "codemirror_mode": {
    "name": "ipython",
    "version": 3
   },
   "file_extension": ".py",
   "mimetype": "text/x-python",
   "name": "python",
   "nbconvert_exporter": "python",
   "pygments_lexer": "ipython3",
   "version": "3.9.7"
  }
 },
 "nbformat": 4,
 "nbformat_minor": 5
}
