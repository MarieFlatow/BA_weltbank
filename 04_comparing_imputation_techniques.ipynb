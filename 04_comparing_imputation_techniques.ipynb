{
 "cells": [
  {
   "cell_type": "markdown",
   "id": "de5ee9b5",
   "metadata": {},
   "source": [
    "# Vergleich von Imputation Methoden"
   ]
  },
  {
   "cell_type": "markdown",
   "id": "f6372f0a",
   "metadata": {},
   "source": [
    "An dieser Stelle sollen verschiede Methoden zum interpolieren von fehlenden Werten betrachtet und verglichen werden."
   ]
  },
  {
   "cell_type": "markdown",
   "id": "79e93d63",
   "metadata": {},
   "source": [
    "### Vorbereitung"
   ]
  },
  {
   "cell_type": "code",
   "execution_count": 1,
   "id": "d6a4c49c",
   "metadata": {},
   "outputs": [],
   "source": [
    "import pandas as pd\n",
    "import numpy as np\n",
    "import math\n",
    "import time\n",
    "\n",
    "from sklearn.preprocessing import StandardScaler\n",
    "from sklearn.metrics import r2_score, mean_squared_error\n",
    "from sklearn.experimental import enable_iterative_imputer\n",
    "from sklearn.impute import IterativeImputer, KNNImputer"
   ]
  },
  {
   "cell_type": "markdown",
   "id": "2d9cbf47",
   "metadata": {},
   "source": [
    "In der Folge werden keine Regionen oder Gruppierungen von Ländern und nur die Jahre ab 1990 betrachtet. \n",
    "Von dem verbliebenen Datensatz werden nur Indikatoren behalten, die mindesten 20% gefüllt sind und nach ihrer Relevanz manuell ausgewählt wurden (siehe 03_preparing_data)."
   ]
  },
  {
   "cell_type": "code",
   "execution_count": 2,
   "id": "58fae007",
   "metadata": {},
   "outputs": [],
   "source": [
    "def reset_base():\n",
    "    base= pd.read_csv('additional_data/base.csv') \n",
    "    base.set_index(['Country Name', 'Indicator Name'], inplace=True)\n",
    "    base = base.sort_index(level=['Country Name', 'Indicator Name'])\n",
    "    return base"
   ]
  },
  {
   "cell_type": "code",
   "execution_count": 3,
   "id": "4810a09b",
   "metadata": {},
   "outputs": [
    {
     "data": {
      "text/plain": [
       "170307"
      ]
     },
     "execution_count": 3,
     "metadata": {},
     "output_type": "execute_result"
    }
   ],
   "source": [
    "base = reset_base()\n",
    "base.isna().sum().sum()"
   ]
  },
  {
   "cell_type": "markdown",
   "id": "684223dd",
   "metadata": {},
   "source": [
    "Um die Performanz unterschiedlicher Imutation Verfahren zu vergleichen werden weitere 1000 vorhandene (nicht NaN) Einträge entfernt. Diese 1000 Einträge werden später als Test-Daten verwendet, auf ihrer Grundlage lassen sich die Fehler der analysierten Verfahren errechnen. Um sicherzustellen, dass die Ergebnisse reproduzierbar sind wird ein Random State gesetzt. Dann werden zufällig Koordinaten zu Dateneinträgen gezogen. Da an dieser Stelle nur vorhandene Einträge relevant sind, werde zunächst zu viele Koordinaten gezogen, diese dann mit dem Datensatz abgeglichen und gelöscht, falls sie zu einem NaN zeigen und dann die ersten 1000 verbliebenen (und damit relevanten) Einträge ausgewählt. Diese werden in den Trainingsdaten entfernt. Auf diese Weise bleibt eine Reproduzierbarkeit erhalten."
   ]
  },
  {
   "cell_type": "code",
   "execution_count": 4,
   "id": "eef559ed",
   "metadata": {},
   "outputs": [
    {
     "data": {
      "text/html": [
       "<div>\n",
       "<style scoped>\n",
       "    .dataframe tbody tr th:only-of-type {\n",
       "        vertical-align: middle;\n",
       "    }\n",
       "\n",
       "    .dataframe tbody tr th {\n",
       "        vertical-align: top;\n",
       "    }\n",
       "\n",
       "    .dataframe thead th {\n",
       "        text-align: right;\n",
       "    }\n",
       "</style>\n",
       "<table border=\"1\" class=\"dataframe\">\n",
       "  <thead>\n",
       "    <tr style=\"text-align: right;\">\n",
       "      <th></th>\n",
       "      <th></th>\n",
       "      <th>1990</th>\n",
       "      <th>1991</th>\n",
       "      <th>1992</th>\n",
       "      <th>1993</th>\n",
       "      <th>1994</th>\n",
       "      <th>1995</th>\n",
       "      <th>1996</th>\n",
       "      <th>1997</th>\n",
       "      <th>1998</th>\n",
       "      <th>1999</th>\n",
       "      <th>...</th>\n",
       "      <th>2011</th>\n",
       "      <th>2012</th>\n",
       "      <th>2013</th>\n",
       "      <th>2014</th>\n",
       "      <th>2015</th>\n",
       "      <th>2016</th>\n",
       "      <th>2017</th>\n",
       "      <th>2018</th>\n",
       "      <th>2019</th>\n",
       "      <th>2020</th>\n",
       "    </tr>\n",
       "    <tr>\n",
       "      <th>Country Name</th>\n",
       "      <th>Indicator Name</th>\n",
       "      <th></th>\n",
       "      <th></th>\n",
       "      <th></th>\n",
       "      <th></th>\n",
       "      <th></th>\n",
       "      <th></th>\n",
       "      <th></th>\n",
       "      <th></th>\n",
       "      <th></th>\n",
       "      <th></th>\n",
       "      <th></th>\n",
       "      <th></th>\n",
       "      <th></th>\n",
       "      <th></th>\n",
       "      <th></th>\n",
       "      <th></th>\n",
       "      <th></th>\n",
       "      <th></th>\n",
       "      <th></th>\n",
       "      <th></th>\n",
       "      <th></th>\n",
       "    </tr>\n",
       "  </thead>\n",
       "  <tbody>\n",
       "    <tr>\n",
       "      <th rowspan=\"3\" valign=\"top\">Afghanistan</th>\n",
       "      <th>Access to clean fuels and technologies for cooking (% of population)</th>\n",
       "      <td>NaN</td>\n",
       "      <td>NaN</td>\n",
       "      <td>NaN</td>\n",
       "      <td>NaN</td>\n",
       "      <td>NaN</td>\n",
       "      <td>NaN</td>\n",
       "      <td>NaN</td>\n",
       "      <td>NaN</td>\n",
       "      <td>NaN</td>\n",
       "      <td>NaN</td>\n",
       "      <td>...</td>\n",
       "      <td>21.500000</td>\n",
       "      <td>23.000000</td>\n",
       "      <td>24.799999</td>\n",
       "      <td>26.700001</td>\n",
       "      <td>28.600000</td>\n",
       "      <td>30.299999</td>\n",
       "      <td>32.200001</td>\n",
       "      <td>34.099998</td>\n",
       "      <td>36.00000</td>\n",
       "      <td>NaN</td>\n",
       "    </tr>\n",
       "    <tr>\n",
       "      <th>Access to electricity (% of population)</th>\n",
       "      <td>NaN</td>\n",
       "      <td>NaN</td>\n",
       "      <td>NaN</td>\n",
       "      <td>NaN</td>\n",
       "      <td>NaN</td>\n",
       "      <td>NaN</td>\n",
       "      <td>NaN</td>\n",
       "      <td>NaN</td>\n",
       "      <td>NaN</td>\n",
       "      <td>NaN</td>\n",
       "      <td>...</td>\n",
       "      <td>43.222019</td>\n",
       "      <td>69.100000</td>\n",
       "      <td>68.982941</td>\n",
       "      <td>89.500000</td>\n",
       "      <td>71.500000</td>\n",
       "      <td>97.700000</td>\n",
       "      <td>97.700000</td>\n",
       "      <td>98.715622</td>\n",
       "      <td>97.70000</td>\n",
       "      <td>NaN</td>\n",
       "    </tr>\n",
       "    <tr>\n",
       "      <th>Access to electricity, rural (% of rural population)</th>\n",
       "      <td>NaN</td>\n",
       "      <td>NaN</td>\n",
       "      <td>NaN</td>\n",
       "      <td>NaN</td>\n",
       "      <td>NaN</td>\n",
       "      <td>NaN</td>\n",
       "      <td>NaN</td>\n",
       "      <td>NaN</td>\n",
       "      <td>NaN</td>\n",
       "      <td>NaN</td>\n",
       "      <td>...</td>\n",
       "      <td>29.572881</td>\n",
       "      <td>60.849157</td>\n",
       "      <td>61.315788</td>\n",
       "      <td>86.500512</td>\n",
       "      <td>64.573354</td>\n",
       "      <td>97.099360</td>\n",
       "      <td>97.091973</td>\n",
       "      <td>98.309603</td>\n",
       "      <td>96.90219</td>\n",
       "      <td>NaN</td>\n",
       "    </tr>\n",
       "  </tbody>\n",
       "</table>\n",
       "<p>3 rows × 31 columns</p>\n",
       "</div>"
      ],
      "text/plain": [
       "                                                                 1990  1991  \\\n",
       "Country Name Indicator Name                                                   \n",
       "Afghanistan  Access to clean fuels and technologies for cook...   NaN   NaN   \n",
       "             Access to electricity (% of population)              NaN   NaN   \n",
       "             Access to electricity, rural (% of rural popula...   NaN   NaN   \n",
       "\n",
       "                                                                 1992  1993  \\\n",
       "Country Name Indicator Name                                                   \n",
       "Afghanistan  Access to clean fuels and technologies for cook...   NaN   NaN   \n",
       "             Access to electricity (% of population)              NaN   NaN   \n",
       "             Access to electricity, rural (% of rural popula...   NaN   NaN   \n",
       "\n",
       "                                                                 1994  1995  \\\n",
       "Country Name Indicator Name                                                   \n",
       "Afghanistan  Access to clean fuels and technologies for cook...   NaN   NaN   \n",
       "             Access to electricity (% of population)              NaN   NaN   \n",
       "             Access to electricity, rural (% of rural popula...   NaN   NaN   \n",
       "\n",
       "                                                                 1996  1997  \\\n",
       "Country Name Indicator Name                                                   \n",
       "Afghanistan  Access to clean fuels and technologies for cook...   NaN   NaN   \n",
       "             Access to electricity (% of population)              NaN   NaN   \n",
       "             Access to electricity, rural (% of rural popula...   NaN   NaN   \n",
       "\n",
       "                                                                 1998  1999  \\\n",
       "Country Name Indicator Name                                                   \n",
       "Afghanistan  Access to clean fuels and technologies for cook...   NaN   NaN   \n",
       "             Access to electricity (% of population)              NaN   NaN   \n",
       "             Access to electricity, rural (% of rural popula...   NaN   NaN   \n",
       "\n",
       "                                                                 ...  \\\n",
       "Country Name Indicator Name                                      ...   \n",
       "Afghanistan  Access to clean fuels and technologies for cook...  ...   \n",
       "             Access to electricity (% of population)             ...   \n",
       "             Access to electricity, rural (% of rural popula...  ...   \n",
       "\n",
       "                                                                      2011  \\\n",
       "Country Name Indicator Name                                                  \n",
       "Afghanistan  Access to clean fuels and technologies for cook...  21.500000   \n",
       "             Access to electricity (% of population)             43.222019   \n",
       "             Access to electricity, rural (% of rural popula...  29.572881   \n",
       "\n",
       "                                                                      2012  \\\n",
       "Country Name Indicator Name                                                  \n",
       "Afghanistan  Access to clean fuels and technologies for cook...  23.000000   \n",
       "             Access to electricity (% of population)             69.100000   \n",
       "             Access to electricity, rural (% of rural popula...  60.849157   \n",
       "\n",
       "                                                                      2013  \\\n",
       "Country Name Indicator Name                                                  \n",
       "Afghanistan  Access to clean fuels and technologies for cook...  24.799999   \n",
       "             Access to electricity (% of population)             68.982941   \n",
       "             Access to electricity, rural (% of rural popula...  61.315788   \n",
       "\n",
       "                                                                      2014  \\\n",
       "Country Name Indicator Name                                                  \n",
       "Afghanistan  Access to clean fuels and technologies for cook...  26.700001   \n",
       "             Access to electricity (% of population)             89.500000   \n",
       "             Access to electricity, rural (% of rural popula...  86.500512   \n",
       "\n",
       "                                                                      2015  \\\n",
       "Country Name Indicator Name                                                  \n",
       "Afghanistan  Access to clean fuels and technologies for cook...  28.600000   \n",
       "             Access to electricity (% of population)             71.500000   \n",
       "             Access to electricity, rural (% of rural popula...  64.573354   \n",
       "\n",
       "                                                                      2016  \\\n",
       "Country Name Indicator Name                                                  \n",
       "Afghanistan  Access to clean fuels and technologies for cook...  30.299999   \n",
       "             Access to electricity (% of population)             97.700000   \n",
       "             Access to electricity, rural (% of rural popula...  97.099360   \n",
       "\n",
       "                                                                      2017  \\\n",
       "Country Name Indicator Name                                                  \n",
       "Afghanistan  Access to clean fuels and technologies for cook...  32.200001   \n",
       "             Access to electricity (% of population)             97.700000   \n",
       "             Access to electricity, rural (% of rural popula...  97.091973   \n",
       "\n",
       "                                                                      2018  \\\n",
       "Country Name Indicator Name                                                  \n",
       "Afghanistan  Access to clean fuels and technologies for cook...  34.099998   \n",
       "             Access to electricity (% of population)             98.715622   \n",
       "             Access to electricity, rural (% of rural popula...  98.309603   \n",
       "\n",
       "                                                                     2019  \\\n",
       "Country Name Indicator Name                                                 \n",
       "Afghanistan  Access to clean fuels and technologies for cook...  36.00000   \n",
       "             Access to electricity (% of population)             97.70000   \n",
       "             Access to electricity, rural (% of rural popula...  96.90219   \n",
       "\n",
       "                                                                 2020  \n",
       "Country Name Indicator Name                                            \n",
       "Afghanistan  Access to clean fuels and technologies for cook...   NaN  \n",
       "             Access to electricity (% of population)              NaN  \n",
       "             Access to electricity, rural (% of rural popula...   NaN  \n",
       "\n",
       "[3 rows x 31 columns]"
      ]
     },
     "execution_count": 4,
     "metadata": {},
     "output_type": "execute_result"
    }
   ],
   "source": [
    "base.head(3)"
   ]
  },
  {
   "cell_type": "markdown",
   "id": "82af3855",
   "metadata": {},
   "source": [
    "### Simulation fehlender Werte und Evaluation"
   ]
  },
  {
   "cell_type": "code",
   "execution_count": 5,
   "id": "3ab75db4",
   "metadata": {},
   "outputs": [],
   "source": [
    "def get_cords(frac):\n",
    "    n = int(base.isna().sum().sum()*frac)\n",
    "    print(f'Testdaten mit {frac*100}% fehlenden Werten (absolut: {n})')\n",
    "    #random state to ensure reproducibility\n",
    "    rnds = np.random.RandomState(n)\n",
    "\n",
    "    #coordinates for data entries to be removed randomly\n",
    "    #5000 entries are selected\n",
    "    cords = pd.DataFrame([[rnds.randint(0, len(base), size=n*4)[i], \n",
    "                  rnds.randint(0, len(base.columns), size=n*4)[i]]\n",
    "                  for i in range(n*4)])\n",
    "\n",
    "    #all coordinates pointing to NaN entries are removed and\n",
    "    #first 1000 remaining entries are selected\n",
    "    cords['value'] = [base.iloc[cords[0][i], cords[1][i]] for i in cords.index]\n",
    "    cords = cords.dropna()[:n].reset_index(drop=True)\n",
    "    \n",
    "    return cords"
   ]
  },
  {
   "cell_type": "code",
   "execution_count": 6,
   "id": "68dae23d",
   "metadata": {},
   "outputs": [
    {
     "name": "stdout",
     "output_type": "stream",
     "text": [
      "Testdaten mit 10.0% fehlenden Werten (absolut: 17030)\n"
     ]
    }
   ],
   "source": [
    "cords = get_cords(0.1)"
   ]
  },
  {
   "cell_type": "code",
   "execution_count": 7,
   "id": "e83f2a4b",
   "metadata": {},
   "outputs": [],
   "source": [
    "#getting train data by changing randomly chosen values to NaN\n",
    "def reset_train():\n",
    "    train = base.copy()\n",
    "    for i in cords.index:\n",
    "        train.iloc[cords[0][i], cords[1][i]] = None\n",
    "    return train"
   ]
  },
  {
   "cell_type": "code",
   "execution_count": 8,
   "id": "b7417452",
   "metadata": {},
   "outputs": [],
   "source": [
    "results = []"
   ]
  },
  {
   "cell_type": "code",
   "execution_count": 9,
   "id": "1a4ee24b",
   "metadata": {},
   "outputs": [],
   "source": [
    "def evaluate(method, df, t):\n",
    "    \n",
    "    '''\n",
    "    res1 = (pd.DataFrame({'y_true': [base.iloc[cords[0][i], cords[1][i]] for i in cords.index],\n",
    "                        'y_pred': [df.iloc[cords[0][i], cords[1][i]] for i in cords.index],\n",
    "                        'indicator': [df.index.get_level_values('Indicator Name')[cords[0][i]] for i in cords.index],\n",
    "                        'year': [df.columns[cords[1][i]] for i in cords.index]})\n",
    "         )\n",
    "    '''\n",
    "    \n",
    "    #scaling original data and imputed data\n",
    "    #necessary ?????????????????????????????????????\n",
    "    train = reset_train()\n",
    "    scaler = StandardScaler().fit(train) #fitting on train?\n",
    "    norm_base = pd.DataFrame(scaler.transform(base))\n",
    "    df = pd.DataFrame(scaler.transform(df))\n",
    "\n",
    "    #getting imputed values for simulated NaNs and true value \n",
    "    res =pd.DataFrame({'y_true': [norm_base.iloc[cords[0][i], cords[1][i]] for i in cords.index],\n",
    "                       'y_pred': [df.iloc[cords[0][i], cords[1][i]] for i in cords.index]\n",
    "                      })\n",
    "    res = res.dropna()\n",
    "\n",
    "   \n",
    "    #calculate evaluation metrics\n",
    "    r2 = r2_score(res['y_true'], res['y_pred'])\n",
    "    rmse = math.sqrt(mean_squared_error(res['y_true'], res['y_pred']))\n",
    "    still_missing = df.isna().sum().sum()\n",
    "    \n",
    "    print(f'Mit dieser Methode bleiben {still_missing} NaNs bestehen.')\n",
    "    print('')\n",
    "    print(f'{len(res)} Werte wurden für die Metriken verwendet.')\n",
    "    print(f'r2: {r2}, rmse: {rmse}')\n",
    "    \n",
    "    results.append([method, r2, rmse, still_missing, t])\n"
   ]
  },
  {
   "cell_type": "markdown",
   "id": "19e52da5",
   "metadata": {},
   "source": [
    "###  Imputation Verfahren"
   ]
  },
  {
   "cell_type": "markdown",
   "id": "48780b94",
   "metadata": {},
   "source": [
    "Es werden diese Imputation Methoden verglichen:\n",
    "- Backcasting\n",
    "- Durchschnitt\n",
    "- regionaler Durchschnitt\n",
    "- Iterative Imputer\n",
    "- KNN Imputer"
   ]
  },
  {
   "cell_type": "markdown",
   "id": "bf1aa949",
   "metadata": {},
   "source": [
    "#### Backfill"
   ]
  },
  {
   "cell_type": "code",
   "execution_count": 10,
   "id": "9feab176",
   "metadata": {},
   "outputs": [],
   "source": [
    "def impute_backfill(df):\n",
    "    df = df.fillna(method='bfill', limit=3)\n",
    "    return df"
   ]
  },
  {
   "cell_type": "code",
   "execution_count": 11,
   "id": "15106e66",
   "metadata": {},
   "outputs": [
    {
     "name": "stdout",
     "output_type": "stream",
     "text": [
      "Mit dieser Methode bleiben 33605 NaNs bestehen.\n",
      "\n",
      "16462 Werte wurden für die Metriken verwendet.\n",
      "r2: -0.043800632990352195, rmse: 2.089040474302827\n"
     ]
    }
   ],
   "source": [
    "base = reset_base()\n",
    "train = reset_train()\n",
    "\n",
    "\n",
    "\n",
    "t0 = time.time()\n",
    "df= impute_backfill(train) \n",
    "t1 = time.time()\n",
    "\n",
    "t = t1-t0\n",
    "\n",
    "df.to_csv('additional_data/imputed_sets/backfill.csv')\n",
    "evaluate('Backfill', df, t)"
   ]
  },
  {
   "cell_type": "markdown",
   "id": "c199e7eb",
   "metadata": {},
   "source": [
    "#### Durchschnitt des Indikators über alle Jahre hinweg"
   ]
  },
  {
   "cell_type": "code",
   "execution_count": 12,
   "id": "9339d04c",
   "metadata": {},
   "outputs": [],
   "source": [
    "def impute_overall_means(df):\n",
    "    #fill NaNs with overall mean of that indicator\n",
    "    values = pd.DataFrame(df.stack()).groupby('Indicator Name')[0].mean()\n",
    "    df = pd.DataFrame(df.stack(dropna=False))\n",
    "    \n",
    "    df[0] = df[0].fillna(df.groupby('Indicator Name')[0].transform('mean'))\n",
    "    df = df.unstack()\n",
    "    df.columns = df.columns.droplevel(0)\n",
    "    df = df.sort_index(level='Indicator Name')\n",
    "        \n",
    "    return df"
   ]
  },
  {
   "cell_type": "code",
   "execution_count": 13,
   "id": "fa5d2ef6",
   "metadata": {},
   "outputs": [
    {
     "name": "stdout",
     "output_type": "stream",
     "text": [
      "Mit dieser Methode bleiben 0 NaNs bestehen.\n",
      "\n",
      "17030 Werte wurden für die Metriken verwendet.\n",
      "r2: -0.1953040317902126, rmse: 2.1979391673298037\n"
     ]
    }
   ],
   "source": [
    "base = reset_base()\n",
    "train = reset_train()\n",
    "\n",
    "t0 = time.time()\n",
    "df = impute_overall_means(train)\n",
    "t1 = time.time()\n",
    "\n",
    "t = t1-t0\n",
    "\n",
    "df.to_csv('additional_data/imputed_sets/mean.csv')\n",
    "evaluate('Overall Mean', df, t)"
   ]
  },
  {
   "cell_type": "markdown",
   "id": "556408e1",
   "metadata": {},
   "source": [
    "#### Durchschnitt des Indikators für das jeweilige Jahr"
   ]
  },
  {
   "cell_type": "code",
   "execution_count": 14,
   "id": "00f89dd3",
   "metadata": {},
   "outputs": [],
   "source": [
    "def impute_yearly_means(df):\n",
    "    #fill NaNs with overall mean of that indicator\n",
    "    \n",
    "    for i in df.columns:\n",
    "        df[i] = df[i].fillna(df.groupby('Indicator Name')[i].transform('mean'))\n",
    "            \n",
    "    return df"
   ]
  },
  {
   "cell_type": "code",
   "execution_count": 15,
   "id": "916f6b7a",
   "metadata": {},
   "outputs": [
    {
     "name": "stdout",
     "output_type": "stream",
     "text": [
      "Mit dieser Methode bleiben 52772 NaNs bestehen.\n",
      "\n",
      "17027 Werte wurden für die Metriken verwendet.\n",
      "r2: 0.013454075014286193, rmse: 1.9969783912024721\n"
     ]
    }
   ],
   "source": [
    "base = reset_base()\n",
    "train = reset_train()\n",
    "\n",
    "t0 = time.time()\n",
    "df = impute_yearly_means(train)\n",
    "t1 = time.time()\n",
    "\n",
    "t = t1-t0\n",
    "\n",
    "evaluate('Yearly Mean',df, t)"
   ]
  },
  {
   "cell_type": "markdown",
   "id": "36834c68",
   "metadata": {},
   "source": [
    "#### Regionaler Durchschnitt des Indikators für das jeweilige Jahr"
   ]
  },
  {
   "cell_type": "code",
   "execution_count": 16,
   "id": "824e9152",
   "metadata": {},
   "outputs": [],
   "source": [
    "def impute_yearly_means_per_region(df):\n",
    "    country_data = pd.read_csv('../Data/WDICountry.csv')\n",
    "    country_data = country_data.loc[:,['Table Name', 'Region']]\n",
    "    df = pd.merge(df.reset_index(), country_data, how='left', left_on='Country Name', right_on='Table Name').drop('Table Name', axis=1)\n",
    "    df = df.set_index(['Country Name', 'Indicator Name', 'Region'])\n",
    "\n",
    "    for i in df.columns:\n",
    "        df[i] = df[i].fillna(df.groupby(['Indicator Name', 'Region'])[i].transform('mean'))\n",
    "\n",
    "    df = df.reset_index().set_index(['Country Name', 'Indicator Name']).drop('Region', axis=1)\n",
    "    return df"
   ]
  },
  {
   "cell_type": "code",
   "execution_count": 17,
   "id": "a3047337",
   "metadata": {},
   "outputs": [
    {
     "name": "stdout",
     "output_type": "stream",
     "text": [
      "Mit dieser Methode bleiben 57448 NaNs bestehen.\n",
      "\n",
      "16903 Werte wurden für die Metriken verwendet.\n",
      "r2: 0.05990583802688387, rmse: 1.9565294158245126\n"
     ]
    }
   ],
   "source": [
    "base = reset_base()\n",
    "train = reset_train()\n",
    "\n",
    "t0 = time.time()\n",
    "df = impute_yearly_means_per_region(train)\n",
    "t1 = time.time()\n",
    "\n",
    "t = t1-t0\n",
    "\n",
    "evaluate('Yearly Mean per Region', df, t)"
   ]
  },
  {
   "cell_type": "markdown",
   "id": "e8252e72",
   "metadata": {},
   "source": [
    "#### Interpolation"
   ]
  },
  {
   "cell_type": "code",
   "execution_count": 18,
   "id": "a4f2d1f8",
   "metadata": {},
   "outputs": [],
   "source": [
    "def interpolate3(df):\n",
    "    df = df.interpolate(limit=3)\n",
    "    return df\n",
    "\n",
    "def interpolate_all(df):\n",
    "    df = df.interpolate()\n",
    "    return df"
   ]
  },
  {
   "cell_type": "code",
   "execution_count": 19,
   "id": "e6ce8ea7",
   "metadata": {},
   "outputs": [
    {
     "name": "stdout",
     "output_type": "stream",
     "text": [
      "Mit dieser Methode bleiben 33638 NaNs bestehen.\n",
      "\n",
      "16488 Werte wurden für die Metriken verwendet.\n",
      "r2: -0.04342564936248783, rmse: 2.0869887856001283\n"
     ]
    }
   ],
   "source": [
    "base = reset_base()\n",
    "train = reset_train()\n",
    "\n",
    "t0 = time.time()\n",
    "df = interpolate3(train)\n",
    "t1 = time.time()\n",
    "\n",
    "t = t1-t0\n",
    "\n",
    "evaluate('Interpolation 3', df, t)"
   ]
  },
  {
   "cell_type": "code",
   "execution_count": 20,
   "id": "33e585ab",
   "metadata": {},
   "outputs": [
    {
     "name": "stdout",
     "output_type": "stream",
     "text": [
      "Mit dieser Methode bleiben 61 NaNs bestehen.\n",
      "\n",
      "17027 Werte wurden für die Metriken verwendet.\n",
      "r2: -0.04341923745526266, rmse: 2.053733699351703\n"
     ]
    }
   ],
   "source": [
    "base = reset_base()\n",
    "train = reset_train()\n",
    "\n",
    "t0 = time.time()\n",
    "df = interpolate_all(train)\n",
    "t1 = time.time()\n",
    "\n",
    "t = t1-t0\n",
    "\n",
    "df.to_csv('additional_data/imputed_sets/interpolation.csv')\n",
    "evaluate('Interpolation all', df, t)"
   ]
  },
  {
   "cell_type": "markdown",
   "id": "bb7f4e10",
   "metadata": {},
   "source": [
    "#### Iterative Imputer"
   ]
  },
  {
   "cell_type": "code",
   "execution_count": 21,
   "id": "4b105f7f",
   "metadata": {},
   "outputs": [],
   "source": [
    "def iterative_imputer_1(df):\n",
    "    col = df.columns\n",
    "    idx = df.index\n",
    "    \n",
    "    iter_imp = IterativeImputer(random_state=999)\n",
    "    df= iter_imp.fit_transform(df)\n",
    "    df= pd.DataFrame(df, columns=col, index=idx)\n",
    "    return df\n",
    "\n",
    "def iterative_imputer_2(df):\n",
    "    df = df.unstack().T\n",
    "    col = df.columns\n",
    "    idx = df.index\n",
    "\n",
    "    iter_imp = IterativeImputer(random_state=999)\n",
    "    df= iter_imp.fit_transform(df)\n",
    "\n",
    "    df = pd.DataFrame(df, columns=col, index=idx)\n",
    "    df = df.unstack().T\n",
    "    df = df.sort_index(level=['Country Name', 'Indicator Name'])\n",
    "    \n",
    "    return df"
   ]
  },
  {
   "cell_type": "code",
   "execution_count": 22,
   "id": "127380f9",
   "metadata": {
    "scrolled": true
   },
   "outputs": [
    {
     "name": "stderr",
     "output_type": "stream",
     "text": [
      "C:\\Users\\mbfbr\\Anaconda3\\envs\\other\\lib\\site-packages\\sklearn\\impute\\_iterative.py:699: ConvergenceWarning: [IterativeImputer] Early stopping criterion not reached.\n",
      "  warnings.warn(\n"
     ]
    },
    {
     "name": "stdout",
     "output_type": "stream",
     "text": [
      "Mit dieser Methode bleiben 0 NaNs bestehen.\n",
      "\n",
      "17030 Werte wurden für die Metriken verwendet.\n",
      "r2: 0.9658526097359531, rmse: 0.37149693504215014\n"
     ]
    }
   ],
   "source": [
    "base = reset_base()\n",
    "train = reset_train()\n",
    "\n",
    "t0 = time.time()\n",
    "df = iterative_imputer_1(train)\n",
    "t1 = time.time()\n",
    "\n",
    "t = t1-t0\n",
    "\n",
    "df.to_csv('additional_data/imputed_sets/ice.csv')\n",
    "evaluate('Iterative Imputer 1', df, t)"
   ]
  },
  {
   "cell_type": "code",
   "execution_count": 23,
   "id": "ea707e45",
   "metadata": {},
   "outputs": [
    {
     "name": "stdout",
     "output_type": "stream",
     "text": [
      "Mit dieser Methode bleiben 0 NaNs bestehen.\n",
      "\n",
      "17030 Werte wurden für die Metriken verwendet.\n",
      "r2: 0.9452737170229422, rmse: 0.4702994294809716\n"
     ]
    }
   ],
   "source": [
    "base = reset_base()\n",
    "train = reset_train()\n",
    "\n",
    "t0 = time.time()\n",
    "df = iterative_imputer_2(train)\n",
    "t1 = time.time()\n",
    "\n",
    "t = t1-t0\n",
    "\n",
    "evaluate('Iterative Imputer 2', df, t)"
   ]
  },
  {
   "cell_type": "markdown",
   "id": "a7128d61",
   "metadata": {},
   "source": [
    "#### MICE"
   ]
  },
  {
   "cell_type": "code",
   "execution_count": 24,
   "id": "e73cfe8f",
   "metadata": {},
   "outputs": [],
   "source": [
    "def mice_imputer(df):\n",
    "    n_imputations =  12\n",
    "    dfs = []\n",
    "    col = df.columns\n",
    "    idx = df.index\n",
    "    \n",
    "    for i in range(n_imputations): \n",
    "        print(f'Imputation round {i}')\n",
    "        iter_imp = IterativeImputer(random_state=i, sample_posterior=True, verbose=2)\n",
    "        df_temp = iter_imp.fit_transform(df)\n",
    "        dfs.append(df_temp)\n",
    "    \n",
    "    df = np.mean(np.array(dfs), axis=0)\n",
    "    df = pd.DataFrame(df, columns=col, index=idx)\n",
    "    return df"
   ]
  },
  {
   "cell_type": "code",
   "execution_count": 25,
   "id": "3aea6494",
   "metadata": {},
   "outputs": [
    {
     "name": "stdout",
     "output_type": "stream",
     "text": [
      "Imputation round 0\n",
      "[IterativeImputer] Completing matrix with shape (26070, 31)\n",
      "[IterativeImputer] Ending imputation round 1/10, elapsed time 15.82\n",
      "[IterativeImputer] Ending imputation round 2/10, elapsed time 31.87\n",
      "[IterativeImputer] Ending imputation round 3/10, elapsed time 47.42\n",
      "[IterativeImputer] Ending imputation round 4/10, elapsed time 63.05\n",
      "[IterativeImputer] Ending imputation round 5/10, elapsed time 78.86\n",
      "[IterativeImputer] Ending imputation round 6/10, elapsed time 94.55\n",
      "[IterativeImputer] Ending imputation round 7/10, elapsed time 110.16\n",
      "[IterativeImputer] Ending imputation round 8/10, elapsed time 125.84\n",
      "[IterativeImputer] Ending imputation round 9/10, elapsed time 141.70\n",
      "[IterativeImputer] Ending imputation round 10/10, elapsed time 157.42\n",
      "Imputation round 1\n",
      "[IterativeImputer] Completing matrix with shape (26070, 31)\n",
      "[IterativeImputer] Ending imputation round 1/10, elapsed time 15.72\n",
      "[IterativeImputer] Ending imputation round 2/10, elapsed time 31.56\n",
      "[IterativeImputer] Ending imputation round 3/10, elapsed time 47.22\n",
      "[IterativeImputer] Ending imputation round 4/10, elapsed time 63.15\n",
      "[IterativeImputer] Ending imputation round 5/10, elapsed time 78.76\n",
      "[IterativeImputer] Ending imputation round 6/10, elapsed time 94.62\n",
      "[IterativeImputer] Ending imputation round 7/10, elapsed time 111.15\n",
      "[IterativeImputer] Ending imputation round 8/10, elapsed time 127.63\n",
      "[IterativeImputer] Ending imputation round 9/10, elapsed time 143.45\n",
      "[IterativeImputer] Ending imputation round 10/10, elapsed time 159.16\n",
      "Imputation round 2\n",
      "[IterativeImputer] Completing matrix with shape (26070, 31)\n",
      "[IterativeImputer] Ending imputation round 1/10, elapsed time 15.38\n",
      "[IterativeImputer] Ending imputation round 2/10, elapsed time 30.99\n",
      "[IterativeImputer] Ending imputation round 3/10, elapsed time 46.57\n",
      "[IterativeImputer] Ending imputation round 4/10, elapsed time 62.15\n",
      "[IterativeImputer] Ending imputation round 5/10, elapsed time 77.81\n",
      "[IterativeImputer] Ending imputation round 6/10, elapsed time 93.30\n",
      "[IterativeImputer] Ending imputation round 7/10, elapsed time 108.80\n",
      "[IterativeImputer] Ending imputation round 8/10, elapsed time 124.39\n",
      "[IterativeImputer] Ending imputation round 9/10, elapsed time 139.93\n",
      "[IterativeImputer] Ending imputation round 10/10, elapsed time 155.50\n",
      "Imputation round 3\n",
      "[IterativeImputer] Completing matrix with shape (26070, 31)\n",
      "[IterativeImputer] Ending imputation round 1/10, elapsed time 15.71\n",
      "[IterativeImputer] Ending imputation round 2/10, elapsed time 31.40\n",
      "[IterativeImputer] Ending imputation round 3/10, elapsed time 46.99\n",
      "[IterativeImputer] Ending imputation round 4/10, elapsed time 62.59\n",
      "[IterativeImputer] Ending imputation round 5/10, elapsed time 78.41\n",
      "[IterativeImputer] Ending imputation round 6/10, elapsed time 94.45\n",
      "[IterativeImputer] Ending imputation round 7/10, elapsed time 109.91\n",
      "[IterativeImputer] Ending imputation round 8/10, elapsed time 125.63\n",
      "[IterativeImputer] Ending imputation round 9/10, elapsed time 141.43\n",
      "[IterativeImputer] Ending imputation round 10/10, elapsed time 156.95\n",
      "Imputation round 4\n",
      "[IterativeImputer] Completing matrix with shape (26070, 31)\n",
      "[IterativeImputer] Ending imputation round 1/10, elapsed time 15.72\n",
      "[IterativeImputer] Ending imputation round 2/10, elapsed time 31.31\n",
      "[IterativeImputer] Ending imputation round 3/10, elapsed time 46.78\n",
      "[IterativeImputer] Ending imputation round 4/10, elapsed time 62.21\n",
      "[IterativeImputer] Ending imputation round 5/10, elapsed time 77.77\n",
      "[IterativeImputer] Ending imputation round 6/10, elapsed time 93.37\n",
      "[IterativeImputer] Ending imputation round 7/10, elapsed time 109.19\n",
      "[IterativeImputer] Ending imputation round 8/10, elapsed time 124.59\n",
      "[IterativeImputer] Ending imputation round 9/10, elapsed time 140.56\n",
      "[IterativeImputer] Ending imputation round 10/10, elapsed time 156.27\n",
      "Imputation round 5\n",
      "[IterativeImputer] Completing matrix with shape (26070, 31)\n",
      "[IterativeImputer] Ending imputation round 1/10, elapsed time 15.70\n",
      "[IterativeImputer] Ending imputation round 2/10, elapsed time 31.81\n",
      "[IterativeImputer] Ending imputation round 3/10, elapsed time 47.25\n",
      "[IterativeImputer] Ending imputation round 4/10, elapsed time 62.96\n",
      "[IterativeImputer] Ending imputation round 5/10, elapsed time 78.88\n",
      "[IterativeImputer] Ending imputation round 6/10, elapsed time 94.52\n",
      "[IterativeImputer] Ending imputation round 7/10, elapsed time 110.21\n",
      "[IterativeImputer] Ending imputation round 8/10, elapsed time 125.96\n",
      "[IterativeImputer] Ending imputation round 9/10, elapsed time 141.51\n",
      "[IterativeImputer] Ending imputation round 10/10, elapsed time 157.31\n",
      "Imputation round 6\n",
      "[IterativeImputer] Completing matrix with shape (26070, 31)\n",
      "[IterativeImputer] Ending imputation round 1/10, elapsed time 15.93\n",
      "[IterativeImputer] Ending imputation round 2/10, elapsed time 31.86\n",
      "[IterativeImputer] Ending imputation round 3/10, elapsed time 47.48\n",
      "[IterativeImputer] Ending imputation round 4/10, elapsed time 63.08\n",
      "[IterativeImputer] Ending imputation round 5/10, elapsed time 78.63\n",
      "[IterativeImputer] Ending imputation round 6/10, elapsed time 94.18\n",
      "[IterativeImputer] Ending imputation round 7/10, elapsed time 109.70\n",
      "[IterativeImputer] Ending imputation round 8/10, elapsed time 125.26\n",
      "[IterativeImputer] Ending imputation round 9/10, elapsed time 140.75\n",
      "[IterativeImputer] Ending imputation round 10/10, elapsed time 156.62\n",
      "Imputation round 7\n",
      "[IterativeImputer] Completing matrix with shape (26070, 31)\n",
      "[IterativeImputer] Ending imputation round 1/10, elapsed time 16.24\n",
      "[IterativeImputer] Ending imputation round 2/10, elapsed time 31.90\n",
      "[IterativeImputer] Ending imputation round 3/10, elapsed time 47.29\n",
      "[IterativeImputer] Ending imputation round 4/10, elapsed time 62.89\n",
      "[IterativeImputer] Ending imputation round 5/10, elapsed time 78.62\n",
      "[IterativeImputer] Ending imputation round 6/10, elapsed time 94.12\n",
      "[IterativeImputer] Ending imputation round 7/10, elapsed time 109.75\n",
      "[IterativeImputer] Ending imputation round 8/10, elapsed time 125.60\n",
      "[IterativeImputer] Ending imputation round 9/10, elapsed time 141.18\n",
      "[IterativeImputer] Ending imputation round 10/10, elapsed time 156.70\n",
      "Imputation round 8\n",
      "[IterativeImputer] Completing matrix with shape (26070, 31)\n",
      "[IterativeImputer] Ending imputation round 1/10, elapsed time 15.77\n",
      "[IterativeImputer] Ending imputation round 2/10, elapsed time 32.02\n",
      "[IterativeImputer] Ending imputation round 3/10, elapsed time 47.96\n",
      "[IterativeImputer] Ending imputation round 4/10, elapsed time 63.69\n",
      "[IterativeImputer] Ending imputation round 5/10, elapsed time 79.37\n",
      "[IterativeImputer] Ending imputation round 6/10, elapsed time 95.11\n",
      "[IterativeImputer] Ending imputation round 7/10, elapsed time 110.96\n",
      "[IterativeImputer] Ending imputation round 8/10, elapsed time 126.41\n",
      "[IterativeImputer] Ending imputation round 9/10, elapsed time 142.17\n",
      "[IterativeImputer] Ending imputation round 10/10, elapsed time 157.77\n",
      "Imputation round 9\n",
      "[IterativeImputer] Completing matrix with shape (26070, 31)\n",
      "[IterativeImputer] Ending imputation round 1/10, elapsed time 15.93\n",
      "[IterativeImputer] Ending imputation round 2/10, elapsed time 31.62\n",
      "[IterativeImputer] Ending imputation round 3/10, elapsed time 47.52\n",
      "[IterativeImputer] Ending imputation round 4/10, elapsed time 63.69\n",
      "[IterativeImputer] Ending imputation round 5/10, elapsed time 79.35\n",
      "[IterativeImputer] Ending imputation round 6/10, elapsed time 94.92\n",
      "[IterativeImputer] Ending imputation round 7/10, elapsed time 110.61\n",
      "[IterativeImputer] Ending imputation round 8/10, elapsed time 126.21\n",
      "[IterativeImputer] Ending imputation round 9/10, elapsed time 142.04\n",
      "[IterativeImputer] Ending imputation round 10/10, elapsed time 157.97\n",
      "Imputation round 10\n",
      "[IterativeImputer] Completing matrix with shape (26070, 31)\n",
      "[IterativeImputer] Ending imputation round 1/10, elapsed time 15.64\n",
      "[IterativeImputer] Ending imputation round 2/10, elapsed time 31.33\n",
      "[IterativeImputer] Ending imputation round 3/10, elapsed time 46.94\n",
      "[IterativeImputer] Ending imputation round 4/10, elapsed time 62.54\n",
      "[IterativeImputer] Ending imputation round 5/10, elapsed time 78.25\n",
      "[IterativeImputer] Ending imputation round 6/10, elapsed time 93.95\n",
      "[IterativeImputer] Ending imputation round 7/10, elapsed time 109.66\n"
     ]
    },
    {
     "name": "stdout",
     "output_type": "stream",
     "text": [
      "[IterativeImputer] Ending imputation round 8/10, elapsed time 125.67\n",
      "[IterativeImputer] Ending imputation round 9/10, elapsed time 141.54\n",
      "[IterativeImputer] Ending imputation round 10/10, elapsed time 157.59\n",
      "Imputation round 11\n",
      "[IterativeImputer] Completing matrix with shape (26070, 31)\n",
      "[IterativeImputer] Ending imputation round 1/10, elapsed time 15.43\n",
      "[IterativeImputer] Ending imputation round 2/10, elapsed time 31.15\n",
      "[IterativeImputer] Ending imputation round 3/10, elapsed time 46.66\n",
      "[IterativeImputer] Ending imputation round 4/10, elapsed time 62.24\n",
      "[IterativeImputer] Ending imputation round 5/10, elapsed time 78.41\n",
      "[IterativeImputer] Ending imputation round 6/10, elapsed time 94.18\n",
      "[IterativeImputer] Ending imputation round 7/10, elapsed time 109.80\n",
      "[IterativeImputer] Ending imputation round 8/10, elapsed time 125.46\n",
      "[IterativeImputer] Ending imputation round 9/10, elapsed time 141.05\n",
      "[IterativeImputer] Ending imputation round 10/10, elapsed time 156.82\n"
     ]
    }
   ],
   "source": [
    "base = reset_base()\n",
    "train = reset_train()\n",
    "\n",
    "t0 = time.time()\n",
    "df = mice_imputer(train)\n",
    "t1 = time.time()\n",
    "\n",
    "t = t1-t0\n",
    "df.to_csv('additional_data/imputed_sets/mice.csv')"
   ]
  },
  {
   "cell_type": "code",
   "execution_count": 26,
   "id": "00759d2b",
   "metadata": {},
   "outputs": [
    {
     "name": "stdout",
     "output_type": "stream",
     "text": [
      "Mit dieser Methode bleiben 0 NaNs bestehen.\n",
      "\n",
      "17030 Werte wurden für die Metriken verwendet.\n",
      "r2: 0.9921502623704216, rmse: 0.17811645650204147\n"
     ]
    }
   ],
   "source": [
    "evaluate('MICE', df, t)"
   ]
  },
  {
   "cell_type": "markdown",
   "id": "5a1572e8",
   "metadata": {},
   "source": [
    "#### KNN Imputer"
   ]
  },
  {
   "cell_type": "code",
   "execution_count": 27,
   "id": "4a937a77",
   "metadata": {},
   "outputs": [],
   "source": [
    "def knn_imputer(df):\n",
    "    col = df.columns\n",
    "    idx = df.index\n",
    "    \n",
    "    knn_imp = KNNImputer(n_neighbors=2)\n",
    "    df= knn_imp.fit_transform(df)\n",
    "    df = pd.DataFrame(df, columns=col, index=idx)\n",
    "    return df"
   ]
  },
  {
   "cell_type": "code",
   "execution_count": 28,
   "id": "7e8eabb6",
   "metadata": {},
   "outputs": [
    {
     "name": "stdout",
     "output_type": "stream",
     "text": [
      "Mit dieser Methode bleiben 0 NaNs bestehen.\n",
      "\n",
      "17030 Werte wurden für die Metriken verwendet.\n",
      "r2: 0.40171197982598716, rmse: 1.555004425815101\n"
     ]
    }
   ],
   "source": [
    "base = reset_base()\n",
    "train = reset_train()\n",
    "\n",
    "t0 = time.time()\n",
    "df = knn_imputer(train)\n",
    "t1 = time.time()\n",
    "\n",
    "t = t1-t0\n",
    "\n",
    "df.to_csv('additional_data/imputed_sets/knn.csv')\n",
    "evaluate('KNN Imputer', df, t)"
   ]
  },
  {
   "cell_type": "markdown",
   "id": "10ee75aa",
   "metadata": {},
   "source": [
    "#### Results"
   ]
  },
  {
   "cell_type": "code",
   "execution_count": 29,
   "id": "541fc251",
   "metadata": {},
   "outputs": [],
   "source": [
    "results = pd.DataFrame(results, columns=['Methode', 'r2', 'RSME', 'Remaining NaNs', 'Time'])"
   ]
  },
  {
   "cell_type": "code",
   "execution_count": 30,
   "id": "87b3c9ee",
   "metadata": {},
   "outputs": [],
   "source": [
    "results = results.set_index('Methode')"
   ]
  },
  {
   "cell_type": "code",
   "execution_count": 31,
   "id": "784bb40e",
   "metadata": {},
   "outputs": [
    {
     "data": {
      "text/html": [
       "<div>\n",
       "<style scoped>\n",
       "    .dataframe tbody tr th:only-of-type {\n",
       "        vertical-align: middle;\n",
       "    }\n",
       "\n",
       "    .dataframe tbody tr th {\n",
       "        vertical-align: top;\n",
       "    }\n",
       "\n",
       "    .dataframe thead th {\n",
       "        text-align: right;\n",
       "    }\n",
       "</style>\n",
       "<table border=\"1\" class=\"dataframe\">\n",
       "  <thead>\n",
       "    <tr style=\"text-align: right;\">\n",
       "      <th></th>\n",
       "      <th>r2</th>\n",
       "      <th>RSME</th>\n",
       "      <th>Remaining NaNs</th>\n",
       "      <th>Time</th>\n",
       "    </tr>\n",
       "    <tr>\n",
       "      <th>Methode</th>\n",
       "      <th></th>\n",
       "      <th></th>\n",
       "      <th></th>\n",
       "      <th></th>\n",
       "    </tr>\n",
       "  </thead>\n",
       "  <tbody>\n",
       "    <tr>\n",
       "      <th>Backfill</th>\n",
       "      <td>-0.043801</td>\n",
       "      <td>2.089040</td>\n",
       "      <td>33605</td>\n",
       "      <td>0.015630</td>\n",
       "    </tr>\n",
       "    <tr>\n",
       "      <th>Overall Mean</th>\n",
       "      <td>-0.195304</td>\n",
       "      <td>2.197939</td>\n",
       "      <td>0</td>\n",
       "      <td>0.329283</td>\n",
       "    </tr>\n",
       "    <tr>\n",
       "      <th>Yearly Mean</th>\n",
       "      <td>0.013454</td>\n",
       "      <td>1.996978</td>\n",
       "      <td>52772</td>\n",
       "      <td>0.094148</td>\n",
       "    </tr>\n",
       "    <tr>\n",
       "      <th>Yearly Mean per Region</th>\n",
       "      <td>0.059906</td>\n",
       "      <td>1.956529</td>\n",
       "      <td>57448</td>\n",
       "      <td>0.235766</td>\n",
       "    </tr>\n",
       "    <tr>\n",
       "      <th>Interpolation 3</th>\n",
       "      <td>-0.043426</td>\n",
       "      <td>2.086989</td>\n",
       "      <td>33638</td>\n",
       "      <td>0.078087</td>\n",
       "    </tr>\n",
       "    <tr>\n",
       "      <th>Interpolation all</th>\n",
       "      <td>-0.043419</td>\n",
       "      <td>2.053734</td>\n",
       "      <td>61</td>\n",
       "      <td>0.062532</td>\n",
       "    </tr>\n",
       "    <tr>\n",
       "      <th>Iterative Imputer 1</th>\n",
       "      <td>0.965853</td>\n",
       "      <td>0.371497</td>\n",
       "      <td>0</td>\n",
       "      <td>9.853030</td>\n",
       "    </tr>\n",
       "    <tr>\n",
       "      <th>Iterative Imputer 2</th>\n",
       "      <td>0.945274</td>\n",
       "      <td>0.470299</td>\n",
       "      <td>0</td>\n",
       "      <td>21.751323</td>\n",
       "    </tr>\n",
       "    <tr>\n",
       "      <th>MICE</th>\n",
       "      <td>0.992150</td>\n",
       "      <td>0.178116</td>\n",
       "      <td>0</td>\n",
       "      <td>1886.645281</td>\n",
       "    </tr>\n",
       "    <tr>\n",
       "      <th>KNN Imputer</th>\n",
       "      <td>0.401712</td>\n",
       "      <td>1.555004</td>\n",
       "      <td>0</td>\n",
       "      <td>133.806959</td>\n",
       "    </tr>\n",
       "  </tbody>\n",
       "</table>\n",
       "</div>"
      ],
      "text/plain": [
       "                              r2      RSME  Remaining NaNs         Time\n",
       "Methode                                                                \n",
       "Backfill               -0.043801  2.089040           33605     0.015630\n",
       "Overall Mean           -0.195304  2.197939               0     0.329283\n",
       "Yearly Mean             0.013454  1.996978           52772     0.094148\n",
       "Yearly Mean per Region  0.059906  1.956529           57448     0.235766\n",
       "Interpolation 3        -0.043426  2.086989           33638     0.078087\n",
       "Interpolation all      -0.043419  2.053734              61     0.062532\n",
       "Iterative Imputer 1     0.965853  0.371497               0     9.853030\n",
       "Iterative Imputer 2     0.945274  0.470299               0    21.751323\n",
       "MICE                    0.992150  0.178116               0  1886.645281\n",
       "KNN Imputer             0.401712  1.555004               0   133.806959"
      ]
     },
     "execution_count": 31,
     "metadata": {},
     "output_type": "execute_result"
    }
   ],
   "source": [
    "results"
   ]
  }
 ],
 "metadata": {
  "kernelspec": {
   "display_name": "Python 3 (ipykernel)",
   "language": "python",
   "name": "python3"
  },
  "language_info": {
   "codemirror_mode": {
    "name": "ipython",
    "version": 3
   },
   "file_extension": ".py",
   "mimetype": "text/x-python",
   "name": "python",
   "nbconvert_exporter": "python",
   "pygments_lexer": "ipython3",
   "version": "3.9.7"
  }
 },
 "nbformat": 4,
 "nbformat_minor": 5
}
