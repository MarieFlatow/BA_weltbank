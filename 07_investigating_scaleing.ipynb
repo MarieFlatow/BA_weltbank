{
 "cells": [
  {
   "cell_type": "code",
   "execution_count": null,
   "id": "2ff5247e",
   "metadata": {},
   "outputs": [],
   "source": []
  },
  {
   "cell_type": "code",
   "execution_count": 1,
   "id": "eea25f14",
   "metadata": {},
   "outputs": [],
   "source": [
    "import pandas as pd\n",
    "import numpy as np\n",
    "import time\n",
    "\n",
    "import experiment\n",
    "from imputer import *"
   ]
  },
  {
   "cell_type": "code",
   "execution_count": 2,
   "id": "97ef405c",
   "metadata": {},
   "outputs": [],
   "source": [
    "t0 = time.time()\n",
    "results = []\n",
    "#base, scaler = experiment.reset_base(scaled=scaled, return_scaler=True)"
   ]
  },
  {
   "cell_type": "code",
   "execution_count": 3,
   "id": "569f078a",
   "metadata": {},
   "outputs": [],
   "source": [
    "functions =  {'Overall Mean':impute_overall_means, 'Yearly Mean':impute_yearly_means, 'Yearly Mean per Region':impute_yearly_means_per_region, \n",
    "              'Backfill':impute_backfill, 'Interpolate all':interpolate_all, \n",
    "              'MICE 1':mice_imputer, 'MICE 2':mice_imputer2, \n",
    "              'KNN 1':knn_imputer1, 'KNN 2':knn_imputer2\n",
    "             }"
   ]
  },
  {
   "cell_type": "code",
   "execution_count": null,
   "id": "2cc588a4",
   "metadata": {},
   "outputs": [
    {
     "name": "stdout",
     "output_type": "stream",
     "text": [
      "Overall Mean\n",
      "1.21s vergangen\n",
      "\n",
      "Yearly Mean\n",
      "0.76s vergangen\n",
      "\n",
      "Yearly Mean per Region\n",
      "1.02s vergangen\n",
      "\n",
      "Backfill\n",
      "0.55s vergangen\n",
      "\n",
      "Interpolate all\n",
      "3.15s vergangen\n",
      "\n",
      "MICE 1\n",
      "Imputation round 1/12\n",
      "[IterativeImputer] Completing matrix with shape (26070, 31)\n",
      "[IterativeImputer] Ending imputation round 1/10, elapsed time 33.57\n",
      "[IterativeImputer] Ending imputation round 2/10, elapsed time 71.14\n",
      "[IterativeImputer] Ending imputation round 3/10, elapsed time 108.71\n",
      "[IterativeImputer] Ending imputation round 4/10, elapsed time 141.88\n",
      "[IterativeImputer] Ending imputation round 5/10, elapsed time 175.22\n",
      "[IterativeImputer] Ending imputation round 6/10, elapsed time 208.67\n",
      "[IterativeImputer] Ending imputation round 7/10, elapsed time 241.92\n",
      "[IterativeImputer] Ending imputation round 8/10, elapsed time 275.60\n",
      "[IterativeImputer] Ending imputation round 9/10, elapsed time 308.76\n",
      "[IterativeImputer] Ending imputation round 10/10, elapsed time 341.97\n",
      "Imputation round 2/12\n",
      "[IterativeImputer] Completing matrix with shape (26070, 31)\n",
      "[IterativeImputer] Ending imputation round 1/10, elapsed time 33.46\n",
      "[IterativeImputer] Ending imputation round 2/10, elapsed time 66.35\n",
      "[IterativeImputer] Ending imputation round 3/10, elapsed time 108.52\n"
     ]
    }
   ],
   "source": [
    "scaled=True\n",
    "for name, func in functions.items():\n",
    "    print(name)\n",
    "    \n",
    "    #impute original (scaled) dataset\n",
    "    t0 = time.time()\n",
    "    base, scaler = experiment.reset_base(scaled=scaled, return_scaler=True)\n",
    "    df= func(base) \n",
    "    t1 = time.time()\n",
    "    t = t1-t0\n",
    "    \n",
    "    #rescale to original proportions\n",
    "    df = experiment.rescale(df, scaler)\n",
    "\n",
    "    print(f'{round(t, 2)}s vergangen')\n",
    "    print('')\n",
    "    df.to_csv(f'additional_data/imputed_sets/scaled/{name}.csv')"
   ]
  },
  {
   "cell_type": "code",
   "execution_count": null,
   "id": "5e84f4ca",
   "metadata": {},
   "outputs": [],
   "source": [
    "scaled=False\n",
    "for name, func in functions.items():\n",
    "    print(name)\n",
    "    \n",
    "    #impute original (scaled) dataset\n",
    "    t0 = time.time()\n",
    "    df= func(experiment.reset_base(scaled=scaled)) \n",
    "    t1 = time.time()\n",
    "    t = t1-t0\n",
    "\n",
    "    print(f'{round(t, 2)}s vergangen')\n",
    "    print('')\n",
    "    df.to_csv(f'additional_data/imputed_sets/unscaled/{name}.csv')"
   ]
  },
  {
   "cell_type": "code",
   "execution_count": null,
   "id": "b82c4398",
   "metadata": {},
   "outputs": [],
   "source": [
    "experiment.reset_base()"
   ]
  },
  {
   "cell_type": "code",
   "execution_count": null,
   "id": "fe02a76f",
   "metadata": {},
   "outputs": [],
   "source": []
  }
 ],
 "metadata": {
  "kernelspec": {
   "display_name": "Python 3 (ipykernel)",
   "language": "python",
   "name": "python3"
  },
  "language_info": {
   "codemirror_mode": {
    "name": "ipython",
    "version": 3
   },
   "file_extension": ".py",
   "mimetype": "text/x-python",
   "name": "python",
   "nbconvert_exporter": "python",
   "pygments_lexer": "ipython3",
   "version": "3.9.7"
  }
 },
 "nbformat": 4,
 "nbformat_minor": 5
}
