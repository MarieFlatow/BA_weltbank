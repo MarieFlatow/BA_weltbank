{
 "cells": [
  {
   "cell_type": "code",
   "execution_count": 1,
   "id": "34d15a61",
   "metadata": {},
   "outputs": [],
   "source": [
    "import pandas as pd\n",
    "import numpy as np\n",
    "import matplotlib.pyplot as plt\n",
    "import seaborn as sns"
   ]
  },
  {
   "cell_type": "code",
   "execution_count": 2,
   "id": "63bad984",
   "metadata": {},
   "outputs": [],
   "source": [
    "pd.set_option('display.float_format', lambda x: '%.4f' % x)\n",
    "\n",
    "base = pd.read_csv('additional_data/base.csv')\n",
    "\n",
    "backfill = pd.read_csv('additional_data/imputed_sets/backfill.csv')\n",
    "yearly_mean = pd.read_csv('additional_data/imputed_sets/Yearly Mean.csv')\n",
    "overall_mean = pd.read_csv('additional_data/imputed_sets/Overall Mean.csv')\n",
    "regional_mean = pd.read_csv('additional_data/imputed_sets/Yearly Mean per Region.csv')\n",
    "interpolation_all = pd.read_csv('additional_data/imputed_sets/Interpolate all.csv')\n",
    "interpolation_3 = pd.read_csv('additional_data/imputed_sets/Interpolate 3.csv')\n",
    "ice1 = pd.read_csv('additional_data/imputed_sets/ICE 1.csv')\n",
    "ice2 = pd.read_csv('additional_data/imputed_sets/ICE 2.csv')\n",
    "ice3 = pd.read_csv('additional_data/imputed_sets/ICE 3.csv')\n",
    "mice1 = pd.read_csv('additional_data/imputed_sets/MICE 1.csv')\n",
    "mice2 = pd.read_csv('additional_data/imputed_sets/MICE 2.csv')\n",
    "knn1 = pd.read_csv('additional_data/imputed_sets/KNN 1.csv')\n",
    "knn2 = pd.read_csv('additional_data/imputed_sets/KNN 2.csv')\n",
    "\n",
    "sets =  {'Backfill': backfill, 'Overall Mean':overall_mean, \n",
    "              'Yearly Mean':yearly_mean, 'Yearly Mean per Region':regional_mean, \n",
    "              'Interpolate 3':interpolation_3, 'Interpolate all':interpolation_all, \n",
    "              'ICE 1':ice1, 'ICE 2':ice2, \n",
    "              'ICE 3':ice3, 'MICE 1':mice1, 'MICE 2':mice2, \n",
    "              'KNN 1':knn1, 'KNN 2':knn2\n",
    "             }"
   ]
  },
  {
   "cell_type": "code",
   "execution_count": 3,
   "id": "30bd0ab2",
   "metadata": {},
   "outputs": [],
   "source": [
    "#get indicators with upper boundary 100\n",
    "bondary_hundred = pd.read_csv('additional_data/chosen_indicators.csv', sep=';')\n",
    "bondary_hundred.dropna(subset=['percentage'], inplace=True)\n",
    "bondary_hundred.drop('percentage', axis=1, inplace=True)\n",
    "\n",
    "#get indicators \n",
    "temp = base.drop('Country Name', axis=1).set_index('Indicator Name')\n",
    "bondary_zero = temp[temp < 0].dropna(how='all').index.unique()\n",
    "\n",
    "table = []\n",
    "for name, df in sets.items():\n",
    "    #count missing\n",
    "    temp = df.set_index(['Country Name', 'Indicator Name'])\n",
    "    missing = temp.isna().sum().sum()\n",
    "    \n",
    "    #count violations of boundary hundred\n",
    "    temp = temp.loc[temp.index.isin(bondary_hundred['indicators'], level='Indicator Name')]\n",
    "    implausible = (temp>100).sum().sum()\n",
    "    \n",
    "    #count violations of boundary zero\n",
    "    temp = df.set_index(['Country Name', 'Indicator Name'])\n",
    "    temp = temp.loc[~temp.index.isin(bondary_zero, level='Indicator Name')]\n",
    "    implausible = implausible + (temp<0).sum().sum()\n",
    "    \n",
    "    table.append([name, implausible, missing])"
   ]
  },
  {
   "cell_type": "code",
   "execution_count": 4,
   "id": "f9d512fd",
   "metadata": {},
   "outputs": [
    {
     "name": "stdout",
     "output_type": "stream",
     "text": [
      "\\begin{table}\n",
      "\\centering\n",
      "\\caption{Prozentwerte \\>100 für Indikatoren die diese nicht zulassen.}\n",
      "\\label{tab:logic}\n",
      "\\begin{tabular}{lrr}\n",
      "\\toprule\n",
      "{} &  logische Fehler &     NaN \\\\\n",
      "Datensatz              &                  &         \\\\\n",
      "\\midrule\n",
      "Backfill               &                0 &  135192 \\\\\n",
      "Overall Mean           &                0 &       0 \\\\\n",
      "Yearly Mean            &                0 &   52298 \\\\\n",
      "Yearly Mean per Region &                0 &   58134 \\\\\n",
      "Interpolate 3          &                0 &  134029 \\\\\n",
      "Interpolate all        &                0 &  112422 \\\\\n",
      "ICE 1                  &            60213 &       0 \\\\\n",
      "ICE 2                  &            70409 &       0 \\\\\n",
      "ICE 3                  &            31677 &       0 \\\\\n",
      "MICE 1                 &            64751 &       0 \\\\\n",
      "MICE 2                 &            28422 &       0 \\\\\n",
      "KNN 1                  &            18084 &       0 \\\\\n",
      "KNN 2                  &                0 &       0 \\\\\n",
      "\\bottomrule\n",
      "\\end{tabular}\n",
      "\\end{table}\n",
      "\n"
     ]
    },
    {
     "name": "stderr",
     "output_type": "stream",
     "text": [
      "C:\\Users\\mbfbr\\AppData\\Local\\Temp\\ipykernel_9304\\1400080369.py:3: FutureWarning: In future versions `DataFrame.to_latex` is expected to utilise the base implementation of `Styler.to_latex` for formatting and rendering. The arguments signature may therefore change. It is recommended instead to use `DataFrame.style.to_latex` which also contains additional functionality.\n",
      "  print(table.to_latex(label='tab:logic', caption='Prozentwerte \\>100 für Indikatoren die diese nicht zulassen.'))\n"
     ]
    }
   ],
   "source": [
    "table = pd.DataFrame(table, columns=['Datensatz', 'logische Fehler', 'NaN'])\n",
    "table = table.set_index('Datensatz')\n",
    "print(table.to_latex(label='tab:logic', caption='Prozentwerte \\>100 für Indikatoren die diese nicht zulassen.'))"
   ]
  }
 ],
 "metadata": {
  "kernelspec": {
   "display_name": "Python 3 (ipykernel)",
   "language": "python",
   "name": "python3"
  },
  "language_info": {
   "codemirror_mode": {
    "name": "ipython",
    "version": 3
   },
   "file_extension": ".py",
   "mimetype": "text/x-python",
   "name": "python",
   "nbconvert_exporter": "python",
   "pygments_lexer": "ipython3",
   "version": "3.9.7"
  }
 },
 "nbformat": 4,
 "nbformat_minor": 5
}
