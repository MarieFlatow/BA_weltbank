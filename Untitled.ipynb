{
 "cells": [
  {
   "cell_type": "code",
   "execution_count": null,
   "id": "a7958007",
   "metadata": {},
   "outputs": [],
   "source": []
  },
  {
   "cell_type": "code",
   "execution_count": 1,
   "id": "0e2c5cdf",
   "metadata": {},
   "outputs": [],
   "source": [
    "import pandas as pd\n",
    "import numpy as np\n",
    "\n",
    "import time\n",
    "\n",
    "import experiment"
   ]
  },
  {
   "cell_type": "code",
   "execution_count": null,
   "id": "9416a7d9",
   "metadata": {},
   "outputs": [],
   "source": [
    "\n"
   ]
  },
  {
   "cell_type": "code",
   "execution_count": 18,
   "id": "801aa39e",
   "metadata": {},
   "outputs": [],
   "source": [
    "\n",
    "\n",
    "def impute_backfill(df):\n",
    "    df = df.fillna(method='bfill', limit=3, axis=1)\n",
    "    return df\n",
    "\n",
    "def interpolate3(df):\n",
    "    df = df.interpolate(limit=3, axis=1)\n",
    "    return df\n",
    "\n",
    "def interpolate_all(df):\n",
    "    df = df.interpolate(axis=1)\n",
    "    return df\n"
   ]
  },
  {
   "cell_type": "code",
   "execution_count": 19,
   "id": "9b62adcd",
   "metadata": {},
   "outputs": [],
   "source": [
    "df= interpolate3(experiment.reset_base()) \n",
    "df.to_csv('additional_data/imputed_sets/Interpolate 3.csv')\n",
    "\n",
    "df= interpolate_all(experiment.reset_base()) \n",
    "df.to_csv('additional_data/imputed_sets/Interpolate all.csv')\n",
    "\n",
    "df=impute_backfill(experiment.reset_base())\n",
    "df.to_csv('additional_data/imputed_sets/backfill.csv')"
   ]
  }
 ],
 "metadata": {
  "kernelspec": {
   "display_name": "Python 3 (ipykernel)",
   "language": "python",
   "name": "python3"
  },
  "language_info": {
   "codemirror_mode": {
    "name": "ipython",
    "version": 3
   },
   "file_extension": ".py",
   "mimetype": "text/x-python",
   "name": "python",
   "nbconvert_exporter": "python",
   "pygments_lexer": "ipython3",
   "version": "3.9.7"
  }
 },
 "nbformat": 4,
 "nbformat_minor": 5
}
