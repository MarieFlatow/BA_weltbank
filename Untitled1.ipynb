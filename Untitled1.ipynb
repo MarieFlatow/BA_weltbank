{
 "cells": [
  {
   "cell_type": "code",
   "execution_count": null,
   "id": "2ff5247e",
   "metadata": {},
   "outputs": [],
   "source": []
  },
  {
   "cell_type": "code",
   "execution_count": 1,
   "id": "eea25f14",
   "metadata": {},
   "outputs": [],
   "source": [
    "import pandas as pd\n",
    "import numpy as np\n",
    "import time\n",
    "\n",
    "import experiment\n",
    "from imputer import *"
   ]
  },
  {
   "cell_type": "code",
   "execution_count": 2,
   "id": "97ef405c",
   "metadata": {},
   "outputs": [],
   "source": [
    "t0 = time.time()\n",
    "results = []\n",
    "#base, scaler = experiment.reset_base(scaled=scaled, return_scaler=True)"
   ]
  },
  {
   "cell_type": "code",
   "execution_count": 3,
   "id": "569f078a",
   "metadata": {},
   "outputs": [],
   "source": [
    "functions =  {'Backfill':impute_backfill, 'Overall Mean':impute_overall_means, \n",
    "              'Yearly Mean':impute_yearly_means, 'Yearly Mean per Region':impute_yearly_means_per_region, \n",
    "              'Interpolate 3':interpolate3, 'Interpolate all':interpolate_all, \n",
    "              'ICE 1':iterative_imputer1, 'ICE 2':iterative_imputer2, \n",
    "              'ICE 3':iterative_imputer3, 'MICE 1':mice_imputer, 'MICE 2':mice_imputer2, \n",
    "              'KNN 1':knn_imputer1, 'KNN 2':knn_imputer2\n",
    "             }"
   ]
  },
  {
   "cell_type": "code",
   "execution_count": 4,
   "id": "2cc588a4",
   "metadata": {},
   "outputs": [
    {
     "name": "stdout",
     "output_type": "stream",
     "text": [
      "Backfill\n",
      "0.28s vergangen\n",
      "\n",
      "Overall Mean\n",
      "0.54s vergangen\n",
      "\n",
      "Yearly Mean\n",
      "0.65s vergangen\n",
      "\n",
      "Yearly Mean per Region\n",
      "0.9s vergangen\n",
      "\n",
      "Interpolate 3\n",
      "4.34s vergangen\n",
      "\n",
      "Interpolate all\n",
      "2.68s vergangen\n",
      "\n",
      "ICE 1\n"
     ]
    },
    {
     "name": "stderr",
     "output_type": "stream",
     "text": [
      "C:\\Users\\mbfbr\\Anaconda3\\envs\\other\\lib\\site-packages\\sklearn\\impute\\_iterative.py:699: ConvergenceWarning: [IterativeImputer] Early stopping criterion not reached.\n",
      "  warnings.warn(\n"
     ]
    },
    {
     "name": "stdout",
     "output_type": "stream",
     "text": [
      "24.16s vergangen\n",
      "\n",
      "ICE 2\n"
     ]
    },
    {
     "name": "stderr",
     "output_type": "stream",
     "text": [
      "C:\\Users\\mbfbr\\Anaconda3\\envs\\other\\lib\\site-packages\\sklearn\\impute\\_iterative.py:699: ConvergenceWarning: [IterativeImputer] Early stopping criterion not reached.\n",
      "  warnings.warn(\n"
     ]
    },
    {
     "name": "stdout",
     "output_type": "stream",
     "text": [
      "156.25s vergangen\n",
      "\n",
      "ICE 3\n",
      "[IterativeImputer] Completing matrix with shape (4898, 165)\n",
      "[IterativeImputer] Change: 98.86652185330078, scaled tolerance: 0.11370298835951696 \n",
      "[IterativeImputer] Change: 300.9493772577325, scaled tolerance: 0.11370298835951696 \n",
      "[IterativeImputer] Change: 335.04253322492417, scaled tolerance: 0.11370298835951696 \n",
      "[IterativeImputer] Change: 85.6415122074729, scaled tolerance: 0.11370298835951696 \n",
      "[IterativeImputer] Change: 1316.7226260939465, scaled tolerance: 0.11370298835951696 \n",
      "[IterativeImputer] Change: 860.0061981528896, scaled tolerance: 0.11370298835951696 \n",
      "[IterativeImputer] Change: 592.0183638884866, scaled tolerance: 0.11370298835951696 \n",
      "[IterativeImputer] Change: 1691.1205774770988, scaled tolerance: 0.11370298835951696 \n",
      "[IterativeImputer] Change: 1690.5529501739277, scaled tolerance: 0.11370298835951696 \n",
      "[IterativeImputer] Change: 641.0668034129908, scaled tolerance: 0.11370298835951696 \n",
      "148.08s vergangen\n",
      "\n"
     ]
    },
    {
     "name": "stderr",
     "output_type": "stream",
     "text": [
      "C:\\Users\\mbfbr\\Anaconda3\\envs\\other\\lib\\site-packages\\sklearn\\impute\\_iterative.py:699: ConvergenceWarning: [IterativeImputer] Early stopping criterion not reached.\n",
      "  warnings.warn(\n"
     ]
    },
    {
     "name": "stdout",
     "output_type": "stream",
     "text": [
      "MICE 1\n",
      "Imputation round 1/12\n",
      "[IterativeImputer] Completing matrix with shape (26070, 31)\n",
      "[IterativeImputer] Ending imputation round 1/10, elapsed time 32.49\n",
      "[IterativeImputer] Ending imputation round 2/10, elapsed time 65.15\n",
      "[IterativeImputer] Ending imputation round 3/10, elapsed time 97.32\n",
      "[IterativeImputer] Ending imputation round 4/10, elapsed time 129.77\n",
      "[IterativeImputer] Ending imputation round 5/10, elapsed time 162.26\n",
      "[IterativeImputer] Ending imputation round 6/10, elapsed time 194.87\n",
      "[IterativeImputer] Ending imputation round 7/10, elapsed time 227.44\n",
      "[IterativeImputer] Ending imputation round 8/10, elapsed time 260.02\n",
      "[IterativeImputer] Ending imputation round 9/10, elapsed time 292.56\n"
     ]
    },
    {
     "ename": "KeyboardInterrupt",
     "evalue": "",
     "output_type": "error",
     "traceback": [
      "\u001b[1;31m---------------------------------------------------------------------------\u001b[0m",
      "\u001b[1;31mKeyboardInterrupt\u001b[0m                         Traceback (most recent call last)",
      "Input \u001b[1;32mIn [4]\u001b[0m, in \u001b[0;36m<cell line: 2>\u001b[1;34m()\u001b[0m\n\u001b[0;32m      6\u001b[0m t0 \u001b[38;5;241m=\u001b[39m time\u001b[38;5;241m.\u001b[39mtime()\n\u001b[0;32m      7\u001b[0m base, scaler \u001b[38;5;241m=\u001b[39m experiment\u001b[38;5;241m.\u001b[39mreset_base(scaled\u001b[38;5;241m=\u001b[39mscaled, return_scaler\u001b[38;5;241m=\u001b[39m\u001b[38;5;28;01mTrue\u001b[39;00m)\n\u001b[1;32m----> 8\u001b[0m df\u001b[38;5;241m=\u001b[39m \u001b[43mfunc\u001b[49m\u001b[43m(\u001b[49m\u001b[43mbase\u001b[49m\u001b[43m)\u001b[49m \n\u001b[0;32m      9\u001b[0m t1 \u001b[38;5;241m=\u001b[39m time\u001b[38;5;241m.\u001b[39mtime()\n\u001b[0;32m     10\u001b[0m t \u001b[38;5;241m=\u001b[39m t1\u001b[38;5;241m-\u001b[39mt0\n",
      "File \u001b[1;32m~\\Documents\\01_Meine_Dokumente\\Uni\\BA\\BA_weltbank\\imputer.py:112\u001b[0m, in \u001b[0;36mmice_imputer\u001b[1;34m(df, verbose)\u001b[0m\n\u001b[0;32m    110\u001b[0m     \u001b[38;5;28mprint\u001b[39m(\u001b[38;5;124mf\u001b[39m\u001b[38;5;124m'\u001b[39m\u001b[38;5;124mImputation round \u001b[39m\u001b[38;5;132;01m{\u001b[39;00mi\u001b[38;5;241m+\u001b[39m\u001b[38;5;241m1\u001b[39m\u001b[38;5;132;01m}\u001b[39;00m\u001b[38;5;124m/\u001b[39m\u001b[38;5;132;01m{\u001b[39;00mn_imputations\u001b[38;5;132;01m}\u001b[39;00m\u001b[38;5;124m'\u001b[39m)\n\u001b[0;32m    111\u001b[0m     iter_imp \u001b[38;5;241m=\u001b[39m IterativeImputer(random_state\u001b[38;5;241m=\u001b[39mi, sample_posterior\u001b[38;5;241m=\u001b[39m\u001b[38;5;28;01mTrue\u001b[39;00m, verbose\u001b[38;5;241m=\u001b[39mverbose)\n\u001b[1;32m--> 112\u001b[0m     df_temp \u001b[38;5;241m=\u001b[39m \u001b[43miter_imp\u001b[49m\u001b[38;5;241;43m.\u001b[39;49m\u001b[43mfit_transform\u001b[49m\u001b[43m(\u001b[49m\u001b[43mdf\u001b[49m\u001b[43m)\u001b[49m\n\u001b[0;32m    113\u001b[0m     dfs\u001b[38;5;241m.\u001b[39mappend(df_temp)\n\u001b[0;32m    115\u001b[0m df \u001b[38;5;241m=\u001b[39m np\u001b[38;5;241m.\u001b[39mmean(np\u001b[38;5;241m.\u001b[39marray(dfs), axis\u001b[38;5;241m=\u001b[39m\u001b[38;5;241m0\u001b[39m)\n",
      "File \u001b[1;32m~\\Anaconda3\\envs\\other\\lib\\site-packages\\sklearn\\impute\\_iterative.py:664\u001b[0m, in \u001b[0;36mIterativeImputer.fit_transform\u001b[1;34m(self, X, y)\u001b[0m\n\u001b[0;32m    660\u001b[0m \u001b[38;5;28;01mfor\u001b[39;00m feat_idx \u001b[38;5;129;01min\u001b[39;00m ordered_idx:\n\u001b[0;32m    661\u001b[0m     neighbor_feat_idx \u001b[38;5;241m=\u001b[39m \u001b[38;5;28mself\u001b[39m\u001b[38;5;241m.\u001b[39m_get_neighbor_feat_idx(\n\u001b[0;32m    662\u001b[0m         n_features, feat_idx, abs_corr_mat\n\u001b[0;32m    663\u001b[0m     )\n\u001b[1;32m--> 664\u001b[0m     Xt, estimator \u001b[38;5;241m=\u001b[39m \u001b[38;5;28;43mself\u001b[39;49m\u001b[38;5;241;43m.\u001b[39;49m\u001b[43m_impute_one_feature\u001b[49m\u001b[43m(\u001b[49m\n\u001b[0;32m    665\u001b[0m \u001b[43m        \u001b[49m\u001b[43mXt\u001b[49m\u001b[43m,\u001b[49m\n\u001b[0;32m    666\u001b[0m \u001b[43m        \u001b[49m\u001b[43mmask_missing_values\u001b[49m\u001b[43m,\u001b[49m\n\u001b[0;32m    667\u001b[0m \u001b[43m        \u001b[49m\u001b[43mfeat_idx\u001b[49m\u001b[43m,\u001b[49m\n\u001b[0;32m    668\u001b[0m \u001b[43m        \u001b[49m\u001b[43mneighbor_feat_idx\u001b[49m\u001b[43m,\u001b[49m\n\u001b[0;32m    669\u001b[0m \u001b[43m        \u001b[49m\u001b[43mestimator\u001b[49m\u001b[38;5;241;43m=\u001b[39;49m\u001b[38;5;28;43;01mNone\u001b[39;49;00m\u001b[43m,\u001b[49m\n\u001b[0;32m    670\u001b[0m \u001b[43m        \u001b[49m\u001b[43mfit_mode\u001b[49m\u001b[38;5;241;43m=\u001b[39;49m\u001b[38;5;28;43;01mTrue\u001b[39;49;00m\u001b[43m,\u001b[49m\n\u001b[0;32m    671\u001b[0m \u001b[43m    \u001b[49m\u001b[43m)\u001b[49m\n\u001b[0;32m    672\u001b[0m     estimator_triplet \u001b[38;5;241m=\u001b[39m _ImputerTriplet(\n\u001b[0;32m    673\u001b[0m         feat_idx, neighbor_feat_idx, estimator\n\u001b[0;32m    674\u001b[0m     )\n\u001b[0;32m    675\u001b[0m     \u001b[38;5;28mself\u001b[39m\u001b[38;5;241m.\u001b[39mimputation_sequence_\u001b[38;5;241m.\u001b[39mappend(estimator_triplet)\n",
      "File \u001b[1;32m~\\Anaconda3\\envs\\other\\lib\\site-packages\\sklearn\\impute\\_iterative.py:345\u001b[0m, in \u001b[0;36mIterativeImputer._impute_one_feature\u001b[1;34m(self, X_filled, mask_missing_values, feat_idx, neighbor_feat_idx, estimator, fit_mode)\u001b[0m\n\u001b[0;32m    342\u001b[0m     b \u001b[38;5;241m=\u001b[39m (\u001b[38;5;28mself\u001b[39m\u001b[38;5;241m.\u001b[39m_max_value[feat_idx] \u001b[38;5;241m-\u001b[39m mus) \u001b[38;5;241m/\u001b[39m sigmas\n\u001b[0;32m    344\u001b[0m     truncated_normal \u001b[38;5;241m=\u001b[39m stats\u001b[38;5;241m.\u001b[39mtruncnorm(a\u001b[38;5;241m=\u001b[39ma, b\u001b[38;5;241m=\u001b[39mb, loc\u001b[38;5;241m=\u001b[39mmus, scale\u001b[38;5;241m=\u001b[39msigmas)\n\u001b[1;32m--> 345\u001b[0m     imputed_values[inrange_mask] \u001b[38;5;241m=\u001b[39m \u001b[43mtruncated_normal\u001b[49m\u001b[38;5;241;43m.\u001b[39;49m\u001b[43mrvs\u001b[49m\u001b[43m(\u001b[49m\n\u001b[0;32m    346\u001b[0m \u001b[43m        \u001b[49m\u001b[43mrandom_state\u001b[49m\u001b[38;5;241;43m=\u001b[39;49m\u001b[38;5;28;43mself\u001b[39;49m\u001b[38;5;241;43m.\u001b[39;49m\u001b[43mrandom_state_\u001b[49m\n\u001b[0;32m    347\u001b[0m \u001b[43m    \u001b[49m\u001b[43m)\u001b[49m\n\u001b[0;32m    348\u001b[0m \u001b[38;5;28;01melse\u001b[39;00m:\n\u001b[0;32m    349\u001b[0m     imputed_values \u001b[38;5;241m=\u001b[39m estimator\u001b[38;5;241m.\u001b[39mpredict(X_test)\n",
      "File \u001b[1;32m~\\Anaconda3\\envs\\other\\lib\\site-packages\\scipy\\stats\\_distn_infrastructure.py:473\u001b[0m, in \u001b[0;36mrv_frozen.rvs\u001b[1;34m(self, size, random_state)\u001b[0m\n\u001b[0;32m    471\u001b[0m kwds \u001b[38;5;241m=\u001b[39m \u001b[38;5;28mself\u001b[39m\u001b[38;5;241m.\u001b[39mkwds\u001b[38;5;241m.\u001b[39mcopy()\n\u001b[0;32m    472\u001b[0m kwds\u001b[38;5;241m.\u001b[39mupdate({\u001b[38;5;124m'\u001b[39m\u001b[38;5;124msize\u001b[39m\u001b[38;5;124m'\u001b[39m: size, \u001b[38;5;124m'\u001b[39m\u001b[38;5;124mrandom_state\u001b[39m\u001b[38;5;124m'\u001b[39m: random_state})\n\u001b[1;32m--> 473\u001b[0m \u001b[38;5;28;01mreturn\u001b[39;00m \u001b[38;5;28mself\u001b[39m\u001b[38;5;241m.\u001b[39mdist\u001b[38;5;241m.\u001b[39mrvs(\u001b[38;5;241m*\u001b[39m\u001b[38;5;28mself\u001b[39m\u001b[38;5;241m.\u001b[39margs, \u001b[38;5;241m*\u001b[39m\u001b[38;5;241m*\u001b[39mkwds)\n",
      "File \u001b[1;32m~\\Anaconda3\\envs\\other\\lib\\site-packages\\scipy\\stats\\_distn_infrastructure.py:1092\u001b[0m, in \u001b[0;36mrv_generic.rvs\u001b[1;34m(self, *args, **kwds)\u001b[0m\n\u001b[0;32m   1090\u001b[0m     vals \u001b[38;5;241m=\u001b[39m \u001b[38;5;28mself\u001b[39m\u001b[38;5;241m.\u001b[39m_rvs(\u001b[38;5;241m*\u001b[39margs)\n\u001b[0;32m   1091\u001b[0m \u001b[38;5;28;01melse\u001b[39;00m:\n\u001b[1;32m-> 1092\u001b[0m     vals \u001b[38;5;241m=\u001b[39m \u001b[38;5;28;43mself\u001b[39;49m\u001b[38;5;241;43m.\u001b[39;49m\u001b[43m_rvs\u001b[49m\u001b[43m(\u001b[49m\u001b[38;5;241;43m*\u001b[39;49m\u001b[43margs\u001b[49m\u001b[43m,\u001b[49m\u001b[43m \u001b[49m\u001b[43msize\u001b[49m\u001b[38;5;241;43m=\u001b[39;49m\u001b[43msize\u001b[49m\u001b[43m,\u001b[49m\u001b[43m \u001b[49m\u001b[43mrandom_state\u001b[49m\u001b[38;5;241;43m=\u001b[39;49m\u001b[43mrandom_state\u001b[49m\u001b[43m)\u001b[49m\n\u001b[0;32m   1094\u001b[0m vals \u001b[38;5;241m=\u001b[39m vals \u001b[38;5;241m*\u001b[39m scale \u001b[38;5;241m+\u001b[39m loc\n\u001b[0;32m   1096\u001b[0m \u001b[38;5;66;03m# do not forget to restore the _random_state\u001b[39;00m\n",
      "File \u001b[1;32m~\\Anaconda3\\envs\\other\\lib\\site-packages\\scipy\\stats\\_continuous_distns.py:8299\u001b[0m, in \u001b[0;36mtruncnorm_gen._rvs\u001b[1;34m(self, a, b, size, random_state)\u001b[0m\n\u001b[0;32m   8287\u001b[0m     \u001b[38;5;28;01mwhile\u001b[39;00m \u001b[38;5;129;01mnot\u001b[39;00m it\u001b[38;5;241m.\u001b[39mfinished:\n\u001b[0;32m   8288\u001b[0m         \u001b[38;5;66;03m# Convert the iterator's multi_index into an index into the\u001b[39;00m\n\u001b[0;32m   8289\u001b[0m         \u001b[38;5;66;03m# `out` array where the call to _rvs_scalar() will be stored.\u001b[39;00m\n\u001b[1;32m   (...)\u001b[0m\n\u001b[0;32m   8295\u001b[0m         \u001b[38;5;66;03m# bc[j] will be True in those cases where it.multi_index[j]\u001b[39;00m\n\u001b[0;32m   8296\u001b[0m         \u001b[38;5;66;03m# would cause an IndexError.\u001b[39;00m\n\u001b[0;32m   8297\u001b[0m         idx \u001b[38;5;241m=\u001b[39m \u001b[38;5;28mtuple\u001b[39m((it\u001b[38;5;241m.\u001b[39mmulti_index[j] \u001b[38;5;28;01mif\u001b[39;00m \u001b[38;5;129;01mnot\u001b[39;00m bc[j] \u001b[38;5;28;01melse\u001b[39;00m \u001b[38;5;28mslice\u001b[39m(\u001b[38;5;28;01mNone\u001b[39;00m))\n\u001b[0;32m   8298\u001b[0m                     \u001b[38;5;28;01mfor\u001b[39;00m j \u001b[38;5;129;01min\u001b[39;00m \u001b[38;5;28mrange\u001b[39m(\u001b[38;5;241m-\u001b[39m\u001b[38;5;28mlen\u001b[39m(size), \u001b[38;5;241m0\u001b[39m))\n\u001b[1;32m-> 8299\u001b[0m         out[idx] \u001b[38;5;241m=\u001b[39m \u001b[38;5;28;43mself\u001b[39;49m\u001b[38;5;241;43m.\u001b[39;49m\u001b[43m_rvs_scalar\u001b[49m\u001b[43m(\u001b[49m\u001b[43mit\u001b[49m\u001b[43m[\u001b[49m\u001b[38;5;241;43m0\u001b[39;49m\u001b[43m]\u001b[49m\u001b[43m,\u001b[49m\u001b[43m \u001b[49m\u001b[43mit\u001b[49m\u001b[43m[\u001b[49m\u001b[38;5;241;43m1\u001b[39;49m\u001b[43m]\u001b[49m\u001b[43m,\u001b[49m\u001b[43m \u001b[49m\u001b[43mnumsamples\u001b[49m\u001b[43m,\u001b[49m\n\u001b[0;32m   8300\u001b[0m \u001b[43m                                    \u001b[49m\u001b[43mrandom_state\u001b[49m\u001b[43m)\u001b[49m\u001b[38;5;241m.\u001b[39mreshape(shp)\n\u001b[0;32m   8301\u001b[0m         it\u001b[38;5;241m.\u001b[39miternext()\n\u001b[0;32m   8303\u001b[0m \u001b[38;5;28;01mif\u001b[39;00m size \u001b[38;5;241m==\u001b[39m ():\n",
      "File \u001b[1;32m~\\Anaconda3\\envs\\other\\lib\\site-packages\\scipy\\stats\\_continuous_distns.py:8316\u001b[0m, in \u001b[0;36mtruncnorm_gen._rvs_scalar\u001b[1;34m(self, a, b, numsamples, random_state)\u001b[0m\n\u001b[0;32m   8314\u001b[0m \u001b[38;5;66;03m# Calculate some rvs\u001b[39;00m\n\u001b[0;32m   8315\u001b[0m U \u001b[38;5;241m=\u001b[39m random_state\u001b[38;5;241m.\u001b[39muniform(low\u001b[38;5;241m=\u001b[39m\u001b[38;5;241m0\u001b[39m, high\u001b[38;5;241m=\u001b[39m\u001b[38;5;241m1\u001b[39m, size\u001b[38;5;241m=\u001b[39mN)\n\u001b[1;32m-> 8316\u001b[0m x \u001b[38;5;241m=\u001b[39m \u001b[38;5;28;43mself\u001b[39;49m\u001b[38;5;241;43m.\u001b[39;49m\u001b[43m_ppf\u001b[49m\u001b[43m(\u001b[49m\u001b[43mU\u001b[49m\u001b[43m,\u001b[49m\u001b[43m \u001b[49m\u001b[43ma\u001b[49m\u001b[43m,\u001b[49m\u001b[43m \u001b[49m\u001b[43mb\u001b[49m\u001b[43m)\u001b[49m\n\u001b[0;32m   8317\u001b[0m rvs \u001b[38;5;241m=\u001b[39m np\u001b[38;5;241m.\u001b[39mreshape(x, size1d)\n\u001b[0;32m   8318\u001b[0m \u001b[38;5;28;01mreturn\u001b[39;00m rvs\n",
      "File \u001b[1;32m~\\Anaconda3\\envs\\other\\lib\\site-packages\\scipy\\stats\\_continuous_distns.py:8185\u001b[0m, in \u001b[0;36mtruncnorm_gen._ppf\u001b[1;34m(self, q, a, b)\u001b[0m\n\u001b[0;32m   8182\u001b[0m         _p[\u001b[38;5;241m.\u001b[39m\u001b[38;5;241m.\u001b[39m\u001b[38;5;241m.\u001b[39m] \u001b[38;5;241m=\u001b[39m _truncnorm_logsf_scalar(_x, _a, _b)\n\u001b[0;32m   8183\u001b[0m     \u001b[38;5;28;01mreturn\u001b[39;00m it\u001b[38;5;241m.\u001b[39moperands[\u001b[38;5;241m3\u001b[39m]\n\u001b[1;32m-> 8185\u001b[0m \u001b[38;5;28;01mdef\u001b[39;00m \u001b[38;5;21m_ppf\u001b[39m(\u001b[38;5;28mself\u001b[39m, q, a, b):\n\u001b[0;32m   8186\u001b[0m     \u001b[38;5;28;01mif\u001b[39;00m np\u001b[38;5;241m.\u001b[39misscalar(a) \u001b[38;5;129;01mand\u001b[39;00m np\u001b[38;5;241m.\u001b[39misscalar(b):\n\u001b[0;32m   8187\u001b[0m         \u001b[38;5;28;01mreturn\u001b[39;00m _truncnorm_ppf_scalar(q, a, b)\n",
      "\u001b[1;31mKeyboardInterrupt\u001b[0m: "
     ]
    }
   ],
   "source": [
    "scaled=True\n",
    "for name, func in functions.items():\n",
    "    print(name)\n",
    "    \n",
    "    #impute original (scaled) dataset\n",
    "    t0 = time.time()\n",
    "    base, scaler = experiment.reset_base(scaled=scaled, return_scaler=True)\n",
    "    df= func(base) \n",
    "    t1 = time.time()\n",
    "    t = t1-t0\n",
    "    \n",
    "    #rescale to original proportions\n",
    "    col = df.columns\n",
    "    idx = df.index\n",
    "    df = scaler.inverse_transform(df)\n",
    "    df = pd.DataFrame(df, columns=col, index=idx)\n",
    "\n",
    "    print(f'{round(t, 2)}s vergangen')\n",
    "    print('')\n",
    "    df.to_csv(f'additional_data/imputed_sets/scaled/{name}.csv')"
   ]
  },
  {
   "cell_type": "code",
   "execution_count": null,
   "id": "5e84f4ca",
   "metadata": {},
   "outputs": [],
   "source": [
    "scaled=False\n",
    "for name, func in functions.items():\n",
    "    print(name)\n",
    "    \n",
    "    #impute original (scaled) dataset\n",
    "    t0 = time.time()\n",
    "    df= func(experiment.reset_base(scaled=scaled)) \n",
    "    t1 = time.time()\n",
    "    t = t1-t0\n",
    "\n",
    "    print(f'{round(t, 2)}s vergangen')\n",
    "    print('')\n",
    "    df.to_csv(f'additional_data/imputed_sets/unscaled/{name}.csv')"
   ]
  },
  {
   "cell_type": "code",
   "execution_count": null,
   "id": "b82c4398",
   "metadata": {},
   "outputs": [],
   "source": []
  },
  {
   "cell_type": "code",
   "execution_count": null,
   "id": "fe02a76f",
   "metadata": {},
   "outputs": [],
   "source": []
  }
 ],
 "metadata": {
  "kernelspec": {
   "display_name": "Python 3 (ipykernel)",
   "language": "python",
   "name": "python3"
  },
  "language_info": {
   "codemirror_mode": {
    "name": "ipython",
    "version": 3
   },
   "file_extension": ".py",
   "mimetype": "text/x-python",
   "name": "python",
   "nbconvert_exporter": "python",
   "pygments_lexer": "ipython3",
   "version": "3.9.7"
  }
 },
 "nbformat": 4,
 "nbformat_minor": 5
}
