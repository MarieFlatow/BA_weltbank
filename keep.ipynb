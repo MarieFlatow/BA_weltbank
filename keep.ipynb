{
 "cells": [
  {
   "cell_type": "code",
   "execution_count": null,
   "id": "d6005fd2",
   "metadata": {},
   "outputs": [],
   "source": [
    "rs = pd.DataFrame({'3,0%': sets['r1_detail'].r2, '5,0%':sets['r2_detail'].r2, '10,0%': sets['r3_detail'].r2},\n",
    "                 index = sets['r1_detail'].r2.index)\n",
    "rs = rs.reset_index()\n",
    "\n",
    "rs2 = pd.DataFrame({'5,0%':sets['r2_detail'].r2, '10,0%': sets['r3_detail'].r2},\n",
    "                 index = sets['r1_detail'].r2.index)\n",
    "rs2 = rs.reset_index()\n",
    "rs2.drop(['index', '3,0%'], axis=1, inplace=True)\n",
    "\n",
    "\n",
    "d1 = pd.DataFrame(rs.drop('run', axis=1).set_index('method').stack())\n",
    "d1 = d1.reset_index()\n",
    "d1.columns = ['Methode', 'entfernte Werte', 'r2']\n",
    "\n",
    "d2 = pd.DataFrame(rs2.drop('run', axis=1).set_index('method').stack())\n",
    "d2 = d2.reset_index()\n",
    "d2.columns = ['Methode', 'entfernte Werte', 'r2']\n",
    "\n",
    "\n",
    "\n",
    "sns.set_style(\"darkgrid\")\n",
    "#sns.set_palette(\"Set1\")\n",
    "sns.set_palette(\"tab10\")\n",
    "\n",
    "fig, (ax1, ax2) = plt.subplots(figsize =(12, 8), nrows=2)\n",
    "sns.stripplot(data=d1, x='Methode', y='r2', hue='entfernte Werte', palette=[\"C0\", \"C1\", \"C2\", ], ax=ax1)\n",
    "sns.stripplot(data=d2, x='Methode', y='r2', hue='entfernte Werte', palette=[\"C1\", \"C2\"], ax=ax2)\n",
    "\n",
    "ax1.set_title('R2 Werte verschiedener eingefügter Datensätze')\n",
    "ax1.tick_params(axis='x', rotation=30)\n",
    "ax1.set_xlabel('')\n",
    "\n",
    "ax2.set_title('R2 Werte verschiedener eingefügter Datensätze')\n",
    "ax2.tick_params(axis='x', rotation=30)\n",
    "ax2.set_xlabel('')\n",
    "\n",
    "plt.tight_layout()\n",
    "\n",
    "plt.savefig('figures/results/r2')"
   ]
  }
 ],
 "metadata": {
  "kernelspec": {
   "display_name": "Python 3 (ipykernel)",
   "language": "python",
   "name": "python3"
  },
  "language_info": {
   "codemirror_mode": {
    "name": "ipython",
    "version": 3
   },
   "file_extension": ".py",
   "mimetype": "text/x-python",
   "name": "python",
   "nbconvert_exporter": "python",
   "pygments_lexer": "ipython3",
   "version": "3.9.7"
  }
 },
 "nbformat": 4,
 "nbformat_minor": 5
}
