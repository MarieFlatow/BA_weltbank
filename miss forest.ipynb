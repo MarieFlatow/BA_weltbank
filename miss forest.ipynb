{
 "cells": [
  {
   "cell_type": "code",
   "execution_count": 4,
   "id": "7eff3843",
   "metadata": {},
   "outputs": [],
   "source": [
    "import pandas as pd\n",
    "import numpy as np\n",
    "import time\n",
    "\n",
    "import experiment\n",
    "from imputer import *\n",
    "\n",
    "import sklearn.neighbors._base\n",
    "import sys\n",
    "sys.modules['sklearn.neighbors.base'] = sklearn.neighbors._base\n",
    "import missingpy"
   ]
  },
  {
   "cell_type": "code",
   "execution_count": null,
   "id": "d451f885",
   "metadata": {},
   "outputs": [],
   "source": [
    "results = []\n",
    "base, scaler = experiment.reset_base(return_scaler=True)\n",
    "\n",
    "cords_list =[]\n",
    "n = 7\n",
    "for i in np.arange(1,n+1):\n",
    "    cords_list.append(experiment.get_cords(frac, i))\n",
    "    \n",
    "#setting up two dictionaries to save detailed and averaged results\n",
    "detailed_results = {}   \n",
    "results = {}\n",
    "         \n",
    "for count, cords in enumerate(cords_list):            \n",
    "8\n",
    "        \n",
    "#print evaluation result of all runs of current imputer\n",
    "print(func_runs)\n",
    "print ('')\n",
    "        \n",
    "#save detailed and averaged results\n",
    "detailed_results[name] = func_runs\n",
    "results[name] = np.mean(np.array(func_runs), axis=0)\n"
   ]
  },
  {
   "cell_type": "code",
   "execution_count": null,
   "id": "eb8c4e0f",
   "metadata": {},
   "outputs": [],
   "source": [
    "imputer = missingpy.MissForest() #miss forest\n",
    "X_imputed = imputer.fit_transform(df2)\n",
    "X_imputed = pd.DataFrame(X_imputed, columns = df2.columns)"
   ]
  }
 ],
 "metadata": {
  "kernelspec": {
   "display_name": "Python 3 (ipykernel)",
   "language": "python",
   "name": "python3"
  },
  "language_info": {
   "codemirror_mode": {
    "name": "ipython",
    "version": 3
   },
   "file_extension": ".py",
   "mimetype": "text/x-python",
   "name": "python",
   "nbconvert_exporter": "python",
   "pygments_lexer": "ipython3",
   "version": "3.9.7"
  }
 },
 "nbformat": 4,
 "nbformat_minor": 5
}
