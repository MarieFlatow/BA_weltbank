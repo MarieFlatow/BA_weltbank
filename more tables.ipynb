{
 "cells": [
  {
   "cell_type": "code",
   "execution_count": 1,
   "id": "2b8708c4",
   "metadata": {},
   "outputs": [],
   "source": [
    "import pandas as pd"
   ]
  },
  {
   "cell_type": "code",
   "execution_count": 15,
   "id": "9c535106",
   "metadata": {},
   "outputs": [],
   "source": [
    "acronyms = {'SPI':'Statistical Perfomance Indicators', \n",
    "            'CPU':'Central Processing Unit', \n",
    "            'KNN':'k-Nearest-Neighbor', \n",
    "            'MICE':'Multiple Imputation by Chained Equations',\n",
    "            'ICE':'Imputation by Chained Equations',\n",
    "            'NaN':'Not a Number, hier genutzt als fehlender Wert',\n",
    "            'UN':'United Nations, Vereinte Nationen',\n",
    "            'EU':'Europäische Union',\n",
    "            'WDI':'World Developement Indicators',\n",
    "            'RMSE':'Root Mean Squared Error'\n",
    "            \n",
    "           }"
   ]
  },
  {
   "cell_type": "code",
   "execution_count": 7,
   "id": "1ee29c15",
   "metadata": {},
   "outputs": [
    {
     "data": {
      "text/plain": [
       "{'SPI': 'Statistical Perfomance Indicators',\n",
       " 'CPU': 'Central Processing Unit',\n",
       " 'KNN': 'k-Nearest-Neighbor',\n",
       " 'MICE': 'Multiple Imputation by Chained Equations',\n",
       " 'ICE': 'Imputation by Chained Equations',\n",
       " 'NaN': 'Not a Number, hier genutzt als fehlender Wert',\n",
       " 'UN': 'United Nations, Vereinte Nationen',\n",
       " 'EU': 'Europäische Union',\n",
       " 'WDI': 'World Developement Indicators',\n",
       " 'RMSE': 'Root Mean Squared Error, Fehlerquadrate'}"
      ]
     },
     "execution_count": 7,
     "metadata": {},
     "output_type": "execute_result"
    }
   ],
   "source": [
    "acronyms"
   ]
  },
  {
   "cell_type": "code",
   "execution_count": 16,
   "id": "64014663",
   "metadata": {},
   "outputs": [
    {
     "name": "stdout",
     "output_type": "stream",
     "text": [
      "\\begin{tabular}{ll}\n",
      "\\toprule\n",
      "{} &                                              0 \\\\\n",
      "\\midrule\n",
      "SPI  &              Statistical Perfomance Indicators \\\\\n",
      "CPU  &                        Central Processing Unit \\\\\n",
      "KNN  &                             k-Nearest-Neighbor \\\\\n",
      "MICE &       Multiple Imputation by Chained Equations \\\\\n",
      "ICE  &                Imputation by Chained Equations \\\\\n",
      "NaN  &  Not a Number, hier genutzt als fehlender Wert \\\\\n",
      "UN   &              United Nations, Vereinte Nationen \\\\\n",
      "EU   &                              Europäische Union \\\\\n",
      "WDI  &                  World Developement Indicators \\\\\n",
      "RMSE &                        Root Mean Squared Error \\\\\n",
      "\\bottomrule\n",
      "\\end{tabular}\n",
      "\n"
     ]
    },
    {
     "name": "stderr",
     "output_type": "stream",
     "text": [
      "C:\\Users\\mbfbr\\AppData\\Local\\Temp\\ipykernel_14396\\3436196820.py:1: FutureWarning: In future versions `DataFrame.to_latex` is expected to utilise the base implementation of `Styler.to_latex` for formatting and rendering. The arguments signature may therefore change. It is recommended instead to use `DataFrame.style.to_latex` which also contains additional functionality.\n",
      "  print(pd.DataFrame(acronyms, index=[0]).T.to_latex())\n"
     ]
    }
   ],
   "source": [
    "print(pd.DataFrame(acronyms, index=[0]).T.to_latex())"
   ]
  },
  {
   "cell_type": "code",
   "execution_count": null,
   "id": "505bd309",
   "metadata": {},
   "outputs": [],
   "source": []
  }
 ],
 "metadata": {
  "kernelspec": {
   "display_name": "Python 3 (ipykernel)",
   "language": "python",
   "name": "python3"
  },
  "language_info": {
   "codemirror_mode": {
    "name": "ipython",
    "version": 3
   },
   "file_extension": ".py",
   "mimetype": "text/x-python",
   "name": "python",
   "nbconvert_exporter": "python",
   "pygments_lexer": "ipython3",
   "version": "3.9.7"
  }
 },
 "nbformat": 4,
 "nbformat_minor": 5
}
