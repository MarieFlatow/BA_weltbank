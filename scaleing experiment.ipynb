{
 "cells": [
  {
   "cell_type": "markdown",
   "id": "052bcb63",
   "metadata": {},
   "source": [
    "# Experiment"
   ]
  },
  {
   "cell_type": "markdown",
   "id": "5253291d",
   "metadata": {},
   "source": [
    "Hier werden die Ausreißer in den Ergebnissen der 3% Durchläufe untersucht. Hierfür werden ausgewählte Imputationverfahren evaluiert, ohne sie vorher zu scalieren."
   ]
  },
  {
   "cell_type": "markdown",
   "id": "79e93d63",
   "metadata": {},
   "source": [
    "### Vorbereitung"
   ]
  },
  {
   "cell_type": "code",
   "execution_count": 1,
   "id": "d6a4c49c",
   "metadata": {},
   "outputs": [],
   "source": [
    "import pandas as pd\n",
    "import numpy as np\n",
    "import time\n",
    "\n",
    "import experiment\n",
    "from imputer import *"
   ]
  },
  {
   "cell_type": "code",
   "execution_count": 2,
   "id": "9349bed1",
   "metadata": {},
   "outputs": [],
   "source": [
    "t0 = time.time()\n",
    "results = []\n",
    "base = experiment.reset_base()"
   ]
  },
  {
   "cell_type": "code",
   "execution_count": 3,
   "id": "3c1614bb",
   "metadata": {},
   "outputs": [],
   "source": [
    "functions =  {'Backfill':impute_backfill, 'Overall Mean':impute_overall_means, \n",
    "              'Yearly Mean':impute_yearly_means, 'Yearly Mean per Region':impute_yearly_means_per_region, \n",
    "              'Interpolate 3':interpolate3, 'Interpolate all':interpolate_all, \n",
    "              'ICE 1':iterative_imputer1, 'ICE 2':iterative_imputer2, \n",
    "              'ICE 3':iterative_imputer3, 'MICE 1':mice_imputer, 'MICE 2':mice_imputer2, \n",
    "              'KNN 1':knn_imputer1, 'KNN 2':knn_imputer2\n",
    "             }"
   ]
  },
  {
   "cell_type": "code",
   "execution_count": 4,
   "id": "80dcdfc1",
   "metadata": {},
   "outputs": [],
   "source": [
    "def run_all(frac):\n",
    "    \n",
    "    #getting n different training sets\n",
    "    cords_list =[]\n",
    "    n = 7\n",
    "    for i in np.arange(1,n+1):\n",
    "        cords_list.append(experiment.get_cords(frac, i))\n",
    "    \n",
    "    #setting up two dictionaries to save detailed and averaged results\n",
    "    detailed_results = {}   \n",
    "    results = {}\n",
    "         \n",
    "    #itterating over dictionary of all imputers\n",
    "    for name, func in functions.items():\n",
    "        func_runs = []\n",
    "        print(name)\n",
    "        \n",
    "        #running each imputer n times on different training sets\n",
    "        for count, cords in enumerate(cords_list):            \n",
    "            print(f'run: {count+1}/{n}')\n",
    "            \n",
    "            #running current imputer and timeing runtime\n",
    "            t0 = time.time()\n",
    "            df= func(experiment.reset_train(cords)) \n",
    "            t1 = time.time()\n",
    "            t = t1-t0\n",
    "            \n",
    "            #evaluating run\n",
    "            func_runs.append(experiment.evaluate(df, t, cords))\n",
    "        \n",
    "        #print evaluation result of all runs of current imputer\n",
    "        print(func_runs)\n",
    "        print ('')\n",
    "        \n",
    "        #save detailed and averaged results\n",
    "        detailed_results[name] = func_runs\n",
    "        results[name] = np.mean(np.array(func_runs), axis=0)\n",
    "        \n",
    "    return results, detailed_results"
   ]
  },
  {
   "cell_type": "markdown",
   "id": "8d02d2c1",
   "metadata": {},
   "source": [
    "### Durchlauf mit 3% fehlenden Werten"
   ]
  },
  {
   "cell_type": "code",
   "execution_count": 5,
   "id": "da9bed85",
   "metadata": {},
   "outputs": [
    {
     "name": "stdout",
     "output_type": "stream",
     "text": [
      "Testdaten mit 3.0% fehlenden Werten (absolut: 5109)\n",
      "Testdaten mit 3.0% fehlenden Werten (absolut: 5109)\n",
      "Testdaten mit 3.0% fehlenden Werten (absolut: 5109)\n",
      "Testdaten mit 3.0% fehlenden Werten (absolut: 5109)\n",
      "Testdaten mit 3.0% fehlenden Werten (absolut: 5109)\n",
      "Testdaten mit 3.0% fehlenden Werten (absolut: 5109)\n",
      "Testdaten mit 3.0% fehlenden Werten (absolut: 5109)\n",
      "Backfill\n",
      "run: 1/7\n",
      "r2: 0.8050321942695272, rmse: 0.41014396064947206, t: 1.5170214176177979\n",
      "\n",
      "run: 2/7\n",
      "r2: 0.928916836453693, rmse: 0.2580152797743437, t: 1.479947566986084\n",
      "\n",
      "run: 3/7\n",
      "r2: 0.8580742751346473, rmse: 0.352383792177162, t: 1.4813783168792725\n",
      "\n",
      "run: 4/7\n",
      "r2: 0.8751756323359304, rmse: 0.36329463825630665, t: 1.4805912971496582\n",
      "\n",
      "run: 5/7\n",
      "r2: 0.8240985613045108, rmse: 0.42971101916958276, t: 1.494509220123291\n",
      "\n",
      "run: 6/7\n",
      "r2: 0.8883275971831258, rmse: 0.3029909242955271, t: 1.5613691806793213\n",
      "\n",
      "run: 7/7\n",
      "r2: 0.8739886195692419, rmse: 0.31142606682249746, t: 1.55983567237854\n",
      "\n",
      "[[0.8050321942695272, 0.41014396064947206, 135530, 1.5170214176177979], [0.928916836453693, 0.2580152797743437, 135514, 1.479947566986084], [0.8580742751346473, 0.352383792177162, 135555, 1.4813783168792725], [0.8751756323359304, 0.36329463825630665, 135512, 1.4805912971496582], [0.8240985613045108, 0.42971101916958276, 135536, 1.494509220123291], [0.8883275971831258, 0.3029909242955271, 135532, 1.5613691806793213], [0.8739886195692419, 0.31142606682249746, 135570, 1.55983567237854]]\n",
      "\n",
      "Overall Mean\n",
      "run: 1/7\n",
      "r2: -0.001385474411366605, rmse: 0.9251960837803808, t: 2.1260440349578857\n",
      "\n",
      "run: 2/7\n",
      "r2: -0.00048291572768754953, rmse: 1.027023261561716, t: 2.102682113647461\n",
      "\n",
      "run: 3/7\n",
      "r2: -0.0006452894962547528, rmse: 0.9463013991230679, t: 2.313730478286743\n",
      "\n",
      "run: 4/7\n",
      "r2: -0.0007007463939812109, rmse: 1.0175782297640967, t: 2.197376012802124\n",
      "\n",
      "run: 5/7\n",
      "r2: -0.00048022539825809396, rmse: 1.018085072482814, t: 2.1093549728393555\n",
      "\n",
      "run: 6/7\n",
      "r2: -0.0036144954877985747, rmse: 1.1097874483155779, t: 2.097743272781372\n",
      "\n",
      "run: 7/7\n",
      "r2: -0.001498007416106395, rmse: 0.8918878681498685, t: 2.092832565307617\n",
      "\n",
      "[[-0.001385474411366605, 0.9251960837803808, 0, 2.1260440349578857], [-0.00048291572768754953, 1.027023261561716, 0, 2.102682113647461], [-0.0006452894962547528, 0.9463013991230679, 0, 2.313730478286743], [-0.0007007463939812109, 1.0175782297640967, 0, 2.197376012802124], [-0.00048022539825809396, 1.018085072482814, 0, 2.1093549728393555], [-0.0036144954877985747, 1.1097874483155779, 0, 2.097743272781372], [-0.001498007416106395, 0.8918878681498685, 0, 2.092832565307617]]\n",
      "\n",
      "Yearly Mean\n",
      "run: 1/7\n",
      "r2: 0.017514348325472606, rmse: 0.9164235696988443, t: 1.7190101146697998\n",
      "\n",
      "run: 2/7\n",
      "r2: 0.016553412343628726, rmse: 1.01824158729801, t: 1.7336533069610596\n",
      "\n",
      "run: 3/7\n",
      "r2: 0.027406056667213408, rmse: 0.9329431599460477, t: 1.6677353382110596\n",
      "\n",
      "run: 4/7\n",
      "r2: 0.017498783890976255, rmse: 1.008282532385796, t: 1.7540380954742432\n",
      "\n",
      "run: 5/7\n",
      "r2: 0.009279828698734893, rmse: 1.0131070040631363, t: 1.6858878135681152\n",
      "\n",
      "run: 6/7\n",
      "r2: 0.009177997389633874, rmse: 1.1026918559325973, t: 1.6588678359985352\n",
      "\n",
      "run: 7/7\n",
      "r2: 0.022902901459029512, rmse: 0.8809557074117801, t: 1.6716418266296387\n",
      "\n",
      "[[0.017514348325472606, 0.9164235696988443, 52298, 1.7190101146697998], [0.016553412343628726, 1.01824158729801, 52298, 1.7336533069610596], [0.027406056667213408, 0.9329431599460477, 52298, 1.6677353382110596], [0.017498783890976255, 1.008282532385796, 52298, 1.7540380954742432], [0.009279828698734893, 1.0131070040631363, 52298, 1.6858878135681152], [0.009177997389633874, 1.1026918559325973, 52298, 1.6588678359985352], [0.022902901459029512, 0.8809557074117801, 52298, 1.6716418266296387]]\n",
      "\n",
      "Yearly Mean per Region\n",
      "run: 1/7\n",
      "r2: 0.22515330655395538, rmse: 0.8142815122429244, t: 2.02138352394104\n",
      "\n",
      "run: 2/7\n",
      "r2: 0.19343291610616797, rmse: 0.9239238873346381, t: 2.0523297786712646\n",
      "\n",
      "run: 3/7\n",
      "r2: 0.18180201733888002, rmse: 0.8572674156543098, t: 1.985475778579712\n",
      "\n",
      "run: 4/7\n",
      "r2: 0.19032713894265907, rmse: 0.9167665024938955, t: 1.9643776416778564\n",
      "\n",
      "run: 5/7\n",
      "r2: 0.1922397412758221, rmse: 0.9153010068529456, t: 1.9671556949615479\n",
      "\n",
      "run: 6/7\n",
      "r2: 0.14160862870404411, rmse: 1.028286045712645, t: 1.9252381324768066\n",
      "\n",
      "run: 7/7\n",
      "r2: 0.23227329159067456, rmse: 0.7819805458624891, t: 1.988266944885254\n",
      "\n",
      "[[0.22515330655395538, 0.8142815122429244, 57219, 2.02138352394104], [0.19343291610616797, 0.9239238873346381, 57283, 2.0523297786712646], [0.18180201733888002, 0.8572674156543098, 57227, 1.985475778579712], [0.19032713894265907, 0.9167665024938955, 57233, 1.9643776416778564], [0.1922397412758221, 0.9153010068529456, 57230, 1.9671556949615479], [0.14160862870404411, 1.028286045712645, 57219, 1.9252381324768066], [0.23227329159067456, 0.7819805458624891, 57240, 1.988266944885254]]\n",
      "\n",
      "Interpolate 3\n",
      "run: 1/7\n",
      "r2: 0.8070310148965548, rmse: 0.40739955275815487, t: 5.770171642303467\n",
      "\n",
      "run: 2/7\n",
      "r2: 0.9487035274724457, rmse: 0.23373046514188411, t: 5.024134635925293\n",
      "\n",
      "run: 3/7\n",
      "r2: 0.8723225746993879, rmse: 0.3401466968127914, t: 5.0373547077178955\n",
      "\n",
      "run: 4/7\n",
      "r2: 0.9217963557361348, rmse: 0.28336206101764977, t: 5.06075382232666\n",
      "\n",
      "run: 5/7\n",
      "r2: 0.93770952138902, rmse: 0.2542174743348536, t: 5.514704704284668\n",
      "\n",
      "run: 6/7\n",
      "r2: 0.6243400201662803, rmse: 0.6781000089652469, t: 5.477104663848877\n",
      "\n",
      "run: 7/7\n",
      "r2: 0.9287781769887942, rmse: 0.23684882285109438, t: 5.460178375244141\n",
      "\n",
      "[[0.8070310148965548, 0.40739955275815487, 134372, 5.770171642303467], [0.9487035274724457, 0.23373046514188411, 134346, 5.024134635925293], [0.8723225746993879, 0.3401466968127914, 134349, 5.0373547077178955], [0.9217963557361348, 0.28336206101764977, 134357, 5.06075382232666], [0.93770952138902, 0.2542174743348536, 134350, 5.514704704284668], [0.6243400201662803, 0.6781000089652469, 134355, 5.477104663848877], [0.9287781769887942, 0.23684882285109438, 134353, 5.460178375244141]]\n",
      "\n",
      "Interpolate all\n",
      "run: 1/7\n",
      "r2: 0.8079467465640428, rmse: 0.40667007157378604, t: 4.054398775100708\n",
      "\n",
      "run: 2/7\n",
      "r2: 0.9476105684751901, rmse: 0.2359896879610297, t: 4.104813575744629\n",
      "\n",
      "run: 3/7\n",
      "r2: 0.8725808505156292, rmse: 0.33946974711093303, t: 3.9393985271453857\n",
      "\n",
      "run: 4/7\n",
      "r2: 0.9222983483992852, rmse: 0.28311530450962225, t: 3.8290152549743652\n",
      "\n",
      "run: 5/7\n",
      "r2: 0.9371074328577851, rmse: 0.2551109360535566, t: 3.9956557750701904\n",
      "\n",
      "run: 6/7\n",
      "r2: 0.6248479486466169, rmse: 0.6767957690405678, t: 4.017094135284424\n",
      "\n",
      "run: 7/7\n",
      "r2: 0.9288217452590117, rmse: 0.2369834657206049, t: 4.00908637046814\n",
      "\n",
      "[[0.8079467465640428, 0.40667007157378604, 112682, 4.054398775100708], [0.9476105684751901, 0.2359896879610297, 112672, 4.104813575744629], [0.8725808505156292, 0.33946974711093303, 112692, 3.9393985271453857], [0.9222983483992852, 0.28311530450962225, 112717, 3.8290152549743652], [0.9371074328577851, 0.2551109360535566, 112660, 3.9956557750701904], [0.6248479486466169, 0.6767957690405678, 112681, 4.017094135284424], [0.9288217452590117, 0.2369834657206049, 112651, 4.00908637046814]]\n",
      "\n",
      "ICE 3\n",
      "run: 1/7\n",
      "[IterativeImputer] Completing matrix with shape (4898, 165)\n",
      "[IterativeImputer] Change: 356.66532253370235, scaled tolerance: 0.05665340229323228 \n",
      "[IterativeImputer] Change: 107.91039814658333, scaled tolerance: 0.05665340229323228 \n",
      "[IterativeImputer] Change: 36.41646574746386, scaled tolerance: 0.05665340229323228 \n",
      "[IterativeImputer] Change: 6.484573374156586, scaled tolerance: 0.05665340229323228 \n",
      "[IterativeImputer] Change: 1.6163860446596323, scaled tolerance: 0.05665340229323228 \n",
      "[IterativeImputer] Change: 1.1580902136540132, scaled tolerance: 0.05665340229323228 \n",
      "[IterativeImputer] Change: 1.2414474777332254, scaled tolerance: 0.05665340229323228 \n",
      "[IterativeImputer] Change: 0.9145239884149784, scaled tolerance: 0.05665340229323228 \n",
      "[IterativeImputer] Change: 0.5802978175161941, scaled tolerance: 0.05665340229323228 \n",
      "[IterativeImputer] Change: 0.545697322053059, scaled tolerance: 0.05665340229323228 \n"
     ]
    },
    {
     "name": "stderr",
     "output_type": "stream",
     "text": [
      "C:\\Users\\mbfbr\\Anaconda3\\envs\\other\\lib\\site-packages\\sklearn\\impute\\_iterative.py:699: ConvergenceWarning: [IterativeImputer] Early stopping criterion not reached.\n",
      "  warnings.warn(\n"
     ]
    },
    {
     "name": "stdout",
     "output_type": "stream",
     "text": [
      "r2: 0.8160170135420015, rmse: 0.39657193297187787, t: 160.04702830314636\n",
      "\n",
      "run: 2/7\n",
      "[IterativeImputer] Completing matrix with shape (4898, 165)\n",
      "[IterativeImputer] Change: 337.37134885018816, scaled tolerance: 0.05665340229323228 \n",
      "[IterativeImputer] Change: 112.03648420923652, scaled tolerance: 0.05665340229323228 \n",
      "[IterativeImputer] Change: 35.56681867523324, scaled tolerance: 0.05665340229323228 \n",
      "[IterativeImputer] Change: 7.872501847222356, scaled tolerance: 0.05665340229323228 \n",
      "[IterativeImputer] Change: 1.1246152729394487, scaled tolerance: 0.05665340229323228 \n",
      "[IterativeImputer] Change: 0.8539672145549266, scaled tolerance: 0.05665340229323228 \n",
      "[IterativeImputer] Change: 4.99112917739782, scaled tolerance: 0.05665340229323228 \n",
      "[IterativeImputer] Change: 0.6093257231167408, scaled tolerance: 0.05665340229323228 \n",
      "[IterativeImputer] Change: 0.7087490806163094, scaled tolerance: 0.05665340229323228 \n",
      "[IterativeImputer] Change: 0.5274037684098039, scaled tolerance: 0.05665340229323228 \n"
     ]
    },
    {
     "name": "stderr",
     "output_type": "stream",
     "text": [
      "C:\\Users\\mbfbr\\Anaconda3\\envs\\other\\lib\\site-packages\\sklearn\\impute\\_iterative.py:699: ConvergenceWarning: [IterativeImputer] Early stopping criterion not reached.\n",
      "  warnings.warn(\n"
     ]
    },
    {
     "name": "stdout",
     "output_type": "stream",
     "text": [
      "r2: 0.8045518652052257, rmse: 0.4539324258132192, t: 147.90535974502563\n",
      "\n",
      "run: 3/7\n",
      "[IterativeImputer] Completing matrix with shape (4898, 165)\n",
      "[IterativeImputer] Change: 336.2039629142481, scaled tolerance: 0.05665340229323228 \n",
      "[IterativeImputer] Change: 113.61486447885886, scaled tolerance: 0.05665340229323228 \n",
      "[IterativeImputer] Change: 29.790643981609012, scaled tolerance: 0.05665340229323228 \n",
      "[IterativeImputer] Change: 9.453246017719229, scaled tolerance: 0.05665340229323228 \n",
      "[IterativeImputer] Change: 2.209328430573106, scaled tolerance: 0.05665340229323228 \n",
      "[IterativeImputer] Change: 1.3980312429919128, scaled tolerance: 0.05665340229323228 \n",
      "[IterativeImputer] Change: 1.3678051210243214, scaled tolerance: 0.05665340229323228 \n",
      "[IterativeImputer] Change: 0.9616685401376509, scaled tolerance: 0.05665340229323228 \n",
      "[IterativeImputer] Change: 0.6859790153308467, scaled tolerance: 0.05665340229323228 \n",
      "[IterativeImputer] Change: 0.5453599377557168, scaled tolerance: 0.05665340229323228 \n"
     ]
    },
    {
     "name": "stderr",
     "output_type": "stream",
     "text": [
      "C:\\Users\\mbfbr\\Anaconda3\\envs\\other\\lib\\site-packages\\sklearn\\impute\\_iterative.py:699: ConvergenceWarning: [IterativeImputer] Early stopping criterion not reached.\n",
      "  warnings.warn(\n"
     ]
    },
    {
     "name": "stdout",
     "output_type": "stream",
     "text": [
      "r2: 0.7483105609712455, rmse: 0.474593625782185, t: 149.4348156452179\n",
      "\n",
      "run: 4/7\n",
      "[IterativeImputer] Completing matrix with shape (4898, 165)\n",
      "[IterativeImputer] Change: 328.636247941889, scaled tolerance: 0.05665340229323228 \n",
      "[IterativeImputer] Change: 106.48159386380027, scaled tolerance: 0.05665340229323228 \n",
      "[IterativeImputer] Change: 33.279528844022394, scaled tolerance: 0.05665340229323228 \n",
      "[IterativeImputer] Change: 6.689808832434508, scaled tolerance: 0.05665340229323228 \n",
      "[IterativeImputer] Change: 3.1120235670135283, scaled tolerance: 0.05665340229323228 \n",
      "[IterativeImputer] Change: 1.607631796566388, scaled tolerance: 0.05665340229323228 \n",
      "[IterativeImputer] Change: 0.8843238637592368, scaled tolerance: 0.05665340229323228 \n",
      "[IterativeImputer] Change: 0.49918206558623124, scaled tolerance: 0.05665340229323228 \n",
      "[IterativeImputer] Change: 0.3716946725952704, scaled tolerance: 0.05665340229323228 \n",
      "[IterativeImputer] Change: 0.36533940432982837, scaled tolerance: 0.05665340229323228 \n"
     ]
    },
    {
     "name": "stderr",
     "output_type": "stream",
     "text": [
      "C:\\Users\\mbfbr\\Anaconda3\\envs\\other\\lib\\site-packages\\sklearn\\impute\\_iterative.py:699: ConvergenceWarning: [IterativeImputer] Early stopping criterion not reached.\n",
      "  warnings.warn(\n"
     ]
    },
    {
     "name": "stdout",
     "output_type": "stream",
     "text": [
      "r2: 0.8067005552605703, rmse: 0.4472300723777, t: 155.4999303817749\n",
      "\n",
      "run: 5/7\n",
      "[IterativeImputer] Completing matrix with shape (4898, 165)\n",
      "[IterativeImputer] Change: 352.6998770827351, scaled tolerance: 0.05665340229323228 \n",
      "[IterativeImputer] Change: 106.28405598946199, scaled tolerance: 0.05665340229323228 \n",
      "[IterativeImputer] Change: 29.743548988842434, scaled tolerance: 0.05665340229323228 \n",
      "[IterativeImputer] Change: 6.630473898902364, scaled tolerance: 0.05665340229323228 \n",
      "[IterativeImputer] Change: 4.223607583235861, scaled tolerance: 0.05665340229323228 \n"
     ]
    },
    {
     "name": "stderr",
     "output_type": "stream",
     "text": [
      "\n",
      "KeyboardInterrupt\n",
      "\n"
     ]
    }
   ],
   "source": [
    "r1, r1_detail = run_all(0.03)"
   ]
  },
  {
   "cell_type": "code",
   "execution_count": null,
   "id": "66f7e478",
   "metadata": {},
   "outputs": [],
   "source": [
    "r1 = pd.DataFrame(r1).T\n",
    "r1"
   ]
  },
  {
   "cell_type": "code",
   "execution_count": null,
   "id": "7703095f",
   "metadata": {},
   "outputs": [],
   "source": [
    "r1_detail = pd.DataFrame(pd.DataFrame(r1_detail).T.stack().to_dict()).T\n",
    "r1_detail.columns = ['r2', 'rmse', 'still_missing', 't']\n",
    "r1_detail"
   ]
  },
  {
   "cell_type": "markdown",
   "id": "5431e21a",
   "metadata": {},
   "source": [
    "### Durchlauf mit 5% fehlenden Werten"
   ]
  },
  {
   "cell_type": "code",
   "execution_count": null,
   "id": "f22323d7",
   "metadata": {},
   "outputs": [],
   "source": [
    "r2 , r2_detail =  run_all(0.05)"
   ]
  },
  {
   "cell_type": "code",
   "execution_count": null,
   "id": "6059594d",
   "metadata": {},
   "outputs": [],
   "source": [
    "r2 = pd.DataFrame(r2).T\n",
    "r2"
   ]
  },
  {
   "cell_type": "code",
   "execution_count": null,
   "id": "aec03b22",
   "metadata": {},
   "outputs": [],
   "source": [
    "r2_detail = pd.DataFrame(pd.DataFrame(r2_detail).T.stack().to_dict()).T\n",
    "r2_detail.columns = ['r2', 'rmse', 'still_missing', 't']\n",
    "r2_detail"
   ]
  },
  {
   "cell_type": "markdown",
   "id": "a5376949",
   "metadata": {},
   "source": [
    "### Durchlauf mit 10% fehlenden Werten"
   ]
  },
  {
   "cell_type": "code",
   "execution_count": null,
   "id": "ab7291e6",
   "metadata": {},
   "outputs": [],
   "source": [
    "r3, r3_detail = run_all(0.1)"
   ]
  },
  {
   "cell_type": "code",
   "execution_count": null,
   "id": "08ba68b6",
   "metadata": {},
   "outputs": [],
   "source": [
    "r3 = pd.DataFrame(r3).T\n",
    "r3"
   ]
  },
  {
   "cell_type": "code",
   "execution_count": null,
   "id": "941e7716",
   "metadata": {
    "scrolled": true
   },
   "outputs": [],
   "source": [
    "r3_detail = pd.DataFrame(pd.DataFrame(r3_detail).T.stack().to_dict()).T\n",
    "r3_detail.columns = ['r2', 'rmse', 'still_missing', 't']\n",
    "r3_detail"
   ]
  },
  {
   "cell_type": "markdown",
   "id": "dd17424e",
   "metadata": {},
   "source": [
    "### Imputationverfahren auf Originaldatensatz anwenden"
   ]
  },
  {
   "cell_type": "code",
   "execution_count": null,
   "id": "6aee1b9a",
   "metadata": {},
   "outputs": [],
   "source": [
    "for name, func in functions.items():\n",
    "    print(name)\n",
    "\n",
    "    t0 = time.time()\n",
    "    df= func(experiment.reset_base()) \n",
    "    t1 = time.time()\n",
    "    t = t1-t0\n",
    "\n",
    "    print(f'{round(t, 2)}s vergangen')\n",
    "    print('')\n",
    "    #df.to_csv(f'additional_data/imputed_sets/{name}.csv')"
   ]
  },
  {
   "cell_type": "markdown",
   "id": "c8f5f4fe",
   "metadata": {},
   "source": [
    "### Ergebnisse abspeichern"
   ]
  },
  {
   "cell_type": "code",
   "execution_count": null,
   "id": "c3c8cd84",
   "metadata": {},
   "outputs": [],
   "source": [
    "t1 = time.time()\n",
    "t = t1-t0\n",
    "print(f'comlete runtime: {t/60}min')"
   ]
  },
  {
   "cell_type": "code",
   "execution_count": null,
   "id": "4ae2aaa1",
   "metadata": {},
   "outputs": [],
   "source": [
    "sets = {'r1':r1, 'r1_detail':r1_detail,\n",
    "       'r2':r2, 'r2_detail':r2_detail,\n",
    "       'r3':r3, 'r3_detail':r3_detail,}\n",
    "#for name, df in sets.items():\n",
    "#    df.to_csv(f'additional_data/results/{name}.csv')"
   ]
  }
 ],
 "metadata": {
  "kernelspec": {
   "display_name": "Python 3 (ipykernel)",
   "language": "python",
   "name": "python3"
  },
  "language_info": {
   "codemirror_mode": {
    "name": "ipython",
    "version": 3
   },
   "file_extension": ".py",
   "mimetype": "text/x-python",
   "name": "python",
   "nbconvert_exporter": "python",
   "pygments_lexer": "ipython3",
   "version": "3.9.7"
  }
 },
 "nbformat": 4,
 "nbformat_minor": 5
}
